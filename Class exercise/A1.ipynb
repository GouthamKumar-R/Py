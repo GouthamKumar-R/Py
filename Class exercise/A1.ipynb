{
 "cells": [
  {
   "cell_type": "markdown",
   "metadata": {},
   "source": [
    "# Introduction to Python\n",
    "## Assignment 1\n",
    "\n",
    "\n"
   ]
  },
  {
   "cell_type": "markdown",
   "metadata": {},
   "source": [
    "<div style=\"text-align: right\">Submitted by: Goutham Kumar R <br/>Notebook created on: 28th August 2020</div>"
   ]
  },
  {
   "cell_type": "markdown",
   "metadata": {},
   "source": [
    "**Write Python Program for the following:**"
   ]
  },
  {
   "cell_type": "markdown",
   "metadata": {},
   "source": [
    "1.\tRamesh’s basic salary is input through the keyboard. His dearness allowance is 40% of basic salary, and house rent allowance is 20% of basic salary. Write a program to calculate his gross salary."
   ]
  },
  {
   "cell_type": "code",
   "execution_count": 2,
   "metadata": {},
   "outputs": [
    {
     "name": "stdout",
     "output_type": "stream",
     "text": [
      "Enter the basic pay in integers:5000\n",
      "The total gross pay is  8000.0\n"
     ]
    }
   ],
   "source": [
    "x = int(input(\"Enter the basic pay in integers:\"))  #enter the basic pay\n",
    "d_allowance = x *0.4\n",
    "r_allowance = x *0.2\n",
    "gross = x + d_allowance + r_allowance\n",
    "print(\"The total gross pay is \",gross)"
   ]
  },
  {
   "cell_type": "markdown",
   "metadata": {},
   "source": [
    "2.\tThe distance between two cities (in km.) is input through the keyboard. Write a program to convert and print this distance in meters, feet, inches and centimeters.\n"
   ]
  },
  {
   "cell_type": "code",
   "execution_count": 4,
   "metadata": {},
   "outputs": [
    {
     "name": "stdout",
     "output_type": "stream",
     "text": [
      "Enter the distancce in Km:52\n",
      "The distance in \n",
      "1.Meters: 52000 m. \n",
      "2.Feet: 170612 ft. \n",
      "3.Inches: 2047240 in. \n",
      "4.Centimeters: 5200000 cm.\n"
     ]
    }
   ],
   "source": [
    "a = int(input(\"Enter the distancce in Km:\"))     #enter the distance in km\n",
    "print(\"The distance in \\n1.Meters:\",a*1000,\"m.\",\"\\n2.Feet:\",a*3281,\"ft.\",\"\\n3.Inches:\",a*39370,\"in.\",\"\\n4.Centimeters:\",a*100000,\"cm.\")"
   ]
  },
  {
   "cell_type": "markdown",
   "metadata": {},
   "source": [
    "3.\tIf the marks obtained by a student in five different subjects are input through the keyboard, find out the aggregate marks and percentage marks obtained by the student. Assume that the maximum marks that can be obtained by a student in each subject is 100."
   ]
  },
  {
   "cell_type": "code",
   "execution_count": 6,
   "metadata": {},
   "outputs": [
    {
     "name": "stdout",
     "output_type": "stream",
     "text": [
      "Enter the mark for one subject:785\n",
      "Please enter a valid mark from range 0 to 100.\n",
      "Enter the mark for one subject:78\n",
      "Enter the mark for one subject:85\n",
      "Enter the mark for one subject:95\n",
      "Enter the mark for one subject:65\n",
      "Enter the mark for one subject:45\n",
      "Total marks: 368 \n",
      "Percentage obatined: 73.6\n"
     ]
    }
   ],
   "source": [
    "t = 0\n",
    "count = 0\n",
    "\n",
    "while 1:\n",
    "    s = int(input(\"Enter the mark for one subject:\"))\n",
    "    if s <=100:\n",
    "        t += s\n",
    "        count += 1\n",
    "        if count == 5:\n",
    "            break\n",
    "    else:\n",
    "        print(\"Please enter a valid mark from range 0 to 100.\")\n",
    "print(\"Total marks:\",t,\"\\nPercentage obatined:\",round(t*0.2,2)) #t*0.2 is equivalent to (t/500)*100"
   ]
  },
  {
   "cell_type": "markdown",
   "metadata": {},
   "source": [
    "4.\tTemperature of a city in Fahrenheit degrees is input through the keyboard. Write a program to convert this temperature into Centigrade degrees."
   ]
  },
  {
   "cell_type": "code",
   "execution_count": 9,
   "metadata": {},
   "outputs": [
    {
     "name": "stdout",
     "output_type": "stream",
     "text": [
      "Enter the temperature of the city in Fahrenheit:52\n",
      "Temp in Celsisus is  11.11 c.\n"
     ]
    }
   ],
   "source": [
    "f = int(input(\"Enter the temperature of the city in Fahrenheit:\"))\n",
    "\n",
    "print(\"Temp in Celsisus is \",round((f-32)*(5/9),2), \"c.\")  #using f to c formula and rounding up"
   ]
  },
  {
   "cell_type": "markdown",
   "metadata": {},
   "source": [
    "5.\tThe length & breadth of a rectangle and radius of a circle are input through the keyboard. Write a program to calculate the area & perimeter of the rectangle, and the area & circumference of the circle."
   ]
  },
  {
   "cell_type": "code",
   "execution_count": 4,
   "metadata": {},
   "outputs": [
    {
     "name": "stdout",
     "output_type": "stream",
     "text": [
      "Enter the length of the rectangle: 10\n",
      "Enter the breadth of the rectangle: 2\n",
      "The area of the rectangle is: 20 and Perimeter of the rectangle is: 24\n",
      "\n",
      "Enter the radius of the circle: 5\n",
      "The are of the circle is: 78.5  Circumference of the circle is: 31.4\n"
     ]
    }
   ],
   "source": [
    "\n",
    "def rectangle():\n",
    "    L = int(input(\"Enter the length of the rectangle: \"))\n",
    "    B = int(input(\"Enter the breadth of the rectangle: \"))\n",
    "    a_r = 0\n",
    "    p_r = 0\n",
    "\n",
    "    print(\"The area of the rectangle is:\",(L*B),\"and Perimeter of the rectangle is:\",(2*(L+B)))\n",
    "    \n",
    "def circle():\n",
    "    R = int((input(\"\\nEnter the radius of the circle: \")))\n",
    "    a_c = 0\n",
    "    pi = 3.14\n",
    "    c_c = 0\n",
    "    print(\"The are of the circle is:\", (pi*(R**2)),\" Circumference of the circle is:\",round((2*pi*R),2))\n",
    "          \n",
    "rectangle()\n",
    "circle()"
   ]
  },
  {
   "cell_type": "markdown",
   "metadata": {},
   "source": [
    "6.\tTwo numbers are input through the keyboard into two locations C and D. Write a program to interchange the contents of C and D."
   ]
  },
  {
   "cell_type": "code",
   "execution_count": 5,
   "metadata": {},
   "outputs": [
    {
     "name": "stdout",
     "output_type": "stream",
     "text": [
      "Enter the no, to be stored in C :5\n",
      "Enter the no. to be stored in D :99\n",
      "\n",
      "*Variables after swapping*\n",
      "\n",
      " C =  99 D =  5\n"
     ]
    }
   ],
   "source": [
    "C = int(input(\"Enter the no, to be stored in C :\"))\n",
    "D = int(input(\"Enter the no. to be stored in D :\"))\n",
    "\n",
    "C , D = D , C\n",
    "\n",
    "print(\"\\n*Variables after swapping*\")\n",
    "\n",
    "print(\"\\n C = \", C, \"D = \", D)"
   ]
  },
  {
   "cell_type": "markdown",
   "metadata": {},
   "source": [
    "7.\tIf a five-digit number is input through the keyboard, write a program to reverse the number."
   ]
  },
  {
   "cell_type": "code",
   "execution_count": 2,
   "metadata": {},
   "outputs": [
    {
     "name": "stdout",
     "output_type": "stream",
     "text": [
      "Enter a five digit no:12345\n",
      "After reversing: 54321\n"
     ]
    }
   ],
   "source": [
    "n  = int(input(\"Enter a five digit no:\"))\n",
    "x = 0\n",
    "a = 0\n",
    "while n > 0:\n",
    "    a = n % 10     #getting the last digit\n",
    "    x = x * 10 + a\n",
    "    n = n//10\n",
    "print(\"After reversing:\",x)"
   ]
  },
  {
   "cell_type": "markdown",
   "metadata": {},
   "source": [
    "8.\tIf a four-digit number is input through the keyboard, write a program to obtain the sum of the first and last digit of this number."
   ]
  },
  {
   "cell_type": "code",
   "execution_count": 2,
   "metadata": {},
   "outputs": [
    {
     "name": "stdout",
     "output_type": "stream",
     "text": [
      "Enter a four digit no:1234\n",
      "The sum of First and Last digit is: 1238\n"
     ]
    }
   ],
   "source": [
    "m = int(input(\"Enter a four digit no:\"))\n",
    "add = 0\n",
    "x = 0\n",
    "add = m % 10\n",
    "x = m % 10000\n",
    "add += x\n",
    "print(\"The sum of First and Last digit is:\", add)"
   ]
  },
  {
   "cell_type": "code",
   "execution_count": null,
   "metadata": {},
   "outputs": [],
   "source": []
  }
 ],
 "metadata": {
  "kernelspec": {
   "display_name": "Python 3",
   "language": "python",
   "name": "python3"
  },
  "language_info": {
   "codemirror_mode": {
    "name": "ipython",
    "version": 3
   },
   "file_extension": ".py",
   "mimetype": "text/x-python",
   "name": "python",
   "nbconvert_exporter": "python",
   "pygments_lexer": "ipython3",
   "version": "3.7.6"
  },
  "toc": {
   "base_numbering": 1,
   "nav_menu": {},
   "number_sections": false,
   "sideBar": true,
   "skip_h1_title": true,
   "title_cell": "Table of Contents",
   "title_sidebar": "Contents",
   "toc_cell": false,
   "toc_position": {
    "height": "calc(100% - 180px)",
    "left": "10px",
    "top": "150px",
    "width": "192px"
   },
   "toc_section_display": true,
   "toc_window_display": false
  }
 },
 "nbformat": 4,
 "nbformat_minor": 4
}
