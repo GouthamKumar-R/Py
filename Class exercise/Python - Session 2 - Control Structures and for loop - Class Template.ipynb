{
 "cells": [
  {
   "cell_type": "markdown",
   "metadata": {},
   "source": [
    "session 3 - Date - 24th Aug 2020"
   ]
  },
  {
   "cell_type": "markdown",
   "metadata": {},
   "source": [
    "### A. Things you already know:\n",
    "\n",
    "* Boolean expression\n",
    "* Logical operators\n",
    "* Logical expressions (if:, else if:, else:)\n",
    "\n",
    "*Note: In Python **else if** is written as **elif** *"
   ]
  },
  {
   "cell_type": "markdown",
   "metadata": {},
   "source": [
    "### B. Introducing elif:"
   ]
  },
  {
   "cell_type": "code",
   "execution_count": 2,
   "metadata": {},
   "outputs": [
    {
     "name": "stdout",
     "output_type": "stream",
     "text": [
      "Enter a number: 56560\n",
      "Positive\n"
     ]
    }
   ],
   "source": [
    "number = int(input(\"Enter a number: \"))\n",
    "\n",
    "if number > 0:\n",
    "    print(\"Positive\")\n",
    "elif number < 0:\n",
    "    print(\"Negative\")\n",
    "else:\n",
    "    print(\"Zero\")"
   ]
  },
  {
   "cell_type": "markdown",
   "metadata": {},
   "source": [
    "#### Exercise:\n",
    "\n",
    "**Recall the problem:**\n",
    "\n",
    "For a certain academic subject the students are evaluated based on five tests -\n",
    "\n",
    "* Quiz 1 (20 marks - 10% Weight),\n",
    "* Quiz 2 (20 marks - 10% Weight),\n",
    "* Class test (50 marks - 25% Weight),\n",
    "* Assignment (100 marks - 25% weight) and\n",
    "* Project (200 marks - 30% weight).\n",
    "\n",
    "Design a program that will prompt the user for marks for each of the tests and calculate the overall marks (out of 100).\n"
   ]
  },
  {
   "cell_type": "markdown",
   "metadata": {},
   "source": [
    "#### Add an extension to the problem to display grades:\n",
    "\n",
    "Display the grades of students using the following table:\n",
    "\n",
    "    Score\t\tGrade\n",
    "\t>= 60\t\tFirst Class\n",
    "\t>= 40\t\tSecond Class\n",
    "\t< 40\t\tFail\n"
   ]
  },
  {
   "cell_type": "code",
   "execution_count": 6,
   "metadata": {},
   "outputs": [
    {
     "name": "stdout",
     "output_type": "stream",
     "text": [
      "Enter the marks obatined in Quiz1 out of 20:15\n",
      "Enter the marks obatined in Quiz2 out of 20:15\n",
      "Enter the marks obatined in class test out of 50:45\n",
      "Enter the marks obatined in assignment out of 100:95\n",
      "Enter the marks obatined in Project out of 200:195\n",
      "Total Marks obtained is: 90.5\n",
      "Your grade is - First Class\n"
     ]
    }
   ],
   "source": [
    "#simpler code - from previous seesion\n",
    "\n",
    "q1 = (int(input(\"Enter the marks obatined in Quiz1 out of 20:\"))/20) * 0.10\n",
    "q2 = (int(input(\"Enter the marks obatined in Quiz2 out of 20:\"))/20) * 0.10\n",
    "ct = (int(input(\"Enter the marks obatined in class test out of 50:\"))/50) * 0.25\n",
    "assg = (int(input(\"Enter the marks obatined in assignment out of 100:\"))/100) * 0.25\n",
    "prj = (int(input(\"Enter the marks obatined in Project out of 200:\"))/200) * 0.30\n",
    "\n",
    "total = (q1 +q2 +ct +assg +prj)*100\n",
    "print(\"Total Marks obtained is:\" , total)\n",
    "\n",
    "if total>=60:\n",
    "    print(\"Your grade is - First Class\")\n",
    "elif total>=40:\n",
    "    print(\"Your grade is - Second Class\")\n",
    "else:\n",
    "    print(\"Your grade is Fail\")"
   ]
  },
  {
   "cell_type": "markdown",
   "metadata": {},
   "source": [
    "#### Exercise:\n",
    "\n",
    "** Recall the problem:**\n",
    "\n",
    "How about prompting the user for the number of hours and using the input value to compute the total pay?"
   ]
  },
  {
   "cell_type": "markdown",
   "metadata": {},
   "source": [
    "** Include a modification **\n",
    "\n",
    "Write a program to prompt the user for hours and rate per hour to compute the gross pay. The pay computation should be such that the employees should get 1.5 times the hourly rate for hours worked above 40 hours."
   ]
  },
  {
   "cell_type": "code",
   "execution_count": 12,
   "metadata": {},
   "outputs": [
    {
     "name": "stdout",
     "output_type": "stream",
     "text": [
      "Enter the total working hrs:45\n",
      "Enter the rate: 12\n",
      "GrossPay =  570.0\n"
     ]
    }
   ],
   "source": [
    "x = eval(input(\"Enter the total working hrs:\"))\n",
    "rate = eval(input(\"Enter the rate: \"))\n",
    "gp = 0\n",
    "if x >40:\n",
    "    gp = 40*12 + (x-40)*12*1.5\n",
    "else:\n",
    "    gp = (rate*x)\n",
    "print(\"GrossPay = \", gp)"
   ]
  },
  {
   "cell_type": "markdown",
   "metadata": {},
   "source": [
    "### C. Exception Handling:"
   ]
  },
  {
   "cell_type": "markdown",
   "metadata": {},
   "source": [
    "#try and except\n",
    "try:\n",
    "    code\n",
    "except:\n",
    "    print(\"the entry is invalid\")\n"
   ]
  },
  {
   "cell_type": "markdown",
   "metadata": {},
   "source": [
    "**try & except**"
   ]
  },
  {
   "cell_type": "markdown",
   "metadata": {},
   "source": [
    "Rewrite the pay program (refer problem 2) using try and expect so that the program handles non-numeric input gracefully by printing a message and exiting the program. The following shows two executions of the program:\n",
    "\n",
    "\tEnter hours: 20\n",
    "\tEnter rate:  nine\n",
    "\tError, please enter numeric input"
   ]
  },
  {
   "cell_type": "code",
   "execution_count": 13,
   "metadata": {},
   "outputs": [
    {
     "name": "stdout",
     "output_type": "stream",
     "text": [
      "Enter the total working hrs:ten\n",
      "Invalid entry, start again\n"
     ]
    }
   ],
   "source": [
    "try:\n",
    "    x = eval(input(\"Enter the total working hrs:\"))\n",
    "    rate = eval(input(\"Enter the rate: \"))\n",
    "    gp = 0\n",
    "    if x >40:\n",
    "        gp = 40*12 + (x-40)*12*1.5\n",
    "    else:\n",
    "        gp = (rate*x)\n",
    "    print(\"GrossPay = \", gp)\n",
    "except:\n",
    "    print(\"Invalid entry, start again\")"
   ]
  },
  {
   "cell_type": "code",
   "execution_count": 17,
   "metadata": {},
   "outputs": [
    {
     "name": "stdout",
     "output_type": "stream",
     "text": [
      "Enter the total working hrs:ten\n",
      "Invaild entry, start again\n"
     ]
    }
   ],
   "source": [
    "#multiple excpetion\n",
    "try:\n",
    "    x = eval(input(\"Enter the total working hrs:\"))\n",
    "    rate = eval(input(\"Enter the rate: \"))\n",
    "    gp = 0\n",
    "    if x >40:\n",
    "        gp = 40*12 + (x-40)*12*1.5\n",
    "    else:\n",
    "        gp = (rate*x)\n",
    "    print(\"GrossPay = \", gp)\n",
    "except (ValueError, NameError, SyntaxError):\n",
    "    print(\"Invaild entry, start again\")\n",
    "    "
   ]
  },
  {
   "cell_type": "markdown",
   "metadata": {},
   "source": [
    "### D. For Loop"
   ]
  },
  {
   "cell_type": "markdown",
   "metadata": {},
   "source": [
    "** Consider the following list of number **\n",
    "    \n",
    "    L = [12,18,11,15,9,7,16]"
   ]
  },
  {
   "cell_type": "code",
   "execution_count": 19,
   "metadata": {},
   "outputs": [],
   "source": [
    "L = [12,18,11,15,9,7,16]"
   ]
  },
  {
   "cell_type": "code",
   "execution_count": 24,
   "metadata": {},
   "outputs": [
    {
     "name": "stdout",
     "output_type": "stream",
     "text": [
      "12,18,11,15,9,7,16,"
     ]
    }
   ],
   "source": [
    "for i in range(len(L)):\n",
    "    print(L[i], end=',')"
   ]
  },
  {
   "cell_type": "markdown",
   "metadata": {},
   "source": [
    "**1. Calculating the sum of numbers in a list. **"
   ]
  },
  {
   "cell_type": "code",
   "execution_count": 26,
   "metadata": {},
   "outputs": [
    {
     "name": "stdout",
     "output_type": "stream",
     "text": [
      "The sum of the list is : 88\n"
     ]
    }
   ],
   "source": [
    "s = 0\n",
    "for j in range(len(L)):\n",
    "    s += L[j]\n",
    "    j += 1\n",
    "print(\"The sum of the list is :\", s)"
   ]
  },
  {
   "cell_type": "markdown",
   "metadata": {},
   "source": [
    "** 2. Counting the number of elements present in a list. **"
   ]
  },
  {
   "cell_type": "code",
   "execution_count": 27,
   "metadata": {},
   "outputs": [
    {
     "name": "stdout",
     "output_type": "stream",
     "text": [
      "Total no. of elements in the list is : 7\n"
     ]
    }
   ],
   "source": [
    "count = 0\n",
    "for k in range(len(L)):\n",
    "    count += 1\n",
    "print(\"Total no. of elements in the list is :\", count)"
   ]
  },
  {
   "cell_type": "markdown",
   "metadata": {},
   "source": [
    "** 3. Finding the largest number in a sequence.**"
   ]
  },
  {
   "cell_type": "code",
   "execution_count": 28,
   "metadata": {},
   "outputs": [
    {
     "name": "stdout",
     "output_type": "stream",
     "text": [
      "18\n"
     ]
    }
   ],
   "source": [
    "L.sort()\n",
    "print(L[-1])"
   ]
  },
  {
   "cell_type": "code",
   "execution_count": 29,
   "metadata": {},
   "outputs": [
    {
     "name": "stdout",
     "output_type": "stream",
     "text": [
      "18\n"
     ]
    }
   ],
   "source": [
    "print(max(L))"
   ]
  },
  {
   "cell_type": "code",
   "execution_count": 42,
   "metadata": {},
   "outputs": [
    {
     "name": "stdout",
     "output_type": "stream",
     "text": [
      "The largest no. of the list is:  18\n"
     ]
    }
   ],
   "source": [
    "maax = L[0]\n",
    "for i in range(len(L)):\n",
    "    if L[i] > maax:\n",
    "        maax = L[i]\n",
    "print(\"The largest no. of the list is: \", maax)   "
   ]
  },
  {
   "cell_type": "markdown",
   "metadata": {},
   "source": [
    "** 4. Finding the smallest number in a sequence. **"
   ]
  },
  {
   "cell_type": "code",
   "execution_count": 36,
   "metadata": {},
   "outputs": [
    {
     "name": "stdout",
     "output_type": "stream",
     "text": [
      "7\n"
     ]
    }
   ],
   "source": [
    "L.sort()\n",
    "print(L[0])"
   ]
  },
  {
   "cell_type": "code",
   "execution_count": 37,
   "metadata": {},
   "outputs": [
    {
     "name": "stdout",
     "output_type": "stream",
     "text": [
      "7\n"
     ]
    }
   ],
   "source": [
    "print(min(L))"
   ]
  },
  {
   "cell_type": "code",
   "execution_count": 43,
   "metadata": {},
   "outputs": [
    {
     "name": "stdout",
     "output_type": "stream",
     "text": [
      "The lowest no. is:  7\n"
     ]
    }
   ],
   "source": [
    "miin = L[0]\n",
    "for i in range(len(L)):\n",
    "    if L[i]< miin:\n",
    "        miin = L[i]\n",
    "print(\"The lowest no. is: \", miin)"
   ]
  },
  {
   "cell_type": "markdown",
   "metadata": {},
   "source": [
    "### E. Introducing range()"
   ]
  },
  {
   "cell_type": "code",
   "execution_count": null,
   "metadata": {},
   "outputs": [],
   "source": []
  },
  {
   "cell_type": "markdown",
   "metadata": {},
   "source": [
    "**1. Calculate the sum of first n integers**"
   ]
  },
  {
   "cell_type": "code",
   "execution_count": null,
   "metadata": {},
   "outputs": [],
   "source": []
  },
  {
   "cell_type": "code",
   "execution_count": null,
   "metadata": {},
   "outputs": [],
   "source": []
  },
  {
   "cell_type": "markdown",
   "metadata": {},
   "source": [
    "**2. Calculate the mean of the first n integers.**"
   ]
  },
  {
   "cell_type": "code",
   "execution_count": null,
   "metadata": {
    "collapsed": true
   },
   "outputs": [],
   "source": []
  },
  {
   "cell_type": "markdown",
   "metadata": {},
   "source": [
    "**3. Calculate the standard deviation of the first n integers**"
   ]
  },
  {
   "cell_type": "code",
   "execution_count": null,
   "metadata": {
    "collapsed": true
   },
   "outputs": [],
   "source": []
  }
 ],
 "metadata": {
  "kernelspec": {
   "display_name": "Python 3",
   "language": "python",
   "name": "python3"
  },
  "language_info": {
   "codemirror_mode": {
    "name": "ipython",
    "version": 3
   },
   "file_extension": ".py",
   "mimetype": "text/x-python",
   "name": "python",
   "nbconvert_exporter": "python",
   "pygments_lexer": "ipython3",
   "version": "3.7.6"
  },
  "toc": {
   "base_numbering": 1,
   "nav_menu": {},
   "number_sections": false,
   "sideBar": true,
   "skip_h1_title": false,
   "title_cell": "Table of Contents",
   "title_sidebar": "Contents",
   "toc_cell": false,
   "toc_position": {},
   "toc_section_display": true,
   "toc_window_display": false
  }
 },
 "nbformat": 4,
 "nbformat_minor": 2
}
