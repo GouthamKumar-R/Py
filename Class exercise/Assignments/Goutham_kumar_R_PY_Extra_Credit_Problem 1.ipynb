{
 "cells": [
  {
   "cell_type": "markdown",
   "metadata": {},
   "source": [
    "# Password Management Sys.\n",
    "## Assignment"
   ]
  },
  {
   "cell_type": "markdown",
   "metadata": {},
   "source": [
    "**Extra credit problem**"
   ]
  },
  {
   "cell_type": "markdown",
   "metadata": {},
   "source": [
    "<div style=\"text-align: right\">Submitted by: Goutham Kumar R <br/>Notebook created on: 31st August 2020</div>"
   ]
  },
  {
   "cell_type": "code",
   "execution_count": null,
   "metadata": {},
   "outputs": [],
   "source": [
    "def wait(n=30):   #wait fn given by gourab sir // copied from stackoverflow\n",
    "    \n",
    "    import sys\n",
    "    import time\n",
    "    for remaining in range(n, 0, -1):\n",
    "        sys.stdout.write(\"\\r%d seconds remaining.\" %remaining)\n",
    "        time.sleep(1)\n",
    "  \n",
    "def psw():\n",
    "    \"\"\"Password management fn\n",
    "        Default password is 'admin'.\n",
    "        5 attempts will be given, before locking the system for a certain duration.\n",
    "        after that user can retry.\n",
    "        forgot pswd : will prompt an hint\n",
    "        returns c - counter after the n incorrect attempts. \"\"\"\n",
    "    c = 0  #counter for incorret attempts\n",
    "    while 1:\n",
    "        pswd = input(\"Enter the password:\")\n",
    "        \n",
    "        if pswd.lower() == 'x':   #exits the pswd_mgmt if user types x\n",
    "            print('Exiting.................')\n",
    "            break\n",
    "        if pswd.lower() == 'forgot password':   \n",
    "            print(\"Hint : You are the boss here.\")   #prompt for forgot pswd\n",
    "            continue\n",
    "        c += 1\n",
    "        if pswd != 'admin':\n",
    "            print(\"No. attempts left:\" , 5-c)\n",
    "        if c == 5:\n",
    "            print(\"You have lost all your\",c,\" chances\")   #all 5 chances exhausted,break\n",
    "            break\n",
    "        elif pswd == 'admin':\n",
    "            print(\"Login Successful!!\")\n",
    "            break\n",
    "        else:\n",
    "            print(\"The password is incorrect.\") \n",
    "    return(c)\n",
    "\n",
    "\n",
    "def main():\n",
    "    #main program\n",
    "    \n",
    "    print(\"Welcome to Your profile!!\")\n",
    "    print(\"If you forgoten your password.\\n\\tType : 'forgot password'\")\n",
    "    print(\"If you want to exit this window.\\n\\tType: 'x'\\n\")\n",
    "    \n",
    "    Lock_counter = 0  #account will be locked after two incorrect attempts after time penalty.\n",
    "    while Lock_counter < 3:\n",
    "        c = psw()   #retaining the value of c, which is returned from psw()\n",
    "        if c < 5:   \n",
    "            break\n",
    "        if c == 5:\n",
    "            Lock_counter += 1  #lock_c incr bcoz 5 attempts has been exhausted\n",
    "            print(\"\\nPlease enter the correct password or your account will be locked.\")\n",
    "            wait()   #if u want to reduce the waiting time - pass it in wait(argument)\n",
    "            print()  \n",
    "            Lock_counter += 1\n",
    "            psw()\n",
    "            \n",
    "        if Lock_counter == 2:\n",
    "            print(\"\\n\\nAccount Locked!!\")\n",
    "            break\n",
    "        \n",
    "main()"
   ]
  }
 ],
 "metadata": {
  "kernelspec": {
   "display_name": "Python 3",
   "language": "python",
   "name": "python3"
  },
  "language_info": {
   "codemirror_mode": {
    "name": "ipython",
    "version": 3
   },
   "file_extension": ".py",
   "mimetype": "text/x-python",
   "name": "python",
   "nbconvert_exporter": "python",
   "pygments_lexer": "ipython3",
   "version": "3.7.6"
  }
 },
 "nbformat": 4,
 "nbformat_minor": 4
}
