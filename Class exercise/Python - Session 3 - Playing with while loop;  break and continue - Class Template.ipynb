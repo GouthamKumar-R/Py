{
 "cells": [
  {
   "cell_type": "markdown",
   "metadata": {},
   "source": [
    "### A. While Loop"
   ]
  },
  {
   "cell_type": "markdown",
   "metadata": {},
   "source": [
    "How will you make a computer do a certain task until a condition is satisfied? For example, keep prompting an user for the password unless it matches."
   ]
  },
  {
   "cell_type": "code",
   "execution_count": null,
   "metadata": {},
   "outputs": [],
   "source": [
    "#keep prompting until one enters the correct pswd\n",
    "#pswd is 'secret'\n",
    "\n",
    "password =''\n",
    "while password !='secret':\n",
    "    password = input(\"Enter correct password: \")\n",
    "\n",
    "print(\"Login Successful\")"
   ]
  },
  {
   "cell_type": "code",
   "execution_count": null,
   "metadata": {},
   "outputs": [],
   "source": [
    "#for loop for ---3 chances only\n",
    "pswd = ''\n",
    "for i in range(1,4):\n",
    "    pswd = input(\"Enter the password: \")\n",
    "    if pswd == 'secret':\n",
    "        print(\"Login Successful\")\n",
    "        break   #if we dont use this break, \n",
    "                #loop will run for 3 times evn after entering crct pswd.\n",
    "        "
   ]
  },
  {
   "cell_type": "markdown",
   "metadata": {},
   "source": [
    "**A Problem**"
   ]
  },
  {
   "cell_type": "markdown",
   "metadata": {},
   "source": [
    "Suppose that a player wants to play a game which requires him Rs. 1,000 to start. If the current balance in his account is less than Rs. 1,000 he needs to withdraw the extra money from his e-wallet.\n",
    "\n",
    "Note that if the sum of money in his courrent account and the amount withdrawn is greater than or equal to Rs. 1,000 then he can start playing the game. However if the sum is less than Rs. 1,000 then the program should keep displaying the user the message “You still do not have enough money to start playing.” and keep prompting the user to withdraw money unless it crosses Rs. 1,000. Once ready, i.e. if his current account balance crosses Rs. 1,000, it will display a message “Now, you are ready to play the game.” Your program should also display the account balance and the current amount in the e-wallet.\n",
    "\n",
    "(consider: initial account balance is Rs. 200 and money in the e-wallet is Rs. 5,000)\n",
    "\n",
    "(Do further improvement by checking if the e-wallet balance becomes NIL, etc.)"
   ]
  },
  {
   "cell_type": "code",
   "execution_count": null,
   "metadata": {},
   "outputs": [],
   "source": []
  },
  {
   "cell_type": "markdown",
   "metadata": {},
   "source": [
    "**Take a break**"
   ]
  },
  {
   "cell_type": "code",
   "execution_count": null,
   "metadata": {},
   "outputs": [],
   "source": [
    "import webbrowser   #opening a youtube video\n",
    "webbrowser.open(\"https://www.youtube.com/watch?v=kd33UVZhnAA\")"
   ]
  },
  {
   "cell_type": "code",
   "execution_count": null,
   "metadata": {},
   "outputs": [],
   "source": [
    "import time  #make the program(kernel) to sleep for 3 sec\n",
    "time.sleep(3)"
   ]
  },
  {
   "cell_type": "code",
   "execution_count": null,
   "metadata": {},
   "outputs": [],
   "source": [
    "for i in range(0,3):\n",
    "    time.sleep(5)\n",
    "    print(\"This is awesome!\")"
   ]
  },
  {
   "cell_type": "code",
   "execution_count": null,
   "metadata": {},
   "outputs": [],
   "source": [
    "x=0\n",
    "while x < 3:\n",
    "    time.sleep(5)\n",
    "    x += 1\n",
    "    print(\"This is awesome!\")"
   ]
  },
  {
   "cell_type": "markdown",
   "metadata": {},
   "source": [
    "### B. Break and Continue"
   ]
  },
  {
   "cell_type": "markdown",
   "metadata": {},
   "source": [
    "**Recall the password problem**"
   ]
  },
  {
   "cell_type": "markdown",
   "metadata": {},
   "source": [
    "**Make an improvement**\n",
    "\n",
    "If the user fails to enter the password in 5 chances display a message “You have lost your 5 chances” and stop the program."
   ]
  },
  {
   "cell_type": "code",
   "execution_count": null,
   "metadata": {},
   "outputs": [],
   "source": []
  },
  {
   "cell_type": "code",
   "execution_count": 4,
   "metadata": {},
   "outputs": [
    {
     "name": "stdout",
     "output_type": "stream",
     "text": [
      "Enter the pswd:a\n",
      "No. of attempts left: 4\n",
      "Enter the pswd:a\n",
      "No. of attempts left: 3\n",
      "Enter the pswd:a\n",
      "No. of attempts left: 2\n",
      "Enter the pswd:a\n",
      "No. of attempts left: 1\n",
      "Enter the pswd:a\n",
      "No. of attempts left: 0\n"
     ]
    }
   ],
   "source": [
    "c=0\n",
    "while True:\n",
    "    pswd = input(\"Enter the pswd:\")\n",
    "    if pswd != 'secret':\n",
    "        c += 1\n",
    "        print(\"No. of attempts left:\" , 5-c)\n",
    "    elif pswd == 'secret':\n",
    "        print(\"Login successful.\")\n",
    "        break\n",
    "    if c ==5:\n",
    "        break\n",
    "        "
   ]
  },
  {
   "cell_type": "code",
   "execution_count": null,
   "metadata": {},
   "outputs": [],
   "source": []
  },
  {
   "cell_type": "markdown",
   "metadata": {},
   "source": [
    "**Make another additional improvement**"
   ]
  },
  {
   "cell_type": "markdown",
   "metadata": {},
   "source": [
    "If the user enters “forgot password”, display a hint and again prompt for password. (But the user will get only 5 chances to enter the password)"
   ]
  },
  {
   "cell_type": "code",
   "execution_count": null,
   "metadata": {},
   "outputs": [],
   "source": [
    "c= 0\n",
    "while 1:\n",
    "    pswd = input(\"Enter the password:\")\n",
    "    if pswd == 'x':\n",
    "        print('Exit')\n",
    "        break\n",
    "    if pswd == 'forgot pswd':\n",
    "        print(\"Hint : don't tell anyone\")\n",
    "        continue\n",
    "    c += 1\n",
    "    if pswd != 'secret':\n",
    "        print(\"No. attempts left:\" , 5-c)\n",
    "    if c ==5:\n",
    "        print(\"You have lost all your 5 chances\")\n",
    "        break\n",
    "    elif pswd == 'secret':\n",
    "        print(\"Welcome to your profile\")\n",
    "        break\n",
    "    else:\n",
    "        print(\"The password is incorrect.\")\n",
    "        "
   ]
  },
  {
   "cell_type": "code",
   "execution_count": null,
   "metadata": {},
   "outputs": [],
   "source": []
  },
  {
   "cell_type": "markdown",
   "metadata": {},
   "source": [
    "#### Make further improvement"
   ]
  },
  {
   "cell_type": "code",
   "execution_count": null,
   "metadata": {},
   "outputs": [],
   "source": [
    "#Codes taken from stack overflow.\n",
    "def wait(n=30):\n",
    "    import sys\n",
    "    import time\n",
    "    for remaining in range(n, 0, -1):\n",
    "        sys.stdout.write(\"\\r%d seconds remaining.\" %remaining)\n",
    "        time.sleep(1)\n",
    "        "
   ]
  },
  {
   "cell_type": "code",
   "execution_count": null,
   "metadata": {},
   "outputs": [],
   "source": [
    "wait()"
   ]
  },
  {
   "cell_type": "code",
   "execution_count": null,
   "metadata": {},
   "outputs": [],
   "source": [
    "def wait(n=30):\n",
    "    import sys\n",
    "    import time\n",
    "    for remaining in range(n, 0, -1):\n",
    "        sys.stdout.write(\"\\r%d seconds remaining.\" %remaining)\n",
    "        time.sleep(1)\n",
    "\n",
    "c = 0   \n",
    "def psw():\n",
    "    global c\n",
    "    while 1:\n",
    "        pswd = input(\"Enter the password:\")\n",
    "        if pswd == 'x':\n",
    "            print('Exit')\n",
    "            break\n",
    "        if pswd == 'forgot pswd':\n",
    "            print(\"Hint : don't tell anyone\")\n",
    "            continue\n",
    "        c += 1\n",
    "        if pswd != 'secret':\n",
    "            print(\"No. attempts left:\" , 5-c)\n",
    "        if c ==5:\n",
    "            print(\"You have lost all your 5 chances\")\n",
    "            break\n",
    "        elif pswd == 'secret':\n",
    "            print(\"Welcome to your profile\")\n",
    "            break\n",
    "        else:\n",
    "            print(\"The password is incorrect.\") \n",
    "psw()\n",
    "if c == 5:\n",
    "    wait(5)\n",
    "    psw()\n",
    "    \n",
    "#working\n"
   ]
  },
  {
   "cell_type": "code",
   "execution_count": null,
   "metadata": {},
   "outputs": [],
   "source": []
  },
  {
   "cell_type": "markdown",
   "metadata": {},
   "source": [
    "### D. Python functions"
   ]
  },
  {
   "cell_type": "markdown",
   "metadata": {},
   "source": [
    "**1. Some basic functions: min, max, len, sum**"
   ]
  },
  {
   "cell_type": "code",
   "execution_count": null,
   "metadata": {},
   "outputs": [],
   "source": [
    "x = [1,3,4,2,6]"
   ]
  },
  {
   "cell_type": "code",
   "execution_count": null,
   "metadata": {},
   "outputs": [],
   "source": [
    "min(x)"
   ]
  },
  {
   "cell_type": "code",
   "execution_count": null,
   "metadata": {},
   "outputs": [],
   "source": [
    "max(x)"
   ]
  },
  {
   "cell_type": "code",
   "execution_count": null,
   "metadata": {},
   "outputs": [],
   "source": [
    "len(x)"
   ]
  },
  {
   "cell_type": "markdown",
   "metadata": {},
   "source": [
    "**2. Type conversion functions: int, float, str**"
   ]
  },
  {
   "cell_type": "code",
   "execution_count": null,
   "metadata": {},
   "outputs": [],
   "source": [
    "str(1)"
   ]
  },
  {
   "cell_type": "markdown",
   "metadata": {},
   "source": [
    "**3. Some math functions: sum, sin, log10**"
   ]
  },
  {
   "cell_type": "code",
   "execution_count": null,
   "metadata": {},
   "outputs": [],
   "source": [
    "import math"
   ]
  },
  {
   "cell_type": "code",
   "execution_count": null,
   "metadata": {},
   "outputs": [],
   "source": [
    "math.log10(30)"
   ]
  },
  {
   "cell_type": "code",
   "execution_count": null,
   "metadata": {},
   "outputs": [],
   "source": [
    "math.tan(0.7853)"
   ]
  },
  {
   "cell_type": "markdown",
   "metadata": {},
   "source": [
    "**4. Functions to generate random numbers:**"
   ]
  },
  {
   "cell_type": "code",
   "execution_count": null,
   "metadata": {},
   "outputs": [],
   "source": [
    "import random"
   ]
  },
  {
   "cell_type": "code",
   "execution_count": null,
   "metadata": {},
   "outputs": [],
   "source": [
    "#random.random\n",
    "random.random()"
   ]
  },
  {
   "cell_type": "code",
   "execution_count": null,
   "metadata": {},
   "outputs": [],
   "source": [
    "#random.randint\n",
    "random.randint(1,10)"
   ]
  },
  {
   "cell_type": "code",
   "execution_count": null,
   "metadata": {},
   "outputs": [],
   "source": [
    "#random.choice\n",
    "x = [1,3,4,2,6]\n",
    "random.choice(x)"
   ]
  },
  {
   "cell_type": "markdown",
   "metadata": {},
   "source": [
    "### E. Guess the number Game"
   ]
  },
  {
   "cell_type": "markdown",
   "metadata": {},
   "source": [
    "Guess a number is a game that prompts a player to guess a number between 0 and 9, which is randomly generated by the system. When the input given by the user matches the number generated by the system then the user wins. The game should go as follows:\n",
    "\t\n",
    "\tGuess the number: 5\n",
    "\tSorry, try again\n",
    "\tGuess the number: 3\n",
    "\tSorry, try again\n",
    "\tGuess the number: 8\n",
    "\tYou got it right! Congo!\n",
    "    \n",
    "    Guess the number: 5\n",
    "\tSorry, try again\n",
    "\tGuess the number: 3\n",
    "\tSorry, try again\n",
    "\tGuess the number: exit\n",
    "\tEnjoy your day!"
   ]
  },
  {
   "cell_type": "code",
   "execution_count": null,
   "metadata": {},
   "outputs": [],
   "source": [
    "#working only for first part v1\n",
    "\"\"\"Assuming the user enter only integers\n",
    "    and has only 3 attempts.\"\"\"\n",
    "import random\n",
    "\n",
    "y = random.randint(0,9) \n",
    "x = 0\n",
    "c = 0\n",
    "\n",
    "while 1:\n",
    "    x = input(\"Guess the number:\")\n",
    "    c +=1\n",
    "    if int(x) != y:\n",
    "        print(\"Sorry you are wrong, attempts left :\", 3-c)\n",
    "    if c == 3:\n",
    "        print(\"All chances exhausted\")\n",
    "        break\n",
    "    elif int(x) == y:\n",
    "        print(\"You are correct.\")\n",
    "        break        \n",
    "print(\"The original no. was:\",y)"
   ]
  },
  {
   "cell_type": "code",
   "execution_count": null,
   "metadata": {},
   "outputs": [],
   "source": [
    "#Testing\n",
    "import random\n",
    "\n",
    "y = random.randint(0,9) \n",
    "x = 0\n",
    "c = 0\n",
    "\n",
    "while 1:\n",
    "    x = input(\"Guess the number:\")\n",
    "    c +=1\n",
    "    if int(x) != y:\n",
    "        print(\"Sorry you are wrong, attempts left :\", 9-c)\n",
    "    if c == 9:\n",
    "        print(\"All chances exhausted\")\n",
    "        break\n",
    "    elif int(x) == y:\n",
    "        print(\"You are correct.\")\n",
    "        break        \n",
    "print(\"The original no. was:\",y)\n",
    "\n",
    "#status-working perfect."
   ]
  },
  {
   "cell_type": "code",
   "execution_count": 3,
   "metadata": {},
   "outputs": [
    {
     "name": "stdout",
     "output_type": "stream",
     "text": [
      "Guess the number:1\n",
      "Sorry you are wrong, attempts left : 2\n",
      "Guess the number:2\n",
      "Sorry you are wrong, attempts left : 1\n",
      "Guess the number:3\n",
      "You are correct.\n",
      "The original no. was: 3\n"
     ]
    }
   ],
   "source": [
    "#v2\n",
    "import random\n",
    "\n",
    "y = random.randint(0,9) \n",
    "#y = 3  #testing variable\n",
    "x = 0\n",
    "c = 0\n",
    "\n",
    "\n",
    "while 1:\n",
    "    x = input(\"Guess the number:\")\n",
    "    c +=1\n",
    "    if x == 'exit':\n",
    "        print(\"Thanks for playing, have a good day!\")\n",
    "        break\n",
    "    if int(x) != y:\n",
    "        print(\"Sorry you are wrong, attempts left :\", 3-c)\n",
    "    elif int(x) == y:\n",
    "        print(\"You are correct.\")\n",
    "        break\n",
    "    if c == 3:\n",
    "        print(\"All chances exhausted\")\n",
    "        break\n",
    "           \n",
    "print(\"The original no. was:\",y)\n",
    "\n",
    "#working perfectly"
   ]
  },
  {
   "cell_type": "code",
   "execution_count": null,
   "metadata": {},
   "outputs": [],
   "source": [
    "nxt sessions\n",
    "strings\n",
    "files\n",
    "lists\n",
    "numpy\n",
    "pandas\n",
    "-----\n",
    "ML\n",
    "----back to py\n",
    "dict\n",
    "tuple"
   ]
  },
  {
   "cell_type": "code",
   "execution_count": null,
   "metadata": {},
   "outputs": [],
   "source": []
  }
 ],
 "metadata": {
  "kernelspec": {
   "display_name": "Python 3",
   "language": "python",
   "name": "python3"
  },
  "language_info": {
   "codemirror_mode": {
    "name": "ipython",
    "version": 3
   },
   "file_extension": ".py",
   "mimetype": "text/x-python",
   "name": "python",
   "nbconvert_exporter": "python",
   "pygments_lexer": "ipython3",
   "version": "3.7.6"
  },
  "toc": {
   "base_numbering": 1,
   "nav_menu": {},
   "number_sections": true,
   "sideBar": true,
   "skip_h1_title": false,
   "title_cell": "Table of Contents",
   "title_sidebar": "Contents",
   "toc_cell": false,
   "toc_position": {},
   "toc_section_display": true,
   "toc_window_display": false
  }
 },
 "nbformat": 4,
 "nbformat_minor": 2
}
