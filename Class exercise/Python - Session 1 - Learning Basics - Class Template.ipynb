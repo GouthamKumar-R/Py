{
 "cells": [
  {
   "cell_type": "markdown",
   "metadata": {},
   "source": [
    "### A. Python as a Calculator"
   ]
  },
  {
   "cell_type": "code",
   "execution_count": 1,
   "metadata": {},
   "outputs": [
    {
     "ename": "SyntaxError",
     "evalue": "invalid syntax (<ipython-input-1-090583ebcd20>, line 1)",
     "output_type": "error",
     "traceback": [
      "\u001b[1;36m  File \u001b[1;32m\"<ipython-input-1-090583ebcd20>\"\u001b[1;36m, line \u001b[1;32m1\u001b[0m\n\u001b[1;33m    +\u001b[0m\n\u001b[1;37m     ^\u001b[0m\n\u001b[1;31mSyntaxError\u001b[0m\u001b[1;31m:\u001b[0m invalid syntax\n"
     ]
    }
   ],
   "source": [
    "+\n",
    "-\n",
    "*\n",
    "/\n",
    "**"
   ]
  },
  {
   "cell_type": "code",
   "execution_count": 2,
   "metadata": {},
   "outputs": [
    {
     "data": {
      "text/plain": [
       "0.36"
      ]
     },
     "execution_count": 2,
     "metadata": {},
     "output_type": "execute_result"
    }
   ],
   "source": [
    "a = ((((1+2)-2)*3)/5)**2\n",
    "a\n"
   ]
  },
  {
   "cell_type": "code",
   "execution_count": null,
   "metadata": {},
   "outputs": [],
   "source": [
    "#comment line.....\n",
    "\n",
    "#single line cmnt\n",
    "\n",
    "\"\"\"\n",
    "Multi line cmnt \n",
    "Used for definiton a fn\n",
    "\n",
    "\"\"\""
   ]
  },
  {
   "cell_type": "markdown",
   "metadata": {},
   "source": [
    "#### Problem 1\n",
    "Suppose that a Firm pays its employee at the rate of $12 per hour. An employee has worked for 37 hours. How much should the firm pay the employee?"
   ]
  },
  {
   "cell_type": "code",
   "execution_count": 3,
   "metadata": {},
   "outputs": [
    {
     "data": {
      "text/plain": [
       "444"
      ]
     },
     "execution_count": 3,
     "metadata": {},
     "output_type": "execute_result"
    }
   ],
   "source": [
    "s = 37*12\n",
    "s"
   ]
  },
  {
   "cell_type": "markdown",
   "metadata": {},
   "source": [
    "### B. Variables"
   ]
  },
  {
   "cell_type": "code",
   "execution_count": null,
   "metadata": {},
   "outputs": [],
   "source": [
    "#named location in the memory, for later usage"
   ]
  },
  {
   "cell_type": "code",
   "execution_count": 6,
   "metadata": {},
   "outputs": [
    {
     "data": {
      "text/plain": [
       "102645"
      ]
     },
     "execution_count": 6,
     "metadata": {},
     "output_type": "execute_result"
    }
   ],
   "source": [
    "b = s + 102201\n",
    "b"
   ]
  },
  {
   "cell_type": "code",
   "execution_count": null,
   "metadata": {},
   "outputs": [],
   "source": [
    "#Python is case sensitive"
   ]
  },
  {
   "cell_type": "code",
   "execution_count": null,
   "metadata": {},
   "outputs": [],
   "source": [
    "x = 20"
   ]
  },
  {
   "cell_type": "code",
   "execution_count": null,
   "metadata": {},
   "outputs": [],
   "source": [
    "X"
   ]
  },
  {
   "cell_type": "code",
   "execution_count": null,
   "metadata": {},
   "outputs": [],
   "source": [
    "#Python overwrites\n",
    "x = 30"
   ]
  },
  {
   "cell_type": "code",
   "execution_count": null,
   "metadata": {},
   "outputs": [],
   "source": [
    "x"
   ]
  },
  {
   "cell_type": "markdown",
   "metadata": {},
   "source": [
    "### C. Prompting for User Input"
   ]
  },
  {
   "cell_type": "markdown",
   "metadata": {},
   "source": [
    "#### Problem 2\n",
    "How about prompting the user for the number of hours and using the input value to compute the total pay?"
   ]
  },
  {
   "cell_type": "code",
   "execution_count": 9,
   "metadata": {},
   "outputs": [
    {
     "name": "stdout",
     "output_type": "stream",
     "text": [
      "Enter the total no of hrs, you have worked:5\n",
      "5\n",
      " The total amount =  185\n"
     ]
    }
   ],
   "source": [
    "\n",
    "prompt = \"Enter the total no of hrs, you have worked:\"\n",
    "x = int(input(prompt))  #changing it to int, bcoz everytime the i/p is taken as string\n",
    "print (x)   #prompting the user for i/p\n",
    "\n",
    "total_amount = 37 * x  #calculating the total_amount\n",
    "\n",
    "print(\" The total amount = \", total_amount)"
   ]
  },
  {
   "cell_type": "markdown",
   "metadata": {},
   "source": [
    "#### Exercise\n",
    "For a certain academic subject the students are evaluated based on five tests - \n",
    "* Quiz 1 (20 marks - 10% Weight), \n",
    "* Quiz 2 (20 marks - 10% Weight), \n",
    "* Class test (50 marks - 25% Weight), \n",
    "* Assignment (100 marks - 25% weight) and \n",
    "* Project (200 marks - 30% weight). \n",
    "\n",
    "Design a program that will prompt the user for marks for each of the tests and calculate the overall marks (out of 100)."
   ]
  },
  {
   "cell_type": "code",
   "execution_count": 3,
   "metadata": {
    "scrolled": true
   },
   "outputs": [
    {
     "name": "stdout",
     "output_type": "stream",
     "text": [
      "Enter the marks obatined in Quiz1 out of 20:20\n",
      "Enter the marks obatined in Quiz2 out of 20:20\n",
      "Enter the marks obatined in class test out of 50:50\n",
      "Enter the marks obatined in assignment out of 100:100\n",
      "Enter the marks obatined in Project out of 200:200\n",
      "100.0\n"
     ]
    }
   ],
   "source": [
    "#simpler code\n",
    "\n",
    "q1 = (int(input(\"Enter the marks obatined in Quiz1 out of 20:\"))/20) * 0.10\n",
    "q2 = (int(input(\"Enter the marks obatined in Quiz2 out of 20:\"))/20) * 0.10\n",
    "ct = (int(input(\"Enter the marks obatined in class test out of 50:\"))/50) * 0.25\n",
    "assg = (int(input(\"Enter the marks obatined in assignment out of 100:\"))/100) * 0.25\n",
    "prj = (int(input(\"Enter the marks obatined in Project out of 200:\"))/200) * 0.30\n",
    "\n",
    "total = q1 +q2 +ct +assg +prj\n",
    "print(total*100)"
   ]
  },
  {
   "cell_type": "code",
   "execution_count": null,
   "metadata": {},
   "outputs": [],
   "source": [
    "#code with conditonal st and fn\n",
    "total = 0\n",
    "prompt = \"Please enter the mark obtained:\"\n",
    "def inp(a):\n",
    "    x = int(input(a))\n",
    "    return x\n",
    "\n",
    "q1 = inp(prompt)\n",
    "if q1 <= 20:    #vaildation check but quits after inavild cond;shld try different cond st\n",
    "    q1_10 = (q1 * 10)/100\n",
    "else:\n",
    "    print(\"Please enter a vaild mark obtained\")\n",
    "    \n",
    "q2 = inp(prompt)\n",
    "if q2 <= 20:\n",
    "    q2_10 = (q2 * 10)/100\n",
    "else:\n",
    "    print(\"Please enter a vaild mark obtained\")\n",
    "    \n",
    "ct = inp(prompt)\n",
    "if ct <= 50:\n",
    "    ct_25 = (ct * 25)/100\n",
    "else:\n",
    "    print(\"Please enter a vaild mark obtained\")\n",
    "    \n",
    "assg = inp(prompt)\n",
    "if assg <= 100:\n",
    "    assg_25 = (q1 * 25)/100\n",
    "else:\n",
    "    print(\"Please enter a vaild mark obtained\")\n",
    "    \n",
    "prj = inp(prompt)\n",
    "if prj  <= 200:\n",
    "    prj_30 = (q1 * 10)/100\n",
    "else:\n",
    "    print(\"Please enter a vaild mark obtained\")\n",
    "    \n",
    "total = q1_10 +q2_10 + ct_25 + assg_25 + prj_30\n",
    "print(\"The total marks obtained is :\", total)"
   ]
  },
  {
   "cell_type": "code",
   "execution_count": 37,
   "metadata": {},
   "outputs": [],
   "source": [
    "# total = 0\n",
    "# prompt = \"Please enter the mark obtained:\"\n",
    "# def inp(a):\n",
    "#     x = int(input(a))\n",
    "#     return x\n",
    "\n",
    "# q1 = inp(prompt)\n",
    "\n",
    "# while True:    #vaildation check \n",
    "#     if q1 > 21:    #vaildation check but quits after inavild cond;shld try different cond st\n",
    "#         print(\"Please enter a vaild mark obtained\")\n",
    "#     else:\n",
    "#         q1_10 = (q1 * 10)/100\n",
    "        \n",
    "# print(q1_10)"
   ]
  },
  {
   "cell_type": "markdown",
   "metadata": {},
   "source": [
    "### D. Markdown in Python"
   ]
  },
  {
   "cell_type": "markdown",
   "metadata": {},
   "source": [
    "# H1\n"
   ]
  },
  {
   "cell_type": "markdown",
   "metadata": {},
   "source": [
    "## h2"
   ]
  },
  {
   "cell_type": "markdown",
   "metadata": {},
   "source": [
    "**bold** *italics*"
   ]
  },
  {
   "cell_type": "markdown",
   "metadata": {},
   "source": [
    "* bullet points"
   ]
  },
  {
   "cell_type": "code",
   "execution_count": null,
   "metadata": {},
   "outputs": [],
   "source": [
    "#u can add html codes aslo, if u know html code to add <img src>? etc; do google it"
   ]
  },
  {
   "cell_type": "markdown",
   "metadata": {},
   "source": [
    "### E. The Modulus (%) Operator"
   ]
  },
  {
   "cell_type": "code",
   "execution_count": 1,
   "metadata": {},
   "outputs": [
    {
     "data": {
      "text/plain": [
       "0"
      ]
     },
     "execution_count": 1,
     "metadata": {},
     "output_type": "execute_result"
    }
   ],
   "source": [
    "20%5"
   ]
  },
  {
   "cell_type": "code",
   "execution_count": 2,
   "metadata": {},
   "outputs": [
    {
     "data": {
      "text/plain": [
       "4"
      ]
     },
     "execution_count": 2,
     "metadata": {},
     "output_type": "execute_result"
    }
   ],
   "source": [
    "20%8"
   ]
  },
  {
   "cell_type": "code",
   "execution_count": 3,
   "metadata": {},
   "outputs": [
    {
     "data": {
      "text/plain": [
       "3"
      ]
     },
     "execution_count": 3,
     "metadata": {},
     "output_type": "execute_result"
    }
   ],
   "source": [
    "int(20/6)"
   ]
  },
  {
   "cell_type": "code",
   "execution_count": 4,
   "metadata": {},
   "outputs": [
    {
     "data": {
      "text/plain": [
       "3.3333333333333335"
      ]
     },
     "execution_count": 4,
     "metadata": {},
     "output_type": "execute_result"
    }
   ],
   "source": [
    "20/6"
   ]
  },
  {
   "cell_type": "markdown",
   "metadata": {},
   "source": [
    "#### Problem 3\n",
    "Odd or even?"
   ]
  },
  {
   "cell_type": "code",
   "execution_count": 7,
   "metadata": {},
   "outputs": [
    {
     "name": "stdout",
     "output_type": "stream",
     "text": [
      "Enter the no: 0\n",
      "The no.:  0 is even\n"
     ]
    }
   ],
   "source": [
    "x = int(input(\"Enter the no: \"))  #prompting the no. from user\n",
    "if x%2 == 0:\n",
    "    print(\"The no.: \", x , \"is even\")\n",
    "else:\n",
    "    print(\"The no. :\", x, \"is odd\")"
   ]
  },
  {
   "cell_type": "code",
   "execution_count": 38,
   "metadata": {},
   "outputs": [],
   "source": [
    "# x = int(input(\"Enter the no: \"))  #prompting the no. from user\n",
    "# if x%2 == 0 :\n",
    "#     break\n",
    "#     print(\"The no.: \", x , \"is even\")\n",
    "# print(\"The no. :\", x, \"is odd\")"
   ]
  },
  {
   "cell_type": "markdown",
   "metadata": {},
   "source": [
    "#### Problem 4\n",
    "If a five-digit number is input through the keyboard, write a program to calculate the sum of its digits."
   ]
  },
  {
   "cell_type": "code",
   "execution_count": 10,
   "metadata": {},
   "outputs": [
    {
     "name": "stdout",
     "output_type": "stream",
     "text": [
      "Enter a 5 digit no:12345\n",
      "15\n"
     ]
    }
   ],
   "source": [
    "#first thought\n",
    "x = input(\"Enter a 5 digit no:\")\n",
    "\n",
    "sum_5 = int(x[0]) + int(x[1]) + int(x[2]) + int(x[3]) + int(x[4])\n",
    "sum_5\n",
    "\n",
    "# for i in range(0,4):\n",
    "#     sum_5 += int(x[i])\n",
    "#     i +=1\n",
    "    \n",
    "print(sum_5)"
   ]
  },
  {
   "cell_type": "code",
   "execution_count": 22,
   "metadata": {},
   "outputs": [
    {
     "data": {
      "text/plain": [
       "9"
      ]
     },
     "execution_count": 22,
     "metadata": {},
     "output_type": "execute_result"
    }
   ],
   "source": [
    "#class solution\n",
    "x=12345\n",
    "last = x%10\n",
    "last2 = int(x/10)%10\n",
    "s = last +last2\n",
    "\n"
   ]
  },
  {
   "cell_type": "code",
   "execution_count": null,
   "metadata": {},
   "outputs": [],
   "source": [
    "#using loop\n",
    "\n",
    "x = int(input(\"Enter a 5 digit no:\"))\n",
    "s =0\n",
    "while x>=10:          # making sure x is atleast a 2 digit no. (so this loop will run till it becomes single digit)         \n",
    "    s += x%10         # getiing the last digit and storing it in s\n",
    "    x = x//10         # getting the remaing digits, and then iterating back wwith the loop\n",
    "s+= x                #finally the 10000th digit(final single digit) is added to the no.\n",
    "print(s)\n"
   ]
  },
  {
   "cell_type": "code",
   "execution_count": 39,
   "metadata": {},
   "outputs": [
    {
     "data": {
      "text/plain": [
       "4"
      ]
     },
     "execution_count": 39,
     "metadata": {},
     "output_type": "execute_result"
    }
   ],
   "source": [
    "# rough work\n",
    "x=1234\n",
    "x%10\n",
    "\n"
   ]
  },
  {
   "cell_type": "markdown",
   "metadata": {},
   "source": [
    "#### Exercise\n",
    "If a five-digit number is input through the keyboard, write a program to print a new number by adding one to each of its digits. For example if the number that is input is 12371 then the output should be displayed as 23482."
   ]
  },
  {
   "cell_type": "code",
   "execution_count": 12,
   "metadata": {},
   "outputs": [
    {
     "name": "stdout",
     "output_type": "stream",
     "text": [
      "Enter a 5 digit no:12345\n",
      "23456\n"
     ]
    }
   ],
   "source": [
    "x = input(\"Enter a 5 digit no:\")\n",
    "\n",
    "s = str(int(x[0])+1) + str(int(x[1])+1) + str(int(x[2])+1)  + str(int(x[3])+1) +str(int(x[4])+1) \n",
    "print(s)\n",
    "\n",
    "#do using loop\n",
    "\n",
    "#do using the above method\n",
    "\n",
    "#if one is added to 9--its becomes zero "
   ]
  },
  {
   "cell_type": "code",
   "execution_count": 2,
   "metadata": {},
   "outputs": [
    {
     "data": {
      "text/plain": [
       "120205"
      ]
     },
     "execution_count": 2,
     "metadata": {},
     "output_type": "execute_result"
    }
   ],
   "source": [
    "#using fn and int mod method\n",
    "def num_con(n1 , n2):\n",
    "    \"\"\"This fn is fo concatenate two nos.\"\"\"\n",
    "    digits = len(str(n2))   #finding the no. of digits in number 2\n",
    "    n1 = n1*(10**digits)    #appending that many zeros to number 1\n",
    "    return n1+ n2\n",
    "\n",
    "# x = int(input(\"Enter a 5 digit no:\"))\n",
    "# a = 0\n",
    "        \n",
    "\n",
    "\n",
    "num_con(12020,5)\n"
   ]
  },
  {
   "cell_type": "code",
   "execution_count": 26,
   "metadata": {},
   "outputs": [
    {
     "name": "stdout",
     "output_type": "stream",
     "text": [
      "Enter a 5 digit no:12356\n"
     ]
    },
    {
     "ename": "OverflowError",
     "evalue": "int too large to convert to float",
     "output_type": "error",
     "traceback": [
      "\u001b[1;31m---------------------------------------------------------------------------\u001b[0m",
      "\u001b[1;31mOverflowError\u001b[0m                             Traceback (most recent call last)",
      "\u001b[1;32m<ipython-input-26-121636149d2c>\u001b[0m in \u001b[0;36m<module>\u001b[1;34m\u001b[0m\n\u001b[0;32m     11\u001b[0m     \u001b[0my\u001b[0m\u001b[1;33m=\u001b[0m\u001b[0my\u001b[0m\u001b[1;33m*\u001b[0m\u001b[1;36m10\u001b[0m\u001b[1;33m\u001b[0m\u001b[1;33m\u001b[0m\u001b[0m\n\u001b[0;32m     12\u001b[0m     \u001b[0my\u001b[0m \u001b[1;33m+=\u001b[0m\u001b[1;36m1\u001b[0m\u001b[1;33m\u001b[0m\u001b[1;33m\u001b[0m\u001b[0m\n\u001b[1;32m---> 13\u001b[1;33m     \u001b[0ma\u001b[0m \u001b[1;33m=\u001b[0m \u001b[0mx\u001b[0m \u001b[1;33m+\u001b[0m \u001b[0my\u001b[0m\u001b[1;33m\u001b[0m\u001b[1;33m\u001b[0m\u001b[0m\n\u001b[0m\u001b[0;32m     14\u001b[0m \u001b[0mprint\u001b[0m\u001b[1;33m(\u001b[0m\u001b[0ma\u001b[0m\u001b[1;33m)\u001b[0m\u001b[1;33m\u001b[0m\u001b[1;33m\u001b[0m\u001b[0m\n",
      "\u001b[1;31mOverflowError\u001b[0m: int too large to convert to float"
     ]
    }
   ],
   "source": [
    "x = int(input(\"Enter a 5 digit no:\"))\n"
   ]
  },
  {
   "cell_type": "code",
   "execution_count": 33,
   "metadata": {},
   "outputs": [
    {
     "data": {
      "text/plain": [
       "6"
      ]
     },
     "execution_count": 33,
     "metadata": {},
     "output_type": "execute_result"
    }
   ],
   "source": [
    "#rough work\n",
    "x= 12343\n",
    "x** + x%10\n",
    "\n",
    "\n",
    "12379\n",
    "23480\n"
   ]
  },
  {
   "cell_type": "code",
   "execution_count": 10,
   "metadata": {},
   "outputs": [
    {
     "data": {
      "text/plain": [
       "6567"
      ]
     },
     "execution_count": 10,
     "metadata": {},
     "output_type": "execute_result"
    }
   ],
   "source": [
    "\n",
    "\n",
    "x = 5656\n",
    "y = 2340\n",
    "\n",
    "x%(10**3) *10+ (1+x%10)%10"
   ]
  },
  {
   "cell_type": "code",
   "execution_count": null,
   "metadata": {},
   "outputs": [],
   "source": [
    "x + int(str1*len(strx))"
   ]
  },
  {
   "cell_type": "code",
   "execution_count": 20,
   "metadata": {},
   "outputs": [
    {
     "data": {
      "text/plain": [
       "11111"
      ]
     },
     "execution_count": 20,
     "metadata": {},
     "output_type": "execute_result"
    }
   ],
   "source": [
    "x = 12340\n",
    "x + ((10**len(str(x)) - 1) // 9)\n",
    "\n",
    "\n",
    "\n",
    "(10**len(str(x))-1)//9 \n",
    "\n",
    "12945\n",
    "\n",
    "\n",
    "\n"
   ]
  },
  {
   "cell_type": "markdown",
   "metadata": {},
   "source": [
    "### F. Automating simple tasks"
   ]
  },
  {
   "cell_type": "markdown",
   "metadata": {
    "collapsed": true
   },
   "source": [
    "#### Billing"
   ]
  },
  {
   "cell_type": "code",
   "execution_count": null,
   "metadata": {},
   "outputs": [],
   "source": [
    "bill = 100  #we r changing the bill amount here"
   ]
  },
  {
   "cell_type": "code",
   "execution_count": null,
   "metadata": {},
   "outputs": [],
   "source": [
    "bill + bill*5/100  #we r changing tax according to the bill no.\n"
   ]
  },
  {
   "cell_type": "markdown",
   "metadata": {},
   "source": [
    "## Intro to FN"
   ]
  },
  {
   "cell_type": "code",
   "execution_count": 24,
   "metadata": {},
   "outputs": [
    {
     "data": {
      "text/plain": [
       "1055.25"
      ]
     },
     "execution_count": 24,
     "metadata": {},
     "output_type": "execute_result"
    }
   ],
   "source": [
    "# to do the abv task we are using fn\n",
    "#simple fn - with fixed tax\n",
    "def billing(bill):\n",
    "    \"\"\"We are calculating the billing amount with fixed tax at 5%\"\"\"\n",
    "    amount = bill + bill *5/100\n",
    "    return amount\n",
    "\n",
    "x = [150,200,250]  #various bill amount\n",
    "billing(1000)\n",
    "billing (1005)"
   ]
  },
  {
   "cell_type": "code",
   "execution_count": 26,
   "metadata": {},
   "outputs": [
    {
     "data": {
      "text/plain": [
       "3125000.0"
      ]
     },
     "execution_count": 26,
     "metadata": {},
     "output_type": "execute_result"
    }
   ],
   "source": [
    "#more advanced fn to change tax amount acc. to bill amount\n",
    "def billing2(bill):\n",
    "    \"\"\"We are calculating the billing amount with variable tax at 5%\n",
    "        if amount is betweent the range 0 -1000 tax =5%\n",
    "                                        1001 - 10000 tax%=10%\n",
    "                                        10000+ tax= 25\"\"\"\n",
    "    if bill in range(0,1000):\n",
    "        amount = bill + (bill *5/100)     #tax is 5%\n",
    "    elif bill in range(1001, 10000):\n",
    "        amount = bill + (bill * 10/100)   #tax is 10%\n",
    "    else:\n",
    "        amount = bill + (bill *25/100)    #tax is 25%\n",
    "    return amount \n",
    "\n",
    "billing2(2500000)\n",
    "\n",
    "\n"
   ]
  },
  {
   "cell_type": "code",
   "execution_count": 27,
   "metadata": {},
   "outputs": [
    {
     "data": {
      "text/plain": [
       "105.0"
      ]
     },
     "execution_count": 27,
     "metadata": {},
     "output_type": "execute_result"
    }
   ],
   "source": [
    "#get 2 inp frm user to call fn\n",
    "def billing3(bill, tax):\n",
    "    \"\"\"we are gonna take 2 arguements and perform the calcuation\"\"\"\n",
    "    x = bill + (bill *tax/100)\n",
    "    return x\n",
    "billing3(100,5)"
   ]
  },
  {
   "cell_type": "code",
   "execution_count": 28,
   "metadata": {},
   "outputs": [
    {
     "data": {
      "text/plain": [
       "105.0"
      ]
     },
     "execution_count": 28,
     "metadata": {},
     "output_type": "execute_result"
    }
   ],
   "source": [
    "#giving default values in fn arg\n",
    "def billing4(bill, tax = 5):\n",
    "    \"\"\"we are gonna take 2 arguements and perform the calcuation\"\"\"\n",
    "    x = bill + (bill *tax/100)\n",
    "    return x\n",
    "billing4 (100)"
   ]
  },
  {
   "cell_type": "markdown",
   "metadata": {},
   "source": [
    "#### Printing hello\n",
    "\n",
    "Example of a function with no argument and return"
   ]
  },
  {
   "cell_type": "code",
   "execution_count": 29,
   "metadata": {},
   "outputs": [
    {
     "name": "stdout",
     "output_type": "stream",
     "text": [
      "Hi!\n"
     ]
    }
   ],
   "source": [
    "def hello():\n",
    "    print(\"Hi!\")\n",
    "    \n",
    "hello()"
   ]
  },
  {
   "cell_type": "markdown",
   "metadata": {},
   "source": [
    "#### Adding three numbers"
   ]
  },
  {
   "cell_type": "code",
   "execution_count": 35,
   "metadata": {},
   "outputs": [
    {
     "data": {
      "text/plain": [
       "3"
      ]
     },
     "execution_count": 35,
     "metadata": {},
     "output_type": "execute_result"
    }
   ],
   "source": [
    "def three(a = 1 , b = 1 , c = 1):\n",
    "    return a + b + c\n",
    "\n",
    "three()"
   ]
  },
  {
   "cell_type": "markdown",
   "metadata": {},
   "source": [
    "### G. Introduction to Conditional Statements"
   ]
  },
  {
   "cell_type": "markdown",
   "metadata": {},
   "source": [
    "#### Is the number odd?"
   ]
  },
  {
   "cell_type": "code",
   "execution_count": 36,
   "metadata": {},
   "outputs": [
    {
     "name": "stdout",
     "output_type": "stream",
     "text": [
      "odd\n"
     ]
    }
   ],
   "source": [
    "x = int(input(\"Enter the no: \"))  #prompting the no. from user\n",
    "if x%2 == 0 :\n",
    "    break\n",
    "    print(\"The no.: \", x , \"is even\")\n",
    "print(\"The no. :\", x, \"is odd\")"
   ]
  },
  {
   "cell_type": "markdown",
   "metadata": {},
   "source": [
    "#### Problem 5\n",
    "Creating a function to check if a number is Odd\n"
   ]
  },
  {
   "cell_type": "code",
   "execution_count": null,
   "metadata": {},
   "outputs": [],
   "source": [
    "def odd_evn(x):\n",
    "    if x%2 == 0:\n",
    "        return(print( \"even\"))\n",
    "    else:\n",
    "        return(print(\"odd\"))\n",
    "odd_evn(105)"
   ]
  },
  {
   "cell_type": "markdown",
   "metadata": {},
   "source": [
    "#### Exercise\n",
    "Create a function for problem 4"
   ]
  },
  {
   "cell_type": "markdown",
   "metadata": {},
   "source": [
    "p4 -If a five-digit number is input through the keyboard, write a program to calculate the sum of its digits."
   ]
  },
  {
   "cell_type": "code",
   "execution_count": null,
   "metadata": {},
   "outputs": [
    {
     "name": "stdout",
     "output_type": "stream",
     "text": [
      "Enter the no. :1234587\n"
     ]
    }
   ],
   "source": [
    "def add_dig():\n",
    "    x = int(input(\"Enter the no. :\"))\n",
    "    s =0\n",
    "    while x>=10:\n",
    "        s += x%10\n",
    "        x += x//10\n",
    "    s += x\n",
    "    return s\n",
    "add_dig()"
   ]
  },
  {
   "cell_type": "code",
   "execution_count": null,
   "metadata": {},
   "outputs": [],
   "source": [
    "#using loop\n",
    "def h():\n",
    "    x = int(input(\"Enter a 5 digit no:\"))\n",
    "    s =0\n",
    "    while x>=10:                  \n",
    "        s += x%10         \n",
    "        x = x//10        \n",
    "    s+= x                \n",
    "    return s\n",
    "\n",
    "h()"
   ]
  },
  {
   "cell_type": "markdown",
   "metadata": {},
   "source": [
    "### H. Python Script as Functions"
   ]
  },
  {
   "cell_type": "code",
   "execution_count": null,
   "metadata": {},
   "outputs": [],
   "source": [
    "import os"
   ]
  },
  {
   "cell_type": "code",
   "execution_count": null,
   "metadata": {},
   "outputs": [],
   "source": [
    "os.chdir('C:\\\\Users\\\\Gourab\\\\Downloads')"
   ]
  },
  {
   "cell_type": "code",
   "execution_count": null,
   "metadata": {},
   "outputs": [],
   "source": [
    "import package"
   ]
  },
  {
   "cell_type": "code",
   "execution_count": null,
   "metadata": {},
   "outputs": [],
   "source": [
    "package.bill2(100)"
   ]
  },
  {
   "cell_type": "code",
   "execution_count": null,
   "metadata": {},
   "outputs": [],
   "source": [
    "package.pay()"
   ]
  },
  {
   "cell_type": "code",
   "execution_count": null,
   "metadata": {},
   "outputs": [],
   "source": [
    "import package as p"
   ]
  },
  {
   "cell_type": "code",
   "execution_count": null,
   "metadata": {},
   "outputs": [],
   "source": [
    "p.pay()"
   ]
  },
  {
   "cell_type": "code",
   "execution_count": null,
   "metadata": {},
   "outputs": [],
   "source": []
  }
 ],
 "metadata": {
  "kernelspec": {
   "display_name": "Python 3",
   "language": "python",
   "name": "python3"
  },
  "language_info": {
   "codemirror_mode": {
    "name": "ipython",
    "version": 3
   },
   "file_extension": ".py",
   "mimetype": "text/x-python",
   "name": "python",
   "nbconvert_exporter": "python",
   "pygments_lexer": "ipython3",
   "version": "3.7.6"
  }
 },
 "nbformat": 4,
 "nbformat_minor": 2
}
