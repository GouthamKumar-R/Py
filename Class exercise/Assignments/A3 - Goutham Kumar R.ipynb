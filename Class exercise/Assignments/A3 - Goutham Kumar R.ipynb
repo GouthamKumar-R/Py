{
 "cells": [
  {
   "cell_type": "markdown",
   "metadata": {},
   "source": [
    "# Introduction to Python\n",
    "## Assignment 3\n"
   ]
  },
  {
   "cell_type": "markdown",
   "metadata": {},
   "source": [
    "<div style=\"text-align: right\">Submitted by: Goutham Kumar R <br/>Notebook created on: 29th August 2020</div>"
   ]
  },
  {
   "cell_type": "markdown",
   "metadata": {},
   "source": [
    "**Write Python Program for the following:**"
   ]
  },
  {
   "attachments": {
    "image.png": {
     "image/png": "[encoded data removed]"
    }
   },
   "cell_type": "markdown",
   "metadata": {},
   "source": [
    "1.\tWAP that will accept two sets of numbers and calculate the Pearson’s correlation coefficient between them. (Use necessary exception handling). (Optional if you do not know what it is)\n",
    "![image.png](attachment:image.png)"
   ]
  },
  {
   "cell_type": "code",
   "execution_count": null,
   "metadata": {},
   "outputs": [],
   "source": [
    "import math\n",
    "from operator import mul #for tuple multiplication\n",
    "\n",
    "r = 0  #Pearson’s correlation coefficient \n",
    "n = int(input(\"Enter the size of the list\"))   #subject size\n",
    "\n",
    "L =[]\n",
    "print(\"Enter \", n, \"values for the variable 'x'.\")\n",
    "for i in range(0,n):\n",
    "    e = int(input())\n",
    "    L.append(e)\n",
    "x = tuple(L)\n",
    "print(\"The value for 'x' variable : \", x)\n",
    "\n",
    "\n",
    "K = []\n",
    "print(\"Enter \", n, \"values for the variable 'y'.\")\n",
    "for j in range(0,n):\n",
    "    e1 = int(input())\n",
    "    K.append(e1)\n",
    "y = tuple(K)\n",
    "print(\"The value for 'y' variable : \", y)\n",
    "\n",
    "#numerator calculations\n",
    "xy = tuple(map(mul, x,y))\n",
    "s_xy = sum(xy) \n",
    "s_x = sum(x)\n",
    "s_y = sum(y)\n",
    "\n",
    "numerator = n*(s_xy) - (s_x)*(s_y)\n",
    "\n",
    "#denominator calculations\n",
    "x_2 = tuple(map(mul, x,x))\n",
    "s_x_2 = sum(x_2)   #sum(x^2)\n",
    "y_2 = tuple(map(mul, y,y)) \n",
    "s_y_2 = sum(y_2)  #sum(y^2)\n",
    "\n",
    "denominator = math.sqrt ((n*(s_x_2)-((s_x)**2)) * (n*(s_y_2)-((s_y)**2)))\n",
    "\n",
    "r = numerator / denominator\n",
    "\n",
    "print(\"The Pearson’s correlation coefficient is : \", r)\n",
    "\n",
    "if r == 0 :\n",
    "    print(\"There is no correaltion between the variable 'x' and 'y'.\")\n",
    "elif r < 0:\n",
    "    print(\"There is negative correaltion between the variable 'x' and 'y'.\")\n",
    "else:\n",
    "    print(\"There is positive correaltion between the variable 'x' and 'y'.\")\n",
    "\n"
   ]
  },
  {
   "cell_type": "markdown",
   "metadata": {},
   "source": [
    "2.\tWrite a program to print all prime numbers from 1 to 300."
   ]
  },
  {
   "cell_type": "code",
   "execution_count": null,
   "metadata": {},
   "outputs": [],
   "source": [
    "p = int(input(\"Enter the no. till which Prime no. has to be stored : \")) # enter 300 for assignment\n",
    "L= []\n",
    "for n in range(1, p + 1):  \n",
    "   if n > 1:  \n",
    "       for i in range(2,n):  \n",
    "           if (n % i) == 0:  \n",
    "               break  \n",
    "       else:  \n",
    "           L.append(n)\n",
    "            \n",
    "print(\"The total no. of Prime no. in range  1 -\",p,\" is stored in this List:\\n\",L)\n",
    "            \n",
    "\n"
   ]
  },
  {
   "cell_type": "markdown",
   "metadata": {},
   "source": [
    "3.\tWrite a program to print the multiplication table of the number entered by the user. The table should get displayed in the following form."
   ]
  },
  {
   "cell_type": "code",
   "execution_count": null,
   "metadata": {},
   "outputs": [],
   "source": [
    "n = int(input(\"Enter the no. for which table has to be generated: \"))\n",
    "e = int(input(\"Enter the final no. till which the table has to be generated: \"))  #last no. where the table stops\n",
    "x = 0\n",
    "print(\"The multiplication table for \", n)\n",
    "for i in range(1 ,e+1):\n",
    "    x = n * i\n",
    "    print(n,\"*\",i,\" = \",x)"
   ]
  },
  {
   "cell_type": "markdown",
   "metadata": {},
   "source": [
    "3.\tWAP which repeatedly reads numbers until the user enters “done”. Once “done” is entered, print out the total, count, and average of the numbers. If the user enters anything other than a number, detect their mistake using try and except and print an error message and skip to the next number. (Use of list is not allowed in this program)"
   ]
  },
  {
   "cell_type": "code",
   "execution_count": null,
   "metadata": {},
   "outputs": [],
   "source": [
    "total = 0\n",
    "count = 0\n",
    "avg = 0\n",
    "dummy = 0\n",
    "while 1:\n",
    "    x = input(\"Enter a number:\")\n",
    "    if x == 'done':\n",
    "        break\n",
    "    try:\n",
    "        dummy = int(x)\n",
    "    except:\n",
    "        print(\"Please enter a valid input.\")\n",
    "        continue\n",
    "    count += 1\n",
    "    total = total + int(x)\n",
    "avg = total / count\n",
    "print(\"The value of are\\n1.Total: \",total,\"\\n2.Count: \",count,\"\\n3.Average: \",avg)"
   ]
  },
  {
   "cell_type": "markdown",
   "metadata": {},
   "source": [
    "4.\tWrite another program that prompts for a list of numbers as above and at the end prints both the maximum and minimum of the numbers instead of the average. (Use of list is not allowed in this program)"
   ]
  },
  {
   "cell_type": "code",
   "execution_count": null,
   "metadata": {},
   "outputs": [],
   "source": [
    "total = 0\n",
    "count = 0\n",
    "minn = 0\n",
    "maax = 0\n",
    "dummy = 0\n",
    "while 1:\n",
    "    x = input(\"Enter a number:\")\n",
    "    if x == 'done':\n",
    "        break\n",
    "    try:\n",
    "        dummy = int(x)\n",
    "    except:\n",
    "        print(\"Please enter a valid input.\")\n",
    "        continue\n",
    "    x = int(x)\n",
    "    count += 1\n",
    "    total = total + x\n",
    "    if minn == 0 or x < minn:\n",
    "        minn = x\n",
    "    if maax == 0 or x > maax:\n",
    "        maax = x\n",
    "print(\"The value of are\\n1.Total: \",total,\"\\n2.Count: \",count,\"\\n*Minimum: \",minn,\"\\n*Maximum: \",maax)"
   ]
  },
  {
   "cell_type": "markdown",
   "metadata": {},
   "source": [
    "5.\tGuess a number is a game that prompts a player to guess a number between 0 and 9, which is randomly generated by the system. When the input given by the user matches the number generated by the system then the user wins. The game should go as follows:\n",
    "\t\n",
    "\tGuess the number: 5<br/>\n",
    "\tSorry, try again<br/>\n",
    "\tGuess the number: 3<br/>\n",
    "\tSorry, try again<br/>\n",
    "\tGuess the number: 8<br/>\n",
    "\tYou got it right! Congo!\n"
   ]
  },
  {
   "cell_type": "code",
   "execution_count": null,
   "metadata": {},
   "outputs": [],
   "source": [
    "#Assuming the use has only 3 attempts.\n",
    "import random\n",
    "\n",
    "y = random.randint(0,9) \n",
    "x = 0\n",
    "c = 0\n",
    "\n",
    "while 1:\n",
    "    x = input(\"Guess the number:\")\n",
    "    c += 1\n",
    "    if int(x) != y:\n",
    "        print(\"Sorry you are wrong, attempts left :\", 3-c)\n",
    "    elif int(x) == y:\n",
    "        print(\"You are correct.\")\n",
    "        break\n",
    "    if c == 3:\n",
    "        print(\"All chances exhausted\")\n",
    "        break\n",
    "        \n",
    "print(\"The original no. was:\",y)"
   ]
  },
  {
   "cell_type": "markdown",
   "metadata": {},
   "source": [
    "6.\tMake an improvement to the Guess a number game. Guide the user where they are standing and limit the number of attempts to 3. For example, the game should go like this:\n",
    "\t\n",
    "Guess the number: 4<br/>\n",
    "Too low<br/>\n",
    "Guess the number: 9<br/>\n",
    "Too high<br/>\n",
    "Guess the number: 5<br/>\n",
    "Sorry you Lost!\n"
   ]
  },
  {
   "cell_type": "code",
   "execution_count": null,
   "metadata": {},
   "outputs": [],
   "source": [
    "import random\n",
    "\n",
    "y = random.randint(0,9) \n",
    "x = 0\n",
    "c = 0\n",
    "\n",
    "while 1:\n",
    "    x = input(\"Guess the number:\")\n",
    "    c += 1\n",
    "    if int(x) < y:\n",
    "        print(\"Too Low!!\")\n",
    "    if int(x) > y:\n",
    "        print(\"Too high!!\")\n",
    "    elif int(x) == y:\n",
    "        print(\"You are correct.\")\n",
    "        break\n",
    "    if c == 3:\n",
    "        print(\"All chances exhausted\")\n",
    "        break\n",
    "print(\"The original no. was:\",y)"
   ]
  },
  {
   "cell_type": "markdown",
   "metadata": {},
   "source": [
    "7.\tLet us make the above game a little more interesting by converting it into a gambling problem. Suppose that a player starts with Rs. 1,000. If a player can guess the number in his first chance, then he will be given a prize of Rs. 5,000, if he requires 2 attempts then he will get a prize of Rs.1,000. If he loses then he will lose Rs. 500. For example the game should go like this:\n",
    "\n",
    "You have a cash of Rs. 1,000 with you... <br/>\n",
    "Guess the number: 8<br/>\n",
    "Too high<br/><br/>\n",
    "Guess the number: 3<br/>\n",
    "You have just won Rs. 1,000<br/><br/>\n",
    "Your balance: Rs. 2000<br/>\n"
   ]
  },
  {
   "cell_type": "code",
   "execution_count": null,
   "metadata": {},
   "outputs": [],
   "source": [
    "#gambling game!!\n",
    "\n",
    "print(\"Welcome to Gotham Club!!\")\n",
    "name = input(\"Enter your name: \")\n",
    "print(\"Hi, \",name,\"as a welcome bonus we have given you Rs.1000/-.\")\n",
    "#rules\n",
    "print(\"Here are the rules for playing this gambling game.\\n*You have to guess a no. between 0 and 9.\\n1)If you can successfuly guess it in the first chance\\n*******You can Win Rs5000/-******** \")\n",
    "print(\"2)If you can successfuly guess it in second chance.\\n***You can Win Rs.1000/-***\")\n",
    "print(\"3)If you fail to find the no. in three chances-\\n.You Lose Rs.500/- only!\")\n",
    "\n",
    "import random\n",
    "\n",
    "y = random.randint(0,9) \n",
    "#y = 3  #testing variable\n",
    "x = 0\n",
    "c = 0\n",
    "acc = 1000\n",
    "for c in range(0,3):\n",
    "    x = input(\"Guess the number: \")\n",
    "    c += 1\n",
    "    if int(x) < y:\n",
    "        print(\"Sorry,\",name,\"your guess is Too Low!!\\n Attempts left: \", 3-c)\n",
    "        win = False\n",
    "    if int(x) > y:\n",
    "        print(\"Sorry,\",name,\"your guess is Too high!!\\n Attempts left: \", 3-c)\n",
    "        win = False\n",
    "    elif int(x) == y:\n",
    "        print('*'*6,\"You are correct.\",'*'*6)\n",
    "        win = True\n",
    "        break\n",
    "        \n",
    "if c == 1:\n",
    "    acc += 5000\n",
    "    print(name,\"!!, you have won Rs.5000/- \")\n",
    "    print(\"Total account balance: Rs. \",acc,\"/- \")\n",
    "elif c == 2:\n",
    "    acc += 1000\n",
    "    print(name,\"!!, you have won Rs.1000/- \")\n",
    "    print(\"Total account balance: Rs. \",acc,\"/- \")\n",
    "elif c == 3 and win != True:\n",
    "    acc -= 500\n",
    "    print(name,\"!!, you just lost Rs.500/- \")\n",
    "    print(\"Total account balance: Rs. \",acc,\"/- \")\n",
    "elif c == 3 and win == True:\n",
    "    print(\"congrats, you didn't lose anything!\")\n",
    "    print(\"Total account balance: Rs. \",acc,\"/- \")"
   ]
  },
  {
   "cell_type": "markdown",
   "metadata": {},
   "source": [
    "**Extra Credit Problem**"
   ]
  },
  {
   "cell_type": "markdown",
   "metadata": {},
   "source": [
    "8.\tRecall the problem when you kept prompting the user to withdraw money from the wallet to start the game. Integrate this program with the one you have written for problem 7. \n",
    "a.\tFor this problem, consider that the minimum balance to start the game is Rs. 500.<br/>\n",
    "b.\tAfter one game is over add/deduct money from the account. <br/>\n",
    "c.\tPrompt the user if he/she would like to play one more time.<br/> \n",
    "i.\tIf the user says “Yes” then check if the user has enough balance to play the game again. If not prompt the user to withdraw money from his wallet before the program starts the game. When the balance will be greater than Rs. 500 the program will automatically start the game.<br/> \n",
    "ii.\tIf the user says “No”, then stop the game with a message “Have a wonderful day!”<br/>\n"
   ]
  },
  {
   "cell_type": "code",
   "execution_count": null,
   "metadata": {},
   "outputs": [],
   "source": [
    "import random\n",
    "#Global variables\n",
    "y = random.randint(0,9) \n",
    "#y = 3 #testing variable\n",
    "x = 0\n",
    "\n",
    "\n",
    "def game(name,acc):\n",
    "    \"\"\"Game fn : Guessing game.\n",
    "        arguments: 'name'- of the user and 'acc' of the user.\n",
    "        fn purporse: Guessing game and prize money calucation\n",
    "        return value: 'acc' after prize money calculation \"\"\"\n",
    "    acc = acc - 500  #deducting 500 as entry fee for playing the game\n",
    "    c = 0 #count variable\n",
    "    for c in range(1,4):\n",
    "        x = input(\"Guess the number: \")\n",
    "        if int(x) < y:\n",
    "            print(\"Sorry,\",name,\"your guess is Too Low!!\\n Attempts left: \", 3-c)\n",
    "            win = False\n",
    "        if int(x) > y:\n",
    "            print(\"Sorry,\",name,\"your guess is Too high!!\\n Attempts left: \", 3-c)\n",
    "            win = False\n",
    "        elif int(x) == y:\n",
    "            print('*'*6,\"You are correct.\",'*'*6)\n",
    "            win = True    #flag to check if he wins in the 3rd attempt.\n",
    "            break\n",
    "    #Prize money calculation    \n",
    "    if c == 1:\n",
    "        acc += 5500   #prize is 5.5k, bcoz whenever we start the game we r deducting 500\n",
    "        print(name,\"!!, you have won Rs.5000/- \")\n",
    "        print(\"Total account balance: Rs. \",acc,\"/- \")\n",
    "    elif c == 2:\n",
    "        acc += 1500\n",
    "        print(name,\"!!, you have won Rs.1000/- \")\n",
    "        print(\"Total account balance: Rs. \",acc,\"/- \")\n",
    "    elif c == 3 and win != True:\n",
    "        print(name,\"!!, you just lost Rs.500/- \")\n",
    "        print(\"Total account balance: Rs. \",acc,\"/- \")\n",
    "    elif c == 3 and win == True:\n",
    "        acc += 500                   #if he wins in third attempt, no money is withdrawn from hiis acc.\n",
    "        print(\"Total account balance: Rs. \",acc,\"/- \")\n",
    "    return acc\n",
    "        \n",
    "def amount_transfer(acc, wallet):\n",
    "    \"\"\"ammount transfer : for transfering amunt from user's wallet to game account\n",
    "        arguments: acc-game account , wallet- userr's wallet or credit card\n",
    "        returns: acc - after the transcation is completed.\"\"\"\n",
    "    \n",
    "    w = ''\n",
    "    w_a = 0\n",
    "    print(\"Sorry!, you dont have sufficient balance to play the game.\")\n",
    "    w = input(\"Do you wish to add money from your wallet:\\n* Type(yes/no): \")\n",
    "    if w.lower() == 'yes':\n",
    "        w_a = int(input(\"How much amount do you like to transfer: \"))  #w_a is user acc in club\n",
    "        wallet -= w_a  #subtracting money from user's original wallet\n",
    "        acc += w_a  #adding it to user's gameclub acc\n",
    "        print(\"Now your account balance is:\",acc)\n",
    "    elif w.lower() == 'no':\n",
    "        print(\"Transcation Cancelled!\")\n",
    "        print(\"Thanks for playing buddy.\\n Have a wonderful day!!\")\n",
    "    \n",
    "    return acc\n",
    "        \n",
    "def main():\n",
    "    #main program\n",
    "    acc = 1000  #welcome bonus\n",
    "    wallet = 5000  #user's wallet or credit card\n",
    "    print(\"Welcome to Gotham Club!!\")\n",
    "    name = input(\"Enter your name: \")\n",
    "    print(\"Hi, \",name,\"as a welcome bonus we have given you Rs.1000/-.\")\n",
    "    #rules\n",
    "    print(\"Here are the rules for playing this gambling game.\\n*You have to guess a no. between 0 and 9.\\n1)If you can successfuly guess it in the first chance\\n*******You can Win Rs.5000/-******** \")\n",
    "    print(\"2)If you can successfuly guess it in second chance.\\n***You can Win Rs.1000/-***\")\n",
    "    print(\"3)If you fail to find the no. in three chances-\\n.You Lose Rs.500/- only!\")\n",
    "    while 1:\n",
    "        if acc < 500:\n",
    "            acc = amount_transfer(acc, wallet)\n",
    "            if acc < 500:\n",
    "                print(\"Insufficient fund!!! Minimum balance required is Rs.500/-\")\n",
    "                y_n = input(\"Type \\n* 'add' - to add more fund. or \\n* 'exit' - to exit the game.\")\n",
    "                if y_n.lower() == 'exit':\n",
    "                    break\n",
    "                elif y_n.lower() == 'add':\n",
    "                    continue\n",
    "        acc = game(name, acc)\n",
    "        print(\"Hi !!\",name)\n",
    "        y_n = input(\"Type \\n* 'yes' -if you wish to play again or \\n* 'no' - to quit.\")\n",
    "        if y_n.lower() == 'no':\n",
    "            print(name,\"Thanks for playing buddy.\\n Have a wonderful day!!\")\n",
    "            break\n",
    "main()"
   ]
  },
  {
   "cell_type": "markdown",
   "metadata": {},
   "source": [
    "9. Password mangement system"
   ]
  },
  {
   "cell_type": "code",
   "execution_count": null,
   "metadata": {},
   "outputs": [],
   "source": []
  },
  {
   "cell_type": "code",
   "execution_count": 5,
   "metadata": {},
   "outputs": [
    {
     "name": "stdout",
     "output_type": "stream",
     "text": [
      "Welcome to Your profile!!\n",
      "If you forgoten your password.\n",
      "\tType : forgot password\n",
      "If you want to exit this window.\n",
      "\tType: x\n",
      "\n",
      "Enter the password:x\n",
      "Exiting.................\n"
     ]
    }
   ],
   "source": [
    "def wait(n=30):   #wait fn given by gourab sir // copied from stackoverflow\n",
    "    \n",
    "    import sys\n",
    "    import time\n",
    "    for remaining in range(n, 0, -1):\n",
    "        sys.stdout.write(\"\\r%d seconds remaining.\" %remaining)\n",
    "        time.sleep(1)\n",
    "\n",
    "# c = 0   \n",
    "def psw():\n",
    "    \"\"\"Password management fn\n",
    "        Default password is 'admin'.\n",
    "        5 attempts will be given, before locking the system for a certain duration.\n",
    "        after that user can retry.\n",
    "        forgot pswd : will prompt an hint\n",
    "        returns c - counter after the n incorrect attempts. \"\"\"\n",
    "    c = 0  #counter for 5 incorret attempts\n",
    "    while 1:\n",
    "        pswd = input(\"Enter the password:\")\n",
    "        \n",
    "        if pswd.lower() == 'x':\n",
    "            print('Exiting.................')\n",
    "            break\n",
    "        if pswd.lower() == 'forgot password':\n",
    "            print(\"Hint : You are the boss here.\")\n",
    "            continue\n",
    "        c += 1\n",
    "        if pswd != 'admin':\n",
    "            print(\"No. attempts left:\" , 5-c)\n",
    "        if c == 5:\n",
    "            print(\"You have lost all your\",c,\" chances\")\n",
    "            break\n",
    "        elif pswd == 'admin':\n",
    "            print(\"Login Successful!!\")\n",
    "            break\n",
    "        else:\n",
    "            print(\"The password is incorrect.\") \n",
    "    return(c)\n",
    "\n",
    "\n",
    "def main():\n",
    "    #main program\n",
    "    print(\"Welcome to Your profile!!\")\n",
    "    print(\"If you forgoten your password.\\n\\tType : forgot password\")\n",
    "    print(\"If you want to exit this window.\\n\\tType: x\\n\")\n",
    "    \n",
    "    Lock_counter = 0  #acoount will be locked after two incorrect attempts after time penalty.\n",
    "    while Lock_counter < 3:\n",
    "        c = psw()\n",
    "        if c < 5:   \n",
    "            break\n",
    "        if c == 5:\n",
    "            Lock_counter += 1\n",
    "            print(\"\\nPlease enter the correct password or your account will be locked.\")\n",
    "            wait(5)\n",
    "            print()\n",
    "            Lock_counter += 1\n",
    "            psw()\n",
    "            \n",
    "        if Lock_counter == 2:\n",
    "            print(\"\\n\\nAccount Locked!!\")\n",
    "            break\n",
    "        \n",
    "main()"
   ]
  },
  {
   "cell_type": "code",
   "execution_count": null,
   "metadata": {},
   "outputs": [],
   "source": []
  },
  {
   "cell_type": "code",
   "execution_count": null,
   "metadata": {},
   "outputs": [],
   "source": []
  }
 ],
 "metadata": {
  "kernelspec": {
   "display_name": "Python 3",
   "language": "python",
   "name": "python3"
  },
  "language_info": {
   "codemirror_mode": {
    "name": "ipython",
    "version": 3
   },
   "file_extension": ".py",
   "mimetype": "text/x-python",
   "name": "python",
   "nbconvert_exporter": "python",
   "pygments_lexer": "ipython3",
   "version": "3.7.6"
  },
  "toc": {
   "base_numbering": 1,
   "nav_menu": {},
   "number_sections": false,
   "sideBar": true,
   "skip_h1_title": false,
   "title_cell": "Table of Contents",
   "title_sidebar": "Contents",
   "toc_cell": false,
   "toc_position": {},
   "toc_section_display": true,
   "toc_window_display": true
  }
 },
 "nbformat": 4,
 "nbformat_minor": 4
}
