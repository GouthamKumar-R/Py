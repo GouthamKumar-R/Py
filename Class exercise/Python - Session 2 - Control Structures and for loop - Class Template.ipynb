{
 "cells": [
  {
   "cell_type": "markdown",
   "metadata": {},
   "source": [
    "session 3 - Date - 24th Aug 2020"
   ]
  },
  {
   "cell_type": "markdown",
   "metadata": {},
   "source": [
    "### A. Things you already know:\n",
    "\n",
    "* Boolean expression\n",
    "* Logical operators\n",
    "* Logical expressions (if:, else if:, else:)\n",
    "\n",
    "*Note: In Python **else if** is written as **elif** *"
   ]
  },
  {
   "cell_type": "markdown",
   "metadata": {},
   "source": [
    "### B. Introducing elif:"
   ]
  },
  {
   "cell_type": "code",
   "execution_count": 2,
   "metadata": {},
   "outputs": [
    {
     "name": "stdout",
     "output_type": "stream",
     "text": [
      "Enter a number: 56560\n",
      "Positive\n"
     ]
    }
   ],
   "source": [
    "number = int(input(\"Enter a number: \"))\n",
    "\n",
    "if number > 0:\n",
    "    print(\"Positive\")\n",
    "elif number < 0:\n",
    "    print(\"Negative\")\n",
    "else:\n",
    "    print(\"Zero\")"
   ]
  },
  {
   "cell_type": "markdown",
   "metadata": {},
   "source": [
    "#### Exercise:\n",
    "\n",
    "**Recall the problem:**\n",
    "\n",
    "For a certain academic subject the students are evaluated based on five tests -\n",
    "\n",
    "* Quiz 1 (20 marks - 10% Weight),\n",
    "* Quiz 2 (20 marks - 10% Weight),\n",
    "* Class test (50 marks - 25% Weight),\n",
    "* Assignment (100 marks - 25% weight) and\n",
    "* Project (200 marks - 30% weight).\n",
    "\n",
    "Design a program that will prompt the user for marks for each of the tests and calculate the overall marks (out of 100).\n"
   ]
  },
  {
   "cell_type": "markdown",
   "metadata": {},
   "source": [
    "#### Add an extension to the problem to display grades:\n",
    "\n",
    "Display the grades of students using the following table:\n",
    "\n",
    "    Score\t\tGrade\n",
    "\t>= 60\t\tFirst Class\n",
    "\t>= 40\t\tSecond Class\n",
    "\t< 40\t\tFail\n"
   ]
  },
  {
   "cell_type": "code",
   "execution_count": 6,
   "metadata": {},
   "outputs": [
    {
     "name": "stdout",
     "output_type": "stream",
     "text": [
      "Enter the marks obatined in Quiz1 out of 20:15\n",
      "Enter the marks obatined in Quiz2 out of 20:15\n",
      "Enter the marks obatined in class test out of 50:45\n",
      "Enter the marks obatined in assignment out of 100:95\n",
      "Enter the marks obatined in Project out of 200:195\n",
      "Total Marks obtained is: 90.5\n",
      "Your grade is - First Class\n"
     ]
    }
   ],
   "source": [
    "#simpler code - from previous seesion\n",
    "\n",
    "q1 = (int(input(\"Enter the marks obatined in Quiz1 out of 20:\"))/20) * 0.10\n",
    "q2 = (int(input(\"Enter the marks obatined in Quiz2 out of 20:\"))/20) * 0.10\n",
    "ct = (int(input(\"Enter the marks obatined in class test out of 50:\"))/50) * 0.25\n",
    "assg = (int(input(\"Enter the marks obatined in assignment out of 100:\"))/100) * 0.25\n",
    "prj = (int(input(\"Enter the marks obatined in Project out of 200:\"))/200) * 0.30\n",
    "\n",
    "total = (q1 +q2 +ct +assg +prj)*100\n",
    "print(\"Total Marks obtained is:\" , total)\n",
    "\n",
    "if total>=60:\n",
    "    print(\"Your grade is - First Class\")\n",
    "elif total>=40:\n",
    "    print(\"Your grade is - Second Class\")\n",
    "else:\n",
    "    print(\"Your grade is Fail\")"
   ]
  },
  {
   "cell_type": "markdown",
   "metadata": {},
   "source": [
    "#### Exercise:\n",
    "\n",
    "** Recall the problem:**\n",
    "\n",
    "How about prompting the user for the number of hours and using the input value to compute the total pay?"
   ]
  },
  {
   "cell_type": "markdown",
   "metadata": {},
   "source": [
    "** Include a modification **\n",
    "\n",
    "Write a program to prompt the user for hours and rate per hour to compute the gross pay. The pay computation should be such that the employees should get 1.5 times the hourly rate for hours worked above 40 hours."
   ]
  },
  {
   "cell_type": "code",
   "execution_count": 12,
   "metadata": {},
   "outputs": [
    {
     "name": "stdout",
     "output_type": "stream",
     "text": [
      "Enter the total working hrs:45\n",
      "Enter the rate: 12\n",
      "GrossPay =  570.0\n"
     ]
    }
   ],
   "source": [
    "x = eval(input(\"Enter the total working hrs:\"))\n",
    "rate = eval(input(\"Enter the rate: \"))\n",
    "gp = 0\n",
    "if x >40:\n",
    "    gp = 40*12 + (x-40)*12*1.5\n",
    "else:\n",
    "    gp = (rate*x)\n",
    "print(\"GrossPay = \", gp)"
   ]
  },
  {
   "cell_type": "markdown",
   "metadata": {},
   "source": [
    "### C. Exception Handling:"
   ]
  },
  {
   "cell_type": "markdown",
   "metadata": {},
   "source": [
    "#try and except\n",
    "try:\n",
    "    code\n",
    "except:\n",
    "    print(\"the entry is invalid\")\n"
   ]
  },
  {
   "cell_type": "markdown",
   "metadata": {},
   "source": [
    "**try & except**"
   ]
  },
  {
   "cell_type": "markdown",
   "metadata": {},
   "source": [
    "Rewrite the pay program (refer problem 2) using try and expect so that the program handles non-numeric input gracefully by printing a message and exiting the program. The following shows two executions of the program:\n",
    "\n",
    "\tEnter hours: 20\n",
    "\tEnter rate:  nine\n",
    "\tError, please enter numeric input"
   ]
  },
  {
   "cell_type": "code",
   "execution_count": 13,
   "metadata": {},
   "outputs": [
    {
     "name": "stdout",
     "output_type": "stream",
     "text": [
      "Enter the total working hrs:ten\n",
      "Invalid entry, start again\n"
     ]
    }
   ],
   "source": [
    "try:\n",
    "    x = eval(input(\"Enter the total working hrs:\"))\n",
    "    rate = eval(input(\"Enter the rate: \"))\n",
    "    gp = 0\n",
    "    if x >40:\n",
    "        gp = 40*12 + (x-40)*12*1.5\n",
    "    else:\n",
    "        gp = (rate*x)\n",
    "    print(\"GrossPay = \", gp)\n",
    "except:\n",
    "    print(\"Invalid entry, start again\")"
   ]
  },
  {
   "cell_type": "code",
   "execution_count": 17,
   "metadata": {},
   "outputs": [
    {
     "name": "stdout",
     "output_type": "stream",
     "text": [
      "Enter the total working hrs:ten\n",
      "Invaild entry, start again\n"
     ]
    }
   ],
   "source": [
    "#multiple excpetion\n",
    "try:\n",
    "    x = eval(input(\"Enter the total working hrs:\"))\n",
    "    rate = eval(input(\"Enter the rate: \"))\n",
    "    gp = 0\n",
    "    if x >40:\n",
    "        gp = 40*12 + (x-40)*12*1.5\n",
    "    else:\n",
    "        gp = (rate*x)\n",
    "    print(\"GrossPay = \", gp)\n",
    "except (ValueError, NameError, SyntaxError):\n",
    "    print(\"Invaild entry, start again\")\n",
    "    "
   ]
  },
  {
   "cell_type": "markdown",
   "metadata": {},
   "source": [
    "### D. For Loop"
   ]
  },
  {
   "cell_type": "markdown",
   "metadata": {},
   "source": [
    "** Consider the following list of number **\n",
    "    \n",
    "    L = [12,18,11,15,9,7,16]"
   ]
  },
  {
   "cell_type": "code",
   "execution_count": 2,
   "metadata": {},
   "outputs": [],
   "source": [
    "L = [12,18,11,15,9,7,16]"
   ]
  },
  {
   "cell_type": "code",
   "execution_count": 24,
   "metadata": {},
   "outputs": [
    {
     "name": "stdout",
     "output_type": "stream",
     "text": [
      "12,18,11,15,9,7,16,"
     ]
    }
   ],
   "source": [
    "for i in range(len(L)):\n",
    "    print(L[i], end=',')"
   ]
  },
  {
   "cell_type": "markdown",
   "metadata": {},
   "source": [
    "**1. Calculating the sum of numbers in a list. **"
   ]
  },
  {
   "cell_type": "code",
   "execution_count": 5,
   "metadata": {},
   "outputs": [
    {
     "name": "stdout",
     "output_type": "stream",
     "text": [
      "The sum of the list is : 88\n"
     ]
    }
   ],
   "source": [
    "s = 0\n",
    "for j in range(len(L)):\n",
    "    s += L[j]\n",
    "print(\"The sum of the list is :\", s)"
   ]
  },
  {
   "cell_type": "code",
   "execution_count": 3,
   "metadata": {},
   "outputs": [
    {
     "data": {
      "text/plain": [
       "88"
      ]
     },
     "execution_count": 3,
     "metadata": {},
     "output_type": "execute_result"
    }
   ],
   "source": [
    "sum(L)"
   ]
  },
  {
   "cell_type": "markdown",
   "metadata": {},
   "source": [
    "** 2. Counting the number of elements present in a list. **"
   ]
  },
  {
   "cell_type": "code",
   "execution_count": 7,
   "metadata": {},
   "outputs": [
    {
     "name": "stdout",
     "output_type": "stream",
     "text": [
      "Total no. of elements in the list is : 7\n"
     ]
    }
   ],
   "source": [
    "#without using len()\n",
    "count = 0\n",
    "for k in L:\n",
    "    count += 1\n",
    "print(\"Total no. of elements in the list is :\", count)"
   ]
  },
  {
   "cell_type": "code",
   "execution_count": 6,
   "metadata": {},
   "outputs": [
    {
     "data": {
      "text/plain": [
       "7"
      ]
     },
     "execution_count": 6,
     "metadata": {},
     "output_type": "execute_result"
    }
   ],
   "source": [
    "len(L)"
   ]
  },
  {
   "cell_type": "markdown",
   "metadata": {},
   "source": [
    "** 3. Finding the largest number in a sequence.**"
   ]
  },
  {
   "cell_type": "code",
   "execution_count": 8,
   "metadata": {},
   "outputs": [
    {
     "name": "stdout",
     "output_type": "stream",
     "text": [
      "18\n"
     ]
    },
    {
     "data": {
      "text/plain": [
       "[7, 9, 11, 12, 15, 16, 18]"
      ]
     },
     "execution_count": 8,
     "metadata": {},
     "output_type": "execute_result"
    }
   ],
   "source": [
    "L.sort()\n",
    "print(L[-1])"
   ]
  },
  {
   "cell_type": "code",
   "execution_count": 29,
   "metadata": {},
   "outputs": [
    {
     "name": "stdout",
     "output_type": "stream",
     "text": [
      "18\n"
     ]
    }
   ],
   "source": [
    "print(max(L))"
   ]
  },
  {
   "cell_type": "code",
   "execution_count": 42,
   "metadata": {},
   "outputs": [
    {
     "name": "stdout",
     "output_type": "stream",
     "text": [
      "The largest no. of the list is:  18\n"
     ]
    }
   ],
   "source": [
    "maax = L[0]\n",
    "for i in range(len(L)):\n",
    "    if L[i] > maax:\n",
    "        maax = L[i]\n",
    "print(\"The largest no. of the list is: \", maax)   "
   ]
  },
  {
   "cell_type": "markdown",
   "metadata": {},
   "source": [
    "** 4. Finding the smallest number in a sequence. **"
   ]
  },
  {
   "cell_type": "code",
   "execution_count": 36,
   "metadata": {},
   "outputs": [
    {
     "name": "stdout",
     "output_type": "stream",
     "text": [
      "7\n"
     ]
    }
   ],
   "source": [
    "L.sort()\n",
    "print(L[0])"
   ]
  },
  {
   "cell_type": "code",
   "execution_count": 37,
   "metadata": {
    "scrolled": true
   },
   "outputs": [
    {
     "name": "stdout",
     "output_type": "stream",
     "text": [
      "7\n"
     ]
    }
   ],
   "source": [
    "print(min(L))"
   ]
  },
  {
   "cell_type": "code",
   "execution_count": 43,
   "metadata": {},
   "outputs": [
    {
     "name": "stdout",
     "output_type": "stream",
     "text": [
      "The lowest no. is:  7\n"
     ]
    }
   ],
   "source": [
    "miin = L[0]\n",
    "for i in range(len(L)):\n",
    "    if L[i]< miin:\n",
    "        miin = L[i]\n",
    "print(\"The lowest no. is: \", miin)"
   ]
  },
  {
   "cell_type": "markdown",
   "metadata": {},
   "source": [
    "### E. Introducing range()"
   ]
  },
  {
   "cell_type": "markdown",
   "metadata": {},
   "source": [
    "range()"
   ]
  },
  {
   "cell_type": "markdown",
   "metadata": {},
   "source": [
    "**1. Calculate the sum of first n integers**"
   ]
  },
  {
   "cell_type": "code",
   "execution_count": 9,
   "metadata": {},
   "outputs": [
    {
     "name": "stdout",
     "output_type": "stream",
     "text": [
      "Enter the nth integer: 5\n",
      "The sum of first 5 integers is : 15\n"
     ]
    }
   ],
   "source": [
    "n = eval(input(\"Enter the nth integer: \"))\n",
    "s1=0\n",
    "for i in range(0,n+1):\n",
    "    s1 += i\n",
    "print(\"The sum of first\",n,\"integers is :\",s1)"
   ]
  },
  {
   "cell_type": "markdown",
   "metadata": {},
   "source": [
    "**2. Calculate the mean of the first n integers.**"
   ]
  },
  {
   "cell_type": "code",
   "execution_count": 4,
   "metadata": {},
   "outputs": [
    {
     "name": "stdout",
     "output_type": "stream",
     "text": [
      "Enter the nth integer: 10\n",
      "The mean of first 45 integers is : 4.5\n"
     ]
    }
   ],
   "source": [
    "n1 = eval(input(\"Enter the nth integer: \"))\n",
    "m=0\n",
    "for i in range(0,n1):\n",
    "    m += i\n",
    "print(\"The mean of first\",m,\"integers is :\",m/n1)"
   ]
  },
  {
   "cell_type": "markdown",
   "metadata": {},
   "source": [
    "**3. Calculate the standard deviation of the first n integers**"
   ]
  },
  {
   "cell_type": "code",
   "execution_count": 7,
   "metadata": {
    "scrolled": true
   },
   "outputs": [
    {
     "name": "stdout",
     "output_type": "stream",
     "text": [
      "Enter the integer:10\n"
     ]
    },
    {
     "ename": "TypeError",
     "evalue": "'float' object is not iterable",
     "output_type": "error",
     "traceback": [
      "\u001b[1;31m---------------------------------------------------------------------------\u001b[0m",
      "\u001b[1;31mTypeError\u001b[0m                                 Traceback (most recent call last)",
      "\u001b[1;32m<ipython-input-7-778552ddb4a3>\u001b[0m in \u001b[0;36m<module>\u001b[1;34m\u001b[0m\n\u001b[0;32m     11\u001b[0m \u001b[1;32mfor\u001b[0m \u001b[0mj\u001b[0m \u001b[1;32min\u001b[0m \u001b[0mrange\u001b[0m\u001b[1;33m(\u001b[0m\u001b[1;36m0\u001b[0m\u001b[1;33m,\u001b[0m\u001b[0mint\u001b[0m\u001b[1;33m(\u001b[0m\u001b[0mnew\u001b[0m\u001b[1;33m)\u001b[0m\u001b[1;33m+\u001b[0m\u001b[1;36m1\u001b[0m\u001b[1;33m)\u001b[0m\u001b[1;33m:\u001b[0m\u001b[1;33m\u001b[0m\u001b[1;33m\u001b[0m\u001b[0m\n\u001b[0;32m     12\u001b[0m     \u001b[1;31m#std = math.sqrt(round((sum((i-m))/(new-1),1))\u001b[0m\u001b[1;33m\u001b[0m\u001b[1;33m\u001b[0m\u001b[1;33m\u001b[0m\u001b[0m\n\u001b[1;32m---> 13\u001b[1;33m     \u001b[0mv\u001b[0m \u001b[1;33m=\u001b[0m \u001b[0msum\u001b[0m\u001b[1;33m(\u001b[0m\u001b[1;33m(\u001b[0m\u001b[0mj\u001b[0m\u001b[1;33m-\u001b[0m\u001b[0mm\u001b[0m\u001b[1;33m)\u001b[0m\u001b[1;33m**\u001b[0m\u001b[1;36m2\u001b[0m\u001b[1;33m)\u001b[0m\u001b[1;33m/\u001b[0m\u001b[1;33m(\u001b[0m\u001b[0mnew\u001b[0m\u001b[1;33m-\u001b[0m\u001b[1;36m1\u001b[0m\u001b[1;33m)\u001b[0m\u001b[1;33m\u001b[0m\u001b[1;33m\u001b[0m\u001b[0m\n\u001b[0m\u001b[0;32m     14\u001b[0m     \u001b[0mstd\u001b[0m \u001b[1;33m=\u001b[0m \u001b[0mmath\u001b[0m\u001b[1;33m.\u001b[0m\u001b[0msqrt\u001b[0m\u001b[1;33m(\u001b[0m\u001b[0mv\u001b[0m\u001b[1;33m)\u001b[0m\u001b[1;33m\u001b[0m\u001b[1;33m\u001b[0m\u001b[0m\n\u001b[0;32m     15\u001b[0m \u001b[0mprint\u001b[0m\u001b[1;33m(\u001b[0m\u001b[1;34m\"The st.deviatiom of first\"\u001b[0m\u001b[1;33m,\u001b[0m\u001b[0mnew\u001b[0m\u001b[1;33m,\u001b[0m \u001b[1;34m\"integers is: \"\u001b[0m\u001b[1;33m,\u001b[0m\u001b[0mstd\u001b[0m\u001b[1;33m)\u001b[0m\u001b[1;33m\u001b[0m\u001b[1;33m\u001b[0m\u001b[0m\n",
      "\u001b[1;31mTypeError\u001b[0m: 'float' object is not iterable"
     ]
    }
   ],
   "source": [
    "import math\n",
    "\n",
    "std = 0#st.deviation\n",
    "v = 0  #variance\n",
    "m = 0  #mean\n",
    "new = eval(input(\"Enter the integer:\"))\n",
    "\n",
    "for i in range(0,int(new)+1):\n",
    "    m += i\n",
    "m = m/new   #mean is recorded\n",
    "for j in range(0,int(new)+1):\n",
    "    #std = math.sqrt(round((sum((i-m))/(new-1),1))\n",
    "    v = sum((j-m)**2)/(new-1)\n",
    "    std = math.sqrt(v)\n",
    "print(\"The st.deviatiom of first\",new, \"integers is: \",std)"
   ]
  },
  {
   "cell_type": "code",
   "execution_count": 5,
   "metadata": {},
   "outputs": [
    {
     "name": "stdout",
     "output_type": "stream",
     "text": [
      "Enter the integer:10\n",
      "[1, 2, 3, 4, 5, 6, 7, 8, 9]\n",
      "2.7386127875258306\n"
     ]
    }
   ],
   "source": [
    "#using sts fn   \n",
    "import statistics as sts\n",
    "\n",
    "n = eval(input(\"Enter the integer:\"))\n",
    "\n",
    "L=[]\n",
    "\n",
    "for i in range(1,n):\n",
    "    if i not in L:\n",
    "        L.append(i)\n",
    "print(L)    \n",
    "print(sts.stdev(L,4.5)) #st.dev sample\n"
   ]
  },
  {
   "cell_type": "code",
   "execution_count": 17,
   "metadata": {},
   "outputs": [
    {
     "name": "stdout",
     "output_type": "stream",
     "text": [
      "Enter the integer:10\n",
      "The st.deviatiom of first 10 integers is:  2.8722813232690143\n"
     ]
    }
   ],
   "source": [
    "#using reduced formula \n",
    "#std for first n no. is sqrt((n^2-1)/12)\n",
    "\n",
    "std = 0#st.deviation\n",
    "n = eval(input(\"Enter the integer:\"))\n",
    "x=0\n",
    "for i in range(0,n+1):\n",
    "    x= ((i**2)-1)/12\n",
    "    std = (x)**0.5\n",
    "print(\"The st.deviatiom of first\",n, \"integers is: \",std)\n",
    "\n",
    "#achieved perfect output"
   ]
  },
  {
   "cell_type": "code",
   "execution_count": 3,
   "metadata": {},
   "outputs": [
    {
     "name": "stdout",
     "output_type": "stream",
     "text": [
      "Enter a no:10\n",
      "4.5\n",
      "2.8722813232690143\n"
     ]
    }
   ],
   "source": [
    "#working\n",
    "n = eval(input(\"Enter a no:\"))\n",
    "stddev =0\n",
    "avg =0\n",
    "for i in range(0,n):\n",
    "    avg = avg + i\n",
    "avg = avg /n\n",
    "print(avg)\n",
    "\n",
    "diff_squared = 0\n",
    "sum_diff_squared = 0\n",
    "\n",
    "for j in range(0,n):\n",
    "    diff_squared = (j-avg)**2\n",
    "    sum_diff_squared += diff_squared \n",
    "stddev = ((sum_diff_squared/(n))**0.5)\n",
    "print(stddev)"
   ]
  },
  {
   "cell_type": "code",
   "execution_count": 1,
   "metadata": {},
   "outputs": [
    {
     "name": "stdout",
     "output_type": "stream",
     "text": [
      "Enter a no.10\n",
      "[0, 1, 2, 3, 4, 5, 6, 7, 8, 9]\n",
      "2.8722813232690143\n"
     ]
    }
   ],
   "source": [
    "import scipy\n",
    "import numpy as np\n",
    "L=[]\n",
    "\n",
    "x = eval(input(\"Enter a no.\"))\n",
    "\n",
    "for i in range(0,x):\n",
    "    if i not in L:\n",
    "        L.append(i)\n",
    "        \n",
    "print(L)\n",
    "print(np.sqrt(np.var(L)))\n",
    "\n",
    "#achieved perfect output"
   ]
  },
  {
   "cell_type": "code",
   "execution_count": null,
   "metadata": {},
   "outputs": [],
   "source": []
  }
 ],
 "metadata": {
  "kernelspec": {
   "display_name": "Python 3",
   "language": "python",
   "name": "python3"
  },
  "language_info": {
   "codemirror_mode": {
    "name": "ipython",
    "version": 3
   },
   "file_extension": ".py",
   "mimetype": "text/x-python",
   "name": "python",
   "nbconvert_exporter": "python",
   "pygments_lexer": "ipython3",
   "version": "3.7.6"
  },
  "toc": {
   "base_numbering": 1,
   "nav_menu": {},
   "number_sections": false,
   "sideBar": true,
   "skip_h1_title": false,
   "title_cell": "Table of Contents",
   "title_sidebar": "Contents",
   "toc_cell": false,
   "toc_position": {},
   "toc_section_display": true,
   "toc_window_display": false
  }
 },
 "nbformat": 4,
 "nbformat_minor": 2
}
