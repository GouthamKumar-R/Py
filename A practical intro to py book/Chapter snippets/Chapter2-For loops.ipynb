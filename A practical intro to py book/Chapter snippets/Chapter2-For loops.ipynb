{
 "cells": [
  {
   "cell_type": "markdown",
   "metadata": {},
   "source": [
    "# Chaprter 2 - FOR Loops\n"
   ]
  },
  {
   "cell_type": "markdown",
   "metadata": {},
   "source": [
    "Basic example"
   ]
  },
  {
   "cell_type": "code",
   "execution_count": 1,
   "metadata": {},
   "outputs": [
    {
     "name": "stdout",
     "output_type": "stream",
     "text": [
      "Hai\n",
      "Hai\n",
      "Hai\n"
     ]
    }
   ],
   "source": [
    "for i in range(3):\n",
    "    print(\"Hai\")"
   ]
  },
  {
   "cell_type": "code",
   "execution_count": 2,
   "metadata": {},
   "outputs": [
    {
     "name": "stdout",
     "output_type": "stream",
     "text": [
      "Enter the no. to be squared:5\n",
      "The square of the no. 5 is : 25\n",
      "Enter the no. to be squared:25\n",
      "The square of the no. 25 is : 625\n",
      "Enter the no. to be squared:625\n",
      "The square of the no. 625 is : 390625\n",
      "Enter the no. to be squared:390625\n",
      "The square of the no. 390625 is : 152587890625\n",
      "We r done.\n"
     ]
    }
   ],
   "source": [
    "#this loop runs 4 times, and gets the input frm user\n",
    "for i in range(4):\n",
    "    num = eval(input(\"Enter the no. to be squared:\"))\n",
    "    print(\"The square of the no.\", num , \"is :\",num*num)\n",
    "print(\"We r done.\")"
   ]
  },
  {
   "cell_type": "markdown",
   "metadata": {},
   "source": [
    "Loop variable -> i, j, k"
   ]
  },
  {
   "cell_type": "code",
   "execution_count": 5,
   "metadata": {},
   "outputs": [
    {
     "name": "stdout",
     "output_type": "stream",
     "text": [
      "0\n",
      "1\n",
      "2\n",
      "3\n",
      "4\n",
      "5\n",
      "6\n",
      "7\n",
      "8\n",
      "9\n"
     ]
    }
   ],
   "source": [
    "for i in range(10):\n",
    "    print(i)"
   ]
  },
  {
   "cell_type": "code",
   "execution_count": 7,
   "metadata": {},
   "outputs": [
    {
     "name": "stdout",
     "output_type": "stream",
     "text": [
      "1 ---Hello\n",
      "2 ---Hello\n",
      "3 ---Hello\n"
     ]
    }
   ],
   "source": [
    "for i in range(3):\n",
    "    print(i+1, \"---Hello\")"
   ]
  },
  {
   "cell_type": "code",
   "execution_count": 10,
   "metadata": {},
   "outputs": [
    {
     "name": "stdout",
     "output_type": "stream",
     "text": [
      "5 4 3 2 1 \n",
      "Booooom\n"
     ]
    }
   ],
   "source": [
    "#exploring range fn\n",
    "for i in range(5,0,-1):\n",
    "    print(i, end=' ')\n",
    "print(\"\\nBooooom!!!!\")"
   ]
  },
  {
   "cell_type": "code",
   "execution_count": 11,
   "metadata": {
    "scrolled": true
   },
   "outputs": [
    {
     "name": "stdout",
     "output_type": "stream",
     "text": [
      "******\n",
      "******\n",
      "******\n",
      "******\n"
     ]
    }
   ],
   "source": [
    "for i in range(4):\n",
    "    print('*'*6)"
   ]
  },
  {
   "cell_type": "code",
   "execution_count": 13,
   "metadata": {},
   "outputs": [
    {
     "name": "stdout",
     "output_type": "stream",
     "text": [
      "*\n",
      "**\n",
      "***\n",
      "****\n"
     ]
    }
   ],
   "source": [
    "for i in range(4):\n",
    "    print('*'*(i+1)) #for every iteration it prints new *next to the oldone"
   ]
  },
  {
   "cell_type": "markdown",
   "metadata": {},
   "source": [
    "# Exercise"
   ]
  },
  {
   "cell_type": "markdown",
   "metadata": {},
   "source": [
    "**Solution to 2.5 Exercise** "
   ]
  },
  {
   "cell_type": "markdown",
   "metadata": {},
   "source": [
    "1. Write a program that prints your name 100 times."
   ]
  },
  {
   "cell_type": "code",
   "execution_count": 4,
   "metadata": {},
   "outputs": [
    {
     "name": "stdout",
     "output_type": "stream",
     "text": [
      "Goutham :-)\n",
      "Goutham :-)\n",
      "Goutham :-)\n",
      "Goutham :-)\n",
      "Goutham :-)\n",
      "Goutham :-)\n",
      "Goutham :-)\n",
      "Goutham :-)\n",
      "Goutham :-)\n",
      "Goutham :-)\n"
     ]
    }
   ],
   "source": [
    "for i in range(10):   #for simplicity and space , reducing it to 10\n",
    "    print(\"Goutham :-)\")"
   ]
  },
  {
   "cell_type": "markdown",
   "metadata": {},
   "source": [
    "2. Write a program to fill the screen horizontally and vertically with your name. [Hint: add the\n",
    "option end='' into the print function to fill the screen horizontally.]"
   ]
  },
  {
   "cell_type": "code",
   "execution_count": 8,
   "metadata": {},
   "outputs": [
    {
     "name": "stdout",
     "output_type": "stream",
     "text": [
      "GouthamGouthamGouthamGouthamGouthamGouthamGouthamGouthamGouthamGoutham"
     ]
    }
   ],
   "source": [
    "for i in range(10):\n",
    "    print(\"Goutham\", end='')"
   ]
  },
  {
   "cell_type": "markdown",
   "metadata": {},
   "source": [
    "3. Write a program that outputs 100 lines, numbered 1 to 100, each with your name on it."
   ]
  },
  {
   "cell_type": "code",
   "execution_count": 10,
   "metadata": {},
   "outputs": [
    {
     "name": "stdout",
     "output_type": "stream",
     "text": [
      "1  Goutham\n",
      "2  Goutham\n",
      "3  Goutham\n",
      "4  Goutham\n",
      "5  Goutham\n",
      "6  Goutham\n",
      "7  Goutham\n",
      "8  Goutham\n",
      "9  Goutham\n"
     ]
    }
   ],
   "source": [
    "for i in range(1,10):\n",
    "    print(i, \" Goutham\")"
   ]
  },
  {
   "cell_type": "markdown",
   "metadata": {},
   "source": [
    "4. Write a program that prints out a list of the integers from 1 to 20 and their squares"
   ]
  },
  {
   "cell_type": "code",
   "execution_count": 11,
   "metadata": {},
   "outputs": [
    {
     "name": "stdout",
     "output_type": "stream",
     "text": [
      "1 --- 1\n",
      "2 --- 4\n",
      "3 --- 9\n",
      "4 --- 16\n",
      "5 --- 25\n",
      "6 --- 36\n",
      "7 --- 49\n",
      "8 --- 64\n",
      "9 --- 81\n",
      "10 --- 100\n"
     ]
    }
   ],
   "source": [
    "for i in range(1,11):  \n",
    "    print(i, i*i, sep =' --- ')\n",
    "    "
   ]
  },
  {
   "cell_type": "markdown",
   "metadata": {},
   "source": [
    "5. Write a program that uses a for loop to print the numbers 8, 11, 14, 17, 20, . . . , 83, 86, 89"
   ]
  },
  {
   "cell_type": "code",
   "execution_count": 14,
   "metadata": {},
   "outputs": [
    {
     "name": "stdout",
     "output_type": "stream",
     "text": [
      "8,11,14,17,20,23,26,29,32,35,38,41,44,47,50,53,56,59,62,65,68,71,74,77,80,83,86,89,"
     ]
    }
   ],
   "source": [
    "for j in range(8,90,3):\n",
    "    print(j, end=',')"
   ]
  },
  {
   "cell_type": "markdown",
   "metadata": {},
   "source": [
    "6. Write a program that uses a for loop to print the numbers 100, 98, 96, . . . , 4, 2"
   ]
  },
  {
   "cell_type": "code",
   "execution_count": 21,
   "metadata": {},
   "outputs": [
    {
     "name": "stdout",
     "output_type": "stream",
     "text": [
      "100,98,96,94,92,90,88,86,84,82,80,78,76,74,72,70,68,66,64,62,60,58,56,54,52,50,48,46,44,42,40,38,36,34,32,30,28,26,24,22,20,18,16,14,12,10,8,6,4,2,"
     ]
    }
   ],
   "source": [
    "for k in range(100,1,-2):\n",
    "    print(k, end=',')"
   ]
  },
  {
   "cell_type": "markdown",
   "metadata": {},
   "source": [
    "7. Write a program that uses exactly four for loops to print the sequence of letters below"
   ]
  },
  {
   "cell_type": "markdown",
   "metadata": {},
   "source": [
    "AAAAAAAAAABBBBBBBCDCDCDCDEFFFFFFG"
   ]
  },
  {
   "cell_type": "code",
   "execution_count": 25,
   "metadata": {},
   "outputs": [
    {
     "name": "stdout",
     "output_type": "stream",
     "text": [
      "AAAAAAAAAABBBBBCDCDCDCDCDEFFFFFG\n"
     ]
    }
   ],
   "source": [
    "for a in range(10):\n",
    "    print('A', end='')\n",
    "for b in range(5):\n",
    "    print('B', end='')\n",
    "for c in range(5):\n",
    "    print('CD', end='')\n",
    "print('E',end='')\n",
    "for f in range(5):\n",
    "    print('F',end='')\n",
    "print('G')"
   ]
  },
  {
   "cell_type": "markdown",
   "metadata": {},
   "source": [
    "8. Write a program that asks the user for their name and how many times to print it. The program should print out the user’s name the specified number of times"
   ]
  },
  {
   "cell_type": "code",
   "execution_count": 4,
   "metadata": {},
   "outputs": [
    {
     "name": "stdout",
     "output_type": "stream",
     "text": [
      "Enter the name:Goutham\n",
      "How many times do u want to print it: 7\n",
      "1 Goutham\n",
      "2 Goutham\n",
      "3 Goutham\n",
      "4 Goutham\n",
      "5 Goutham\n",
      "6 Goutham\n",
      "7 Goutham\n"
     ]
    }
   ],
   "source": [
    "name = input(\"Enter the name:\")\n",
    "x = eval(input(\"How many times do u want to print it: \"))\n",
    "for i in range (1,x+1):\n",
    "    print(i,name)"
   ]
  },
  {
   "cell_type": "markdown",
   "metadata": {},
   "source": [
    "**Fibonacci number**"
   ]
  },
  {
   "cell_type": "markdown",
   "metadata": {},
   "source": [
    "9. The Fibonacci numbers are the sequence below, where the first two numbers are 1, and each\n",
    "number thereafter is the sum of the two preceding numbers. Write a program that asks the\n",
    "user how many Fibonacci numbers to print and then prints that many"
   ]
  },
  {
   "cell_type": "markdown",
   "metadata": {},
   "source": [
    "1, 1,2, 3,5, 8,13,21, 34,55, 89. .."
   ]
  },
  {
   "cell_type": "code",
   "execution_count": 8,
   "metadata": {},
   "outputs": [
    {
     "name": "stdout",
     "output_type": "stream",
     "text": [
      "Enter how many Fibonacci numbers to print: 5\n",
      "1,1,2,3,5,"
     ]
    }
   ],
   "source": [
    "x = eval(input(\"Enter how many Fibonacci numbers to print: \"))\n",
    "first_no = 1\n",
    "second_no = 1\n",
    "print(first_no, end=',')\n",
    "print(second_no, end=',')\n",
    "for i in range(2,x):\n",
    "    new_no = first_no + second_no\n",
    "    first_no = second_no\n",
    "    second_no = new_no\n",
    "    print(new_no, end=',')\n",
    "   "
   ]
  },
  {
   "cell_type": "markdown",
   "metadata": {},
   "source": [
    "10 to 15 Use a for loop to print the pattern like the one below"
   ]
  },
  {
   "cell_type": "code",
   "execution_count": 22,
   "metadata": {},
   "outputs": [
    {
     "name": "stdout",
     "output_type": "stream",
     "text": [
      "Enter width of the box:5\n",
      "Enter height of the box:2\n",
      "*****\n",
      "*****\n"
     ]
    }
   ],
   "source": [
    "#10.box\n",
    "w = eval(input(\"Enter width of the box:\"))\n",
    "h = eval(input(\"Enter height of the box:\"))\n",
    "for i in range(h):\n",
    "    print('*'*w)"
   ]
  },
  {
   "cell_type": "code",
   "execution_count": 28,
   "metadata": {},
   "outputs": [
    {
     "name": "stdout",
     "output_type": "stream",
     "text": [
      "Enter width of the box:10\n",
      "Enter height of the box:5\n",
      "* * * * * \n",
      "*       * \n",
      "*       * \n",
      "*       * \n",
      "* * * * * \n"
     ]
    }
   ],
   "source": [
    "#11. box\n",
    "w = eval(input(\"Enter width of the box:\"))\n",
    "h = eval(input(\"Enter height of the box:\"))\n",
    "for i in range(h):\n",
    "    for j in range(h):\n",
    "        if (i ==0 or  i==h-1 or j ==0 or j==h-1):\n",
    "            print('*', end=' ')\n",
    "        else:\n",
    "            print(\" \" , end=' ')\n",
    "    print()"
   ]
  },
  {
   "cell_type": "code",
   "execution_count": 30,
   "metadata": {},
   "outputs": [
    {
     "name": "stdout",
     "output_type": "stream",
     "text": [
      "Enter the height of the traingle:5\n",
      "\n",
      "*\n",
      "**\n",
      "***\n",
      "****\n"
     ]
    }
   ],
   "source": [
    "#12.triangle\n",
    "h = eval(input(\"Enter the height of the traingle:\"))\n",
    "for j in range(h):\n",
    "    print('*'*j)"
   ]
  },
  {
   "cell_type": "code",
   "execution_count": 31,
   "metadata": {},
   "outputs": [
    {
     "name": "stdout",
     "output_type": "stream",
     "text": [
      "Enter the height of the traingle:5\n",
      "*****\n",
      "****\n",
      "***\n",
      "**\n",
      "*\n"
     ]
    }
   ],
   "source": [
    "#13.InvTriangle\n",
    "h1 = eval(input(\"Enter the height of the traingle:\"))\n",
    "for i in range(h,0,-1):\n",
    "    print('*'*i)"
   ]
  },
  {
   "cell_type": "code",
   "execution_count": 7,
   "metadata": {},
   "outputs": [
    {
     "name": "stdout",
     "output_type": "stream",
     "text": [
      "        * \n",
      "       * * \n",
      "      * * * \n",
      "     * * * * \n",
      "    * * * * * \n",
      "   * * * * * * \n",
      "    * * * * * \n",
      "     * * * * \n",
      "      * * * \n",
      "       * * \n",
      "        * \n"
     ]
    }
   ],
   "source": [
    "#14.Diamond\n",
    "#hd = eval(input(\"Enter the height of the Diamond:\"))\n",
    "hd=5\n",
    "k= 2* rows -2\n",
    "for i in range(0, hd):\n",
    "    for j in range(0,k):\n",
    "        print(end=' ')\n",
    "    k= k-1\n",
    "    for j in range(0, i+1):\n",
    "        print('* ', end='')\n",
    "    print()\n",
    "    \n",
    "k = hd - 2\n",
    "\n",
    "for i in range(hd,-1,-1):\n",
    "    for j in range(k,0,-1):\n",
    "        print(end=' ')\n",
    "    k = k+1\n",
    "    for j in range(0, i+1):\n",
    "        print('* ', end='')\n",
    "    print()"
   ]
  },
  {
   "cell_type": "code",
   "execution_count": 8,
   "metadata": {},
   "outputs": [
    {
     "name": "stdout",
     "output_type": "stream",
     "text": [
      "Enter the height of A:10\n",
      " **** \n",
      "*    *\n",
      "*    *\n",
      "*    *\n",
      "*    *\n",
      "******\n",
      "*    *\n",
      "*    *\n",
      "*    *\n",
      "*    *\n"
     ]
    }
   ],
   "source": [
    "#15.Large A\n",
    "n = int(input(\"Enter the height of A:\"))\n",
    "\n",
    "# Outer for loop for number of lines \n",
    "for i in range(n): \n",
    "# Inner for loop for logic execution \n",
    "    for j in range((n // 2) + 1): \n",
    "        # prints two column lines \n",
    "        if ((j == 0 or j == n // 2) and i != 0 or\n",
    "             # print first line of alphabet \n",
    "            i == 0 and j != 0 and j != n // 2 or\n",
    "               # prints middle line \n",
    "            i == n // 2): \n",
    "            print(\"*\", end = \"\") \n",
    "        else: \n",
    "            print(\" \", end = \"\") \n",
    "      \n",
    "    print() "
   ]
  }
 ],
 "metadata": {
  "kernelspec": {
   "display_name": "Python 3",
   "language": "python",
   "name": "python3"
  },
  "language_info": {
   "codemirror_mode": {
    "name": "ipython",
    "version": 3
   },
   "file_extension": ".py",
   "mimetype": "text/x-python",
   "name": "python",
   "nbconvert_exporter": "python",
   "pygments_lexer": "ipython3",
   "version": "3.7.6"
  },
  "toc": {
   "base_numbering": 1,
   "nav_menu": {},
   "number_sections": true,
   "sideBar": true,
   "skip_h1_title": false,
   "title_cell": "Table of Contents",
   "title_sidebar": "Contents",
   "toc_cell": false,
   "toc_position": {},
   "toc_section_display": true,
   "toc_window_display": false
  }
 },
 "nbformat": 4,
 "nbformat_minor": 4
}
