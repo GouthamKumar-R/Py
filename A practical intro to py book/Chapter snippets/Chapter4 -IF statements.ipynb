{
 "cells": [
  {
   "cell_type": "markdown",
   "metadata": {},
   "source": [
    "# Chapter -4 IF statements"
   ]
  },
  {
   "cell_type": "code",
   "execution_count": 33,
   "metadata": {},
   "outputs": [
    {
     "name": "stdout",
     "output_type": "stream",
     "text": [
      "Enter a no. from 1 to 10:5\n",
      "Oops sorry, that was a wrong guess; Actual no. was 4\n"
     ]
    }
   ],
   "source": [
    "#Basic guess- number program\n",
    "from random import randint\n",
    "\n",
    "num = randint(1,10)\n",
    "x = eval(input(\"Enter a no. from 1 to 10:\"))\n",
    "if num == x:\n",
    "    print(\"Your guess is correct\")\n",
    "else:\n",
    "    print(\"Oops sorry, that was a wrong guess; Actual no. was\", num)"
   ]
  },
  {
   "cell_type": "markdown",
   "metadata": {},
   "source": [
    "### Conditional Operators"
   ]
  },
  {
   "cell_type": "code",
   "execution_count": 39,
   "metadata": {},
   "outputs": [
    {
     "name": "stdout",
     "output_type": "stream",
     "text": [
      "Enter ur mark:50\n",
      "Your grade is C\n"
     ]
    }
   ],
   "source": [
    "grade = int(input(\"Enter ur mark:\"))\n",
    "if grade>=80 and grade <90:\n",
    "    print(\"Your grade is B\")\n",
    "elif grade >=50:\n",
    "    print(\"Your grade is C\")"
   ]
  },
  {
   "cell_type": "markdown",
   "metadata": {},
   "source": [
    "and--> similar to multiplication; or --> adddition"
   ]
  },
  {
   "cell_type": "code",
   "execution_count": 38,
   "metadata": {},
   "outputs": [
    {
     "name": "stdout",
     "output_type": "stream",
     "text": [
      "Enter ur mark:85\n",
      "Your grade is B\n"
     ]
    }
   ],
   "source": [
    "#shortcut\n",
    "grade = int(input(\"Enter ur mark:\"))\n",
    "if 80<=grade<90:\n",
    "    print(\"Your grade is B\")"
   ]
  },
  {
   "cell_type": "code",
   "execution_count": null,
   "metadata": {},
   "outputs": [],
   "source": []
  }
 ],
 "metadata": {
  "kernelspec": {
   "display_name": "Python 3",
   "language": "python",
   "name": "python3"
  },
  "language_info": {
   "codemirror_mode": {
    "name": "ipython",
    "version": 3
   },
   "file_extension": ".py",
   "mimetype": "text/x-python",
   "name": "python",
   "nbconvert_exporter": "python",
   "pygments_lexer": "ipython3",
   "version": "3.7.6"
  }
 },
 "nbformat": 4,
 "nbformat_minor": 4
}
