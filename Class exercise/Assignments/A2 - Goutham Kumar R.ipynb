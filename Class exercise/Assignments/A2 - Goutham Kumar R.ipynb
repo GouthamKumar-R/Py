{
 "cells": [
  {
   "cell_type": "markdown",
   "metadata": {},
   "source": [
    "# Introduction to Python\n",
    "## Assignment 2"
   ]
  },
  {
   "cell_type": "markdown",
   "metadata": {},
   "source": [
    "<div style=\"text-align: right\">Submitted by: Goutham Kumar R <br/>Notebook created on: 29th August 2020</div>"
   ]
  },
  {
   "cell_type": "markdown",
   "metadata": {},
   "source": [
    "**Write Python Program for the following:**"
   ]
  },
  {
   "attachments": {
    "image.png": {
     "image/png": "[encoded data removed]"
    }
   },
   "cell_type": "markdown",
   "metadata": {},
   "source": [
    "1.\tPrompt the user for a score between 0.0 and 1.0. If the score is out of range, print an error message. If the score is between 0.0 and 1.0, print a grade using the following table:\n",
    "![image.png](attachment:image.png)"
   ]
  },
  {
   "cell_type": "code",
   "execution_count": 32,
   "metadata": {},
   "outputs": [
    {
     "name": "stdout",
     "output_type": "stream",
     "text": [
      "Enter the score in range 0.0 to 1.0: 0.99\n",
      "Grade: A\n"
     ]
    }
   ],
   "source": [
    "try:\n",
    "    s = float(input(\"Enter the score in range 0.0 to 1.0: \")) #i/p from user\n",
    "except ValueError: #if its not a no. it will raise exception\n",
    "    print(\"That's not a number; Try again!!\"\")\n",
    "else:\n",
    "    if 0.1 <= s < 1.1: #check for range\n",
    "        if  s >= 0.9:\n",
    "            print(\"Grade: A\")\n",
    "        elif  s >= 0.8:\n",
    "            print(\"Grade: B\")\n",
    "        elif  s >= 0.7:\n",
    "            print(\"Grade: C\")\n",
    "        elif  s >= 0.6:\n",
    "            print(\"Grade: D\")\n",
    "        elif  s < 0.6:\n",
    "            print(\"Grade: E\")\n",
    "    else:\n",
    "        print(\"Out of range. Try again\")"
   ]
  },
  {
   "cell_type": "markdown",
   "metadata": {},
   "source": [
    "2.\tIf cost price and selling price of an item is input through the keyboard, write a program to determine whether the seller has made profit or incurred loss. Also determine how much profit he made or loss he incurred."
   ]
  },
  {
   "cell_type": "code",
   "execution_count": 55,
   "metadata": {},
   "outputs": [
    {
     "name": "stdout",
     "output_type": "stream",
     "text": [
      "Enter the Cost Price of an Item:\n",
      " CP: 15\n",
      "Enter the Selling Price of an Item:\n",
      " SP: 12\n",
      "You have incurred a loss of:  3.0\n"
     ]
    }
   ],
   "source": [
    "try:\n",
    "    cp = float(input(\"Enter the Cost Price of an Item:\\n CP: \"))\n",
    "    sp = float(input(\"Enter the Selling Price of an Item:\\n SP: \"))\n",
    "except ValueError:\n",
    "    print(\"That's not a number; Try again!!\")\n",
    "smallno = 10E-20  #a small no.\n",
    "if sp - cp > smallno: #selling price - costprice = profit\n",
    "    print(\"You have made a Profit!!! Profit is: \", sp - cp)\n",
    "else:\n",
    "    print(\"You have incurred a loss of: \", cp-sp)"
   ]
  },
  {
   "cell_type": "markdown",
   "metadata": {},
   "source": [
    "3.\tAny year is input through the keyboard. Write a program to determine whether the year is a leap year or not."
   ]
  },
  {
   "cell_type": "code",
   "execution_count": 54,
   "metadata": {},
   "outputs": [
    {
     "name": "stdout",
     "output_type": "stream",
     "text": [
      "Enter the Year: 2020\n",
      "2020 is a Leap year.\n"
     ]
    }
   ],
   "source": [
    "try:\n",
    "    Y = int(input(\"Enter the Year: \"))\n",
    "except ValueError:\n",
    "    print(\"That's not a proper year; Try again!!\")\n",
    "else:\n",
    "    if Y % 4 == 0: #leap yr occurs once in 4 year\n",
    "        print(\"%d is a Leap year.\" %Y)\n",
    "    else:\n",
    "        print(\"%d is not a leap year.\" %Y)"
   ]
  },
  {
   "cell_type": "markdown",
   "metadata": {},
   "source": [
    "4.\tA five-digit number is entered through the keyboard. Write a program to obtain the reversed number and to determine whether the original and reversed numbers are equal or not."
   ]
  },
  {
   "cell_type": "code",
   "execution_count": 71,
   "metadata": {},
   "outputs": [
    {
     "name": "stdout",
     "output_type": "stream",
     "text": [
      "Enter a five digit no:12121\n",
      "After reversing: 12121\n",
      "The original:12121 and reversed:12121 numbers are equal\n"
     ]
    }
   ],
   "source": [
    "try:\n",
    "    num  = int(input(\"Enter a five digit no:\"))\n",
    "except ValueError:\n",
    "    print(\"That's not a number; Try again!!\")\n",
    "else:\n",
    "    n = num \n",
    "    x = 0\n",
    "    a = 0\n",
    "    while n > 0:\n",
    "        a = n % 10   #getting the last digit\n",
    "        x = x * 10 + a \n",
    "        n = n//10   #floordivison\n",
    "    print(\"After reversing:\",x)\n",
    "    if num == x:\n",
    "        print(\"The original:%d and reversed:%d numbers are equal\"%(num,x))\n",
    "    else:\n",
    "        print(\"The original:%d and reversed:%d numbers are not equal\"%(num,x))"
   ]
  },
  {
   "cell_type": "markdown",
   "metadata": {},
   "source": [
    "5.\tIf the ages of Ram, Shyam and Ajay are input through the keyboard, write a program to determine the youngest of the three."
   ]
  },
  {
   "cell_type": "code",
   "execution_count": 73,
   "metadata": {},
   "outputs": [
    {
     "name": "stdout",
     "output_type": "stream",
     "text": [
      "Enter Ram's Age: 15\n",
      "Enter Shyam's Age: 14\n",
      "Enter Ajay's Age: 55\n",
      "Shyam is the Youngest\n"
     ]
    }
   ],
   "source": [
    "try:\n",
    "    Ram = int(input(\"Enter Ram's Age: \"))\n",
    "    Shyam = int(input(\"Enter Shyam's Age: \"))\n",
    "    Ajay = int(input(\"Enter Ajay's Age: \"))\n",
    "except ValueError:\n",
    "    print(\"Please enter a proper age; Try again!!\")\n",
    "else:\n",
    "    if Ram < Shyam and Ram < Ajay:\n",
    "        print(\"Ram is the Youngest\")\n",
    "    elif Shyam < Ram and Shyam < Ajay:\n",
    "        print(\"Shyam is the Youngest\")\n",
    "    elif Ajay < Ram and Ajay < Shyam:\n",
    "        print(\"Ajay is the Youngest\")\n",
    "       "
   ]
  },
  {
   "cell_type": "markdown",
   "metadata": {},
   "source": [
    "6.\tWrite a program to check whether a triangle is valid or not, when the three angles of the triangle are entered through the keyboard. A triangle is valid if the sum of all the three angles is equal to 180 degrees."
   ]
  },
  {
   "cell_type": "code",
   "execution_count": 79,
   "metadata": {},
   "outputs": [
    {
     "name": "stdout",
     "output_type": "stream",
     "text": [
      "Enter the first angle(in degrees): 60\n",
      "Enter the second angle(in degrees): 60\n",
      "Enter the third angle(in degrees): 60\n",
      "With the given angles a traingle can be formed.\n"
     ]
    }
   ],
   "source": [
    "try:\n",
    "    t1 = float(input(\"Enter the first angle(in degrees): \"))\n",
    "    t2 = float(input(\"Enter the second angle(in degrees): \"))\n",
    "    t3 = float(input(\"Enter the third angle(in degrees): \"))\n",
    "except ValueError:\n",
    "    print(\"Please enter a proper angle; Try again!!\")\n",
    "else:\n",
    "    if (t1 + t2 + t3) == 180: #triangle equality\n",
    "        print(\"With the given angles a traingle can be formed.\")\n",
    "    else:\n",
    "        print(\"It is not possible to form a triangle.\")\n",
    "        "
   ]
  },
  {
   "cell_type": "markdown",
   "metadata": {},
   "source": [
    "7.\tFind the absolute value of a number entered through the keyboard."
   ]
  },
  {
   "cell_type": "code",
   "execution_count": 83,
   "metadata": {},
   "outputs": [
    {
     "name": "stdout",
     "output_type": "stream",
     "text": [
      "Enter a value: -5\n",
      "Absolute value of -5 is : 5\n"
     ]
    }
   ],
   "source": [
    "x = eval(input(\"Enter a value: \"))\n",
    "print(\"Absolute value of\",x,\"is :\",abs(x))"
   ]
  },
  {
   "cell_type": "markdown",
   "metadata": {},
   "source": [
    "8.\tGiven three points (x1, y1), (x2, y2) and (x3, y3), write a program to check if all the three points fall on one straight line."
   ]
  },
  {
   "cell_type": "code",
   "execution_count": 87,
   "metadata": {},
   "outputs": [
    {
     "name": "stdout",
     "output_type": "stream",
     "text": [
      "Enter the co-ordinates pair correctly:(x1,y1),(x2,y2),(x3,y3)\n",
      "Enter the co-ordinate:1\n",
      "Enter the co-ordinate:1\n",
      "Enter the co-ordinate:2\n",
      "Enter the co-ordinate:2\n",
      "Enter the co-ordinate:3\n",
      "Enter the co-ordinate:3\n",
      "The points are collinear/lie on a straight line.\n"
     ]
    }
   ],
   "source": [
    "# to check collinearity -> check the area of triangle formed by 3 points\n",
    "#if that's zero, the points are collinear.\n",
    "#area of traingle = 1/2(x1*(y2-y3)+ x2*(y3-y1) + x3*(y1-y2))\n",
    "print(\"Enter the co-ordinates pair correctly:(x1,y1),(x2,y2),(x3,y3)\")\n",
    "try:\n",
    "    x1 = float(input(\"Enter the co-ordinate:\"))\n",
    "    y1 = float(input(\"Enter the co-ordinate:\"))\n",
    "    x2 = float(input(\"Enter the co-ordinate:\"))\n",
    "    y2 = float(input(\"Enter the co-ordinate:\"))\n",
    "    x3 = float(input(\"Enter the co-ordinate:\"))\n",
    "    y3 = float(input(\"Enter the co-ordinate:\"))\n",
    "    \n",
    "except ValueError:\n",
    "    print(\"That's not a proper co-ordinate; Try again!!\")\n",
    "else:\n",
    "    area = 0.5*(x1*(y2-y3)+ x2*(y3-y1) + x3*(y1-y2))  #area of triangle\n",
    "    if area == 0:\n",
    "          print(\"The points are collinear/lie on a straight line.\")\n",
    "    else:\n",
    "          print(\"The points don't lie on a straight line.\")"
   ]
  },
  {
   "cell_type": "markdown",
   "metadata": {},
   "source": [
    "9.\tGiven a point (x, y), write a program to find out if it lies on the x-axis, y-axis or at the origin, viz. (0, 0)."
   ]
  },
  {
   "cell_type": "code",
   "execution_count": 89,
   "metadata": {},
   "outputs": [
    {
     "name": "stdout",
     "output_type": "stream",
     "text": [
      "Enter the 'x' co-ordinate: 1\n",
      "Enter the 'y' co-ordinate: 0\n",
      "The point lies on 'x-axis'.\n"
     ]
    }
   ],
   "source": [
    "try:\n",
    "    x = float(input(\"Enter the 'x' co-ordinate: \"))\n",
    "    y = float(input(\"Enter the 'y' co-ordinate: \"))\n",
    "except ValueError:\n",
    "    print(\"That's not a proper co-ordinate; Try again!!!\")\n",
    "else:\n",
    "    if y == 0:  #checking if its in x axis\n",
    "        print(\"The point lies on 'x-axis'.\")\n",
    "    elif x == 0: #checking if its in y axis\n",
    "        print(\"The point lies on 'y-axis'.\")\n",
    "    elif x == 0 and y == 0: #checking if its in origin\n",
    "        print(\"The point lies at Origin\")\n",
    "    else:\n",
    "        print(\"The point lies somewhere on the xy plane.\")"
   ]
  },
  {
   "cell_type": "markdown",
   "metadata": {},
   "source": [
    "10.\tAn Insurance company follows following rules to calculate premium.\n",
    "\n",
    "a.\tIf a person’s health is excellent and the person is between 25 and 35 years of age and lives in a city and is a male then the premium is Rs. 4 per thousand and his policy amount cannot exceed Rs. 2 lakhs.\n",
    "\n",
    "b.\tIf a person satisfies all the above conditions except that the sex is female then the premium is Rs. 3 per thousand and her policy amount cannot exceed Rs. 1 lakh.\n",
    "\n",
    "c.\tIf a person’s health is poor and the person is between 25 and 35 years of age and lives in a village and is a male\n",
    "\n",
    "Write a program to output whether the person should be insured or not, his/her premium rate and maximum amount for which he/she can be insured.\n"
   ]
  },
  {
   "cell_type": "code",
   "execution_count": 101,
   "metadata": {},
   "outputs": [
    {
     "name": "stdout",
     "output_type": "stream",
     "text": [
      "Enter the name of the applicant: Goutham\n",
      "Enter the age: 25\n",
      "Enter the gender(M/F): M\n",
      "Enter the Health condition:\n",
      "*Excellent\n",
      "*Poor\n",
      " Excellent\n",
      "Enter the living area:\n",
      "*City\n",
      "*Village\n",
      "City\n",
      "\n",
      "Welcome: Goutham\n",
      "You are qualified to be insured.\n",
      "The premium is Rs 4000/- and Maximum policy premium is Rs 2 Lakh.\n"
     ]
    }
   ],
   "source": [
    "Name = input(\"Enter the name of the applicant: \")\n",
    "age = int(input(\"Enter the age: \"))\n",
    "gender = input(\"Enter the gender(M/F): \")\n",
    "h_c = input(\"Enter the Health condition:\\n*Excellent\\n*Poor\\n \") #health_condition\n",
    "area = input(\"Enter the living area:\\n*City\\n*Village\\n\")\n",
    "if age in range(25,36,1):\n",
    "    if h_c == 'Excellent' and area == 'City' and gender == \"M\":  #constraint1\n",
    "        print(\"\\nWelcome: %s\\nYou are qualified to be insured.\\nThe premium is Rs 4000/- and Maximum policy premium is Rs 2 Lakh.\"%Name)\n",
    "    elif h_c == 'Excellent' and area == 'City' and gender == \"F\":  #constraint2\n",
    "        print(\"\\nWelcome: %s\\nYou are qualified to be insured.\\nThe premium is Rs 3000/- and Maximum policy premium is Rs 1 Lakh.\"%Name)\n",
    "    elif h_c == 'Poor' and area == 'Village' and gender == \"M\":  #constraint3\n",
    "        print(\"\\nWelcome: %s\\nSorry Sir!!, You are not qualified to be insured as per our policy.\"%Name)\n",
    "    elif h_c == 'Poor' and area == 'Village' and gender == \"F\":  #constraint4 Female\n",
    "        print(\"\\nWelcome: %s\\nSorry Madam!!, You are not qualified to be insured as per our policy.\"%Name)\n",
    "else:\n",
    "    print(\"\\nAge range is out of range, We don't have policies yet. Visit us Later!\")\n",
    "    \n",
    "    "
   ]
  },
  {
   "cell_type": "markdown",
   "metadata": {},
   "source": [
    "\n",
    "11.\tA certain grade of steel is graded according to the following conditions:\n",
    "\n",
    "a.\t(i) Hardness must be greater than 50\n",
    "\n",
    "b.\t(ii) Carbon content must be less than 0.7\n",
    "\n",
    "c.\t(iii) Tensile strength must be greater than 5600\n",
    "\n",
    "The grades are as follows:\n",
    "\n",
    "Grade is 10 if all three conditions are met\n",
    "\n",
    "Grade is 9 if conditions (i) and (ii) are met\n",
    "\n",
    "Grade is 8 if conditions (ii) and (iii) are met\n",
    "\n",
    "Grade is 7 if conditions (i) and (iii) are met\n",
    "\n",
    "Grade is 6 if only one condition is met\n",
    "\n",
    "Grade is 5 if none of the conditions are met\n",
    "\n",
    "Write a program, which will require the user to give values of hardness, carbon content and tensile strength of the steel under consideration and output the grade of the steel.\n"
   ]
  },
  {
   "cell_type": "code",
   "execution_count": 105,
   "metadata": {},
   "outputs": [
    {
     "name": "stdout",
     "output_type": "stream",
     "text": [
      "Hardness of Steel: 55\n",
      "Carbon content of Steel: 0.5\n",
      "Tensile strength of Steel: 78998\n",
      "The Grade of the steel is 10.\n"
     ]
    }
   ],
   "source": [
    "H = float(input(\"Hardness of Steel: \")) #Hardness\n",
    "C = float(input(\"Carbon content of Steel: \")) #Carbon content\n",
    "T = float(input(\"Tensile strength of Steel: \")) #Tensile strength\n",
    "\n",
    "if H > 50 and C < 0.7 and T > 5000:\n",
    "    print(\"The Grade of the steel is 10.\")\n",
    "elif H > 50 and C < 0.7:\n",
    "    print(\"The Grade of the steel is 9.\")\n",
    "elif C < 0.7 and T > 5000:\n",
    "    print(\"The Grade of the steel is 8.\")\n",
    "elif H > 50  and T > 5000:\n",
    "    print(\"The Grade of the steel is 7.\")\n",
    "elif H > 50 or C < 0.7 or T > 5000:\n",
    "    print(\"The Grade of the steel is 6.\")\n",
    "else:\n",
    "    print(\"The Grade of the steel is 5.\")"
   ]
  },
  {
   "cell_type": "markdown",
   "metadata": {},
   "source": [
    "12.\tA library charges a fine for every book returned late. For first 5 days the fine is 50 paise, for 6-10 days fine is one rupee and above 10 days fine is 5 rupees. If you return the book after 30 days your membership will be cancelled. Write a program to accept the number of days the member is late to return the book and display the fine or the appropriate message."
   ]
  },
  {
   "cell_type": "code",
   "execution_count": 107,
   "metadata": {},
   "outputs": [
    {
     "name": "stdout",
     "output_type": "stream",
     "text": [
      "Enter the number of days the member is late to return the book: 15\n",
      "The fine amount perday is 5 Rupee.\n",
      " Total Amount:  175\n"
     ]
    }
   ],
   "source": [
    "Amount = 100 #default amount charged for lending a book by the library\n",
    "try:\n",
    "    n = int(input(\"Enter the number of days the member is late to return the book: \"))\n",
    "except ValueError:\n",
    "    print(\"Enter a proper count of days; Try again!!\")\n",
    "else:\n",
    "    if n in range(0,6):\n",
    "        print(\"The fine amount perday is 50paise.\\n Total Amount: \", Amount+n*0.5)\n",
    "    elif n in range(6,11):\n",
    "        print(\"The fine amount perday is 1 Rupee.\\n Total Amount: \", Amount+n)\n",
    "    elif n in range(11,30):\n",
    "        print(\"The fine amount perday is 5 Rupee.\\n Total Amount: \", Amount+n*5)\n",
    "    elif n >= 30:\n",
    "        print(\"Your membership is cancelled.\\n Total Amount: \", Amount+n*5)\n"
   ]
  },
  {
   "cell_type": "markdown",
   "metadata": {},
   "source": [
    "13.\tThe policy followed by a company to process customer orders is given by the following rules:\n",
    "\n",
    "a.\tIf a customer order is less than or equal to that in stock and has credit is OK, supply has requirement.\n",
    "\n",
    "b.\tIf has credit is not OK do not supply. Send him intimation.\n",
    "\n",
    "c.\tIf has credit is Ok but the item in stock is less than has\n",
    "\n",
    "order, supply what is in stock. Intimate to him data the balance will be shipped. Write a program to implement the company policy.\n"
   ]
  },
  {
   "cell_type": "code",
   "execution_count": 113,
   "metadata": {},
   "outputs": [
    {
     "name": "stdout",
     "output_type": "stream",
     "text": [
      "Enter the Company Name: Apple\n",
      "Enter the Credit status of the company:(ok/not ok) ok\n",
      "Enter the order quantity: 7500\n",
      "Company Name:Apple\n",
      " Credit Status:ok\n",
      " Order Status:5000 units,Can be fulfilled and the rest 2500 units can be shipped within 30 days.\n"
     ]
    }
   ],
   "source": [
    "I = 5000 #Item in warehouse\n",
    "try:\n",
    "    Company = input(\"Enter the Company Name: \")\n",
    "    Credit = input(\"Enter the Credit status of the company:(ok/not ok) \")\n",
    "    order = int(input(\"Enter the order quantity: \"))\n",
    "except ValueError:\n",
    "    print(\"Please enter a valid entry.\")\n",
    "else:\n",
    "    if Credit == 'ok' and order <= I:\n",
    "        print(\"Company Name:%s\\n Credit Status:%s\\n Order Status: %d units;Yes, It can be fulfilled.\"%(Company,Credit,order))\n",
    "    elif Credit == 'not ok' and order <= I:\n",
    "        print(\"Company Name:%s\\n Credit Status:%s\\n Order Status: Cancelled, It can't be fulfilled as per our policy.\"%(Company,Credit))\n",
    "    elif Credit == 'ok' and order > I:\n",
    "        x = order - I\n",
    "        print(\"Company Name:%s\\n Credit Status:%s\\n Order Status:%d units,Can be fulfilled and the rest %d units can be shipped within 30 days.\"%(Company,Credit,I,x))"
   ]
  },
  {
   "cell_type": "markdown",
   "metadata": {},
   "source": [
    "14.\tIn a company, worker efficiency is determined on the basis of the time required for a worker to complete a particular job. If the time taken by the worker is between 2 – 3 hours, then the worker is said to be highly efficient. If the time required by the worker is between 3 – 4 hours, then the worker is ordered to improve speed. If the time taken is between 4 – 5 hours, the worker is given training to improve his speed, and if the time taken by the worker is more than 5 hours, then the worker has to leave the company. If the time taken by the worker is input through the keyboard, find the efficiency of the worker."
   ]
  },
  {
   "cell_type": "code",
   "execution_count": 119,
   "metadata": {},
   "outputs": [
    {
     "name": "stdout",
     "output_type": "stream",
     "text": [
      "Enter the name of the employee: Goutham\n",
      "Enter the time taken by the worker to complete the job : 2.3\n",
      "\n",
      "Efficency of the Goutham: High\n"
     ]
    }
   ],
   "source": [
    "emp = input(\"Enter the name of the employee: \")\n",
    "try:\n",
    "    time = float(input(\"Enter the time taken by the worker to complete the job : \"))\n",
    "except ValueError:\n",
    "    print(\"Please enter a valid entry.\")\n",
    "else:\n",
    "if 2 <= time < 10:  #total constarint\n",
    "    if 2 <= time <= 3 : #c1- constraint1\n",
    "        print(\"\\nEfficency of the %s: High\"%emp)\n",
    "    elif 3 < time <= 4: #c2\n",
    "        print(\"\\n%s has to improve his/her speed.\"%emp)\n",
    "    elif 4 < time <= 5: #c3\n",
    "        print(\"\\n%s has to undergo a training to improve his/her speed.\"%emp)\n",
    "    elif time > 5:  #c4\n",
    "        print(\"\\n%s is adviced to leave the company.\"%emp)\n",
    "else:\n",
    "    print(\"It is not feasible to complete the job in the entered duration. Please verify again.\")"
   ]
  },
  {
   "cell_type": "markdown",
   "metadata": {},
   "source": [
    "15.\tA university has the following rules for a student to qualify for a degree with A as the main subject and B as the subsidiary subject:\n",
    "\n",
    "a.\tHe should get 55 percent or more in A and 45 percent or more in B.\n",
    "\n",
    "b.\tIf he gets less than 55 percent in A he should get 55 percent or more in B. However, he should get at least 45 percent in A.\n",
    "\n",
    "c.\tIf he gets less than 45 percent in B and 65 percent or more in A he is allowed to reappear in an examination in B to qualify.\n",
    "\n",
    "d.\tIn all other cases he is declared to have failed.\n",
    "\n",
    "Write a program to receive marks in A and B and Output whether the student has passed, failed or is allowed to reappear in B.\n"
   ]
  },
  {
   "cell_type": "code",
   "execution_count": 129,
   "metadata": {},
   "outputs": [
    {
     "name": "stdout",
     "output_type": "stream",
     "text": [
      "Enter the name of the student: Goutham\n",
      "Enter the percentage of marks obtained in main subject 'A' :95\n",
      "Enter the percentage of marks obtained in elective subject 'B' :95\n",
      "\n",
      "Goutham is qualified for a degree\n",
      " Percentage of Marks obtained are:\n",
      "*A = 95.000000\n",
      "*B = 95.000000\n"
     ]
    }
   ],
   "source": [
    "Name = input(\"Enter the name of the student: \")\n",
    "try:\n",
    "    A = float(input(\"Enter the percentage of marks obtained in main subject 'A' :\"))\n",
    "    B = float(input(\"Enter the percentage of marks obtained in elective subject 'B' :\"))\n",
    "except ValueError:\n",
    "    print(\"Please enter a valid entry.\")\n",
    "else:\n",
    "    if A >= 55 and B >= 45: #constraint a\n",
    "        print(\"\\n%s is qualified for a degree\\n Percentage of Marks obtained are:\\n*A = %f\\n*B = %f\"%(Name,A,B))\n",
    "    elif 45 <= A < 55 and B >= 55: #constraint b\n",
    "        print(\"\\n%s is qualified for a degree\\n Percentage of Marks obtained are:\\n*A = %f\\n*B = %f\"%(Name,A,B))\n",
    "    elif A >= 65 and B < 45: #constraint c\n",
    "        print(\"\\n%s has to reappear in exam B to quailfy.\\n Percentage of Marks obtained are:\\n*A = %f\\n*B = %f\"%(Name,A,B))\n",
    "    else:\n",
    "        print(\"\\n%s has failed to quailfy.\\n Percentage of Marks obtained are:\\n*A = %f\\n*B = %f\"%(Name,A,B))\n",
    "        \n",
    "        "
   ]
  },
  {
   "cell_type": "code",
   "execution_count": null,
   "metadata": {},
   "outputs": [],
   "source": []
  }
 ],
 "metadata": {
  "kernelspec": {
   "display_name": "Python 3",
   "language": "python",
   "name": "python3"
  },
  "language_info": {
   "codemirror_mode": {
    "name": "ipython",
    "version": 3
   },
   "file_extension": ".py",
   "mimetype": "text/x-python",
   "name": "python",
   "nbconvert_exporter": "python",
   "pygments_lexer": "ipython3",
   "version": "3.8.3"
  }
 },
 "nbformat": 4,
 "nbformat_minor": 4
}
