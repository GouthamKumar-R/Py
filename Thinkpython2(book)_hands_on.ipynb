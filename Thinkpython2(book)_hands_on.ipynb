{
  "nbformat": 4,
  "nbformat_minor": 0,
  "metadata": {
    "colab": {
      "name": "Thinkpython2(book) hands-on.ipynb",
      "provenance": [],
      "authorship_tag": "ABX9TyNwgxWzCfMTssLAnjzZG62+",
      "include_colab_link": true
    },
    "kernelspec": {
      "name": "python3",
      "display_name": "Python 3"
    }
  },
  "cells": [
    {
      "cell_type": "markdown",
      "metadata": {
        "id": "view-in-github",
        "colab_type": "text"
      },
      "source": [
        "<a href=\"https://colab.research.google.com/github/GouthamKumar-R/Py/blob/master/Thinkpython2(book)_hands_on.ipynb\" target=\"_parent\"><img src=\"https://colab.research.google.com/assets/colab-badge.svg\" alt=\"Open In Colab\"/></a>"
      ]
    },
    {
      "cell_type": "markdown",
      "metadata": {
        "id": "XkDKLy12MGEO",
        "colab_type": "text"
      },
      "source": [
        "#ThinkPython2 book Hands - on exercie\n"
      ]
    },
    {
      "cell_type": "markdown",
      "metadata": {
        "id": "pFWxrKqiNqpx",
        "colab_type": "text"
      },
      "source": [
        "Chapter 2 \n",
        "\n",
        "Exercise 2.2. Practice using the Python interpreter as a calculator:\n",
        "1. The volume of a sphere with radius r is 4/3 x pr**3. What is the volume of a sphere with radius 5?\n",
        "2. Suppose the cover price of a book is 24.95, but bookstores get a 40% discount. Shipping costs\n",
        "$3 for the first copy and 75 cents for each additional copy. What is the total wholesale cost for\n",
        "60 copies?\n",
        "3. If I leave my house at 6:52 am and run 1 mile at an easy pace (8:15 per mile), then 3 miles at\n",
        "tempo (7:12 per mile) and 1 mile at easy pace again, what time do I get home for breakfast?"
      ]
    },
    {
      "cell_type": "code",
      "metadata": {
        "id": "D7f9d04FL5BQ",
        "colab_type": "code",
        "colab": {
          "base_uri": "https://localhost:8080/",
          "height": 34
        },
        "outputId": "d8851e68-2bd0-4752-a175-c83bd3571c95"
      },
      "source": [
        "#1 Volume of the Sphere\n",
        "pi = 3.14\n",
        "r = 5\n",
        "vol = ((4/3)* pi * (r**3))\n",
        "\n",
        "print(\"volume of the sphere with radius = \", r , \"cm is :\", vol)\n"
      ],
      "execution_count": 4,
      "outputs": [
        {
          "output_type": "stream",
          "text": [
            "volume of the sphere with radius =  5 cm is : 523.3333333333334\n"
          ],
          "name": "stdout"
        }
      ]
    },
    {
      "cell_type": "code",
      "metadata": {
        "id": "lWBYjgBFOdqq",
        "colab_type": "code",
        "colab": {
          "base_uri": "https://localhost:8080/",
          "height": 68
        },
        "outputId": "02697bd4-3d2f-4e96-99f5-a3918d6a6ea5"
      },
      "source": [
        "#2 Wholesale cost \n",
        "cp = 24.95 \n",
        "dis = 40.0 \n",
        "s_cp_1= 3  #shipping cost for 1 book\n",
        "s_add = 0.75 #add shipping cost\n",
        "n = 60\n",
        "\n",
        "d = cp - ((cp* dis)/100) #discount for 1 book\n",
        "print(\"Cost of a single book after discount book :\", d)\n",
        "\n",
        "delivery =  s_cp_1 +s_add*(n-1)    #delivery charges equals to 3 for first book and 0.75 for the remaining (59 books)\n",
        "print(\"Delivery charges for\", n ,\"books :\",delivery)\n",
        "\n",
        "\n",
        "total = d * delivery\n",
        "print(\"Wholesale cost for\" , n , \"copies is :\",total)"
      ],
      "execution_count": 10,
      "outputs": [
        {
          "output_type": "stream",
          "text": [
            "Cost of a single book after discount book : 14.969999999999999\n",
            "Delivery charges for 60 books : 47.25\n",
            "Wholesale cost for 60 copies is : 707.3325\n"
          ],
          "name": "stdout"
        }
      ]
    },
    {
      "cell_type": "code",
      "metadata": {
        "id": "DpGblEyvPUi9",
        "colab_type": "code",
        "colab": {
          "base_uri": "https://localhost:8080/",
          "height": 34
        },
        "outputId": "31e7ced8-f4c1-488b-cbb4-269988f1c84f"
      },
      "source": [
        "# running \n",
        "t1 = (6 * 60 + 52) *60   #starting time \n",
        "\n",
        "d1 = 1      \n",
        "s1 = (8*60+52) * 2       #again at the end ,easy pace so *2 \n",
        "\n",
        "d2 = 3\n",
        "s2 =(7*60 +12) * d2\n",
        "                  \n",
        "\n",
        "total_hr = (t1 +s1 +s2)/(60*60)  \n",
        "total_hr\n",
        "\n",
        "\n"
      ],
      "execution_count": 15,
      "outputs": [
        {
          "output_type": "execute_result",
          "data": {
            "text/plain": [
              "7.522222222222222"
            ]
          },
          "metadata": {
            "tags": []
          },
          "execution_count": 15
        }
      ]
    },
    {
      "cell_type": "code",
      "metadata": {
        "id": "fkws4vw3RmCX",
        "colab_type": "code",
        "colab": {}
      },
      "source": [
        ""
      ],
      "execution_count": null,
      "outputs": []
    }
  ]
}