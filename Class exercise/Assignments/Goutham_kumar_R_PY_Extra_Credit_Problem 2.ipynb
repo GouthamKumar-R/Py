{
 "cells": [
  {
   "cell_type": "markdown",
   "metadata": {},
   "source": [
    "# Guess the no.\n",
    "## Assignment"
   ]
  },
  {
   "cell_type": "markdown",
   "metadata": {},
   "source": [
    "**Extra Credit Problem**"
   ]
  },
  {
   "cell_type": "markdown",
   "metadata": {},
   "source": [
    "<div style=\"text-align: right\">Submitted by: Goutham Kumar R <br/>Notebook created on: 31st August 2020</div>"
   ]
  },
  {
   "cell_type": "code",
   "execution_count": null,
   "metadata": {},
   "outputs": [],
   "source": [
    "import random\n",
    "#Global variables\n",
    "y = random.randint(0,9) \n",
    "#y = 3 #testing variable\n",
    "x = 0\n",
    "\n",
    "\n",
    "def game(name,acc):\n",
    "    \"\"\"Game fn : Guessing game.\n",
    "        arguments: 'name'- of the user and 'acc' of the user.\n",
    "        fn purporse: Guessing game and prize money calucation\n",
    "        return value: 'acc' after prize money calculation \"\"\"\n",
    "    acc = acc - 500  #deducting 500 as entry fee for playing the game\n",
    "    c = 0 #count variable\n",
    "    for c in range(1,4):    #giving the guest 3 attempts to guess the no.\n",
    "        x = input(\"Guess the number: \")\n",
    "        if int(x) < y:\n",
    "            print(\"Sorry,\",name,\"your guess is Too Low!!\\n Attempts left: \", 3-c)\n",
    "            win = False\n",
    "        if int(x) > y:\n",
    "            print(\"Sorry,\",name,\"your guess is Too high!!\\n Attempts left: \", 3-c)\n",
    "            win = False\n",
    "        elif int(x) == y:\n",
    "            print('*'*6,\"You are correct.\",'*'*6)\n",
    "            win = True    #flag to check if he wins in the 3rd attempt.\n",
    "            break\n",
    "    #Prize money calculation    \n",
    "    if c == 1:\n",
    "        acc += 5500   #prize is 5.5k, bcoz whenever we start the game we r deducting 500\n",
    "        print(name,\"!!, you have won Rs.5000/- \")\n",
    "        print(\"Total account balance: Rs. \",acc,\"/- \")\n",
    "    elif c == 2:\n",
    "        acc += 1500\n",
    "        print(name,\"!!, you have won Rs.1000/- \")\n",
    "        print(\"Total account balance: Rs. \",acc,\"/- \")\n",
    "    elif c == 3 and win != True:\n",
    "        print(name,\"!!, you just lost Rs.500/- \")\n",
    "        print(\"Total account balance: Rs. \",acc,\"/- \")\n",
    "        print(\"The actual no. was! \", y)\n",
    "    elif c == 3 and win == True:\n",
    "        acc += 500                   #if he wins in third attempt, no money is withdrawn from hiis acc.\n",
    "        print(\"Total account balance: Rs. \",acc,\"/- \")\n",
    "    return acc\n",
    "        \n",
    "def amount_transfer(acc, wallet):\n",
    "    \"\"\"ammount transfer : for transfering amunt from user's wallet to game account\n",
    "        arguments: acc-game account , wallet- userr's wallet or credit card\n",
    "        returns: acc - after the transcation is completed.\"\"\"\n",
    "    \n",
    "    w = ''   #dummy string to get the i/p user\n",
    "    w_a = 0  #Gameclub wallet/acc of the user; like (amzn_paybalance) \n",
    "    print(\"Sorry!, you dont have sufficient balance to play the game.\")\n",
    "    w = input(\"Do you wish to add money from your wallet:\\n* Type(yes/no): \")\n",
    "    if w.lower() == 'yes':\n",
    "        w_a = int(input(\"How much amount do you like to transfer: \"))  #w_a is user acc in club\n",
    "        wallet -= w_a  #subtracting money from user's original wallet\n",
    "        acc += w_a  #adding it to user's gameclub acc\n",
    "        print(\"Now your account balance is:\",acc)\n",
    "    elif w.lower() == 'no':\n",
    "        print(\"Transcation Cancelled!\")\n",
    "        print(\"Thanks for playing buddy.\\n Have a wonderful day!!\")\n",
    "    \n",
    "    return acc\n",
    "        \n",
    "def main():\n",
    "    #main program\n",
    "    acc = 1000  #welcome bonus\n",
    "    wallet = 5000  #user's wallet or credit card\n",
    "    print(\"Welcome to Gotham Club!!\")\n",
    "    name = input(\"Enter your name: \")\n",
    "    print(\"Hi, \",name,\"as a welcome bonus we have given you Rs.1000/-.\")\n",
    "    #displaying the rules\n",
    "    print(\"Here are the rules for playing this gambling game.\\n*You have to guess a no. between 0 and 9.\\n1)If you can successfuly guess it in the first chance\\n*******You can Win Rs.5000/-******** \")\n",
    "    print(\"2)If you can successfuly guess it in second chance.\\n***You can Win Rs.1000/-***\")\n",
    "    print(\"3)If you fail to find the no. in three chances-\\n.You Lose Rs.500/- only!\")\n",
    "    while 1:\n",
    "        if acc < 500:\n",
    "            acc = amount_transfer(acc, wallet)  #since acc< 500, calling this fn to add funds\n",
    "            if acc < 500:   #if the user again adds low funds in the above transcation, repeating the process\n",
    "                print(\"Insufficient fund!!! Minimum balance required is Rs.500/-\")\n",
    "                y_n = input(\"Type \\n* 'add' - to add more fund. or \\n* 'exit' - to exit the game.\")\n",
    "                if y_n.lower() == 'exit':\n",
    "                    break\n",
    "                elif y_n.lower() == 'add':\n",
    "                    continue\n",
    "        acc = game(name, acc)\n",
    "        print(\"Hi !!\",name)\n",
    "        y_n = input(\"Type \\n* 'yes' -if you wish to play again or \\n* 'no' - to quit.\")\n",
    "        if y_n.lower() == 'no':\n",
    "            print(name,\"Thanks for playing buddy.\\n Have a wonderful day!!\")\n",
    "            break\n",
    "main()"
   ]
  }
 ],
 "metadata": {
  "kernelspec": {
   "display_name": "Python 3",
   "language": "python",
   "name": "python3"
  },
  "language_info": {
   "codemirror_mode": {
    "name": "ipython",
    "version": 3
   },
   "file_extension": ".py",
   "mimetype": "text/x-python",
   "name": "python",
   "nbconvert_exporter": "python",
   "pygments_lexer": "ipython3",
   "version": "3.7.6"
  }
 },
 "nbformat": 4,
 "nbformat_minor": 4
}
