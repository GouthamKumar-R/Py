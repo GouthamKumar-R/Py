{
 "cells": [
  {
   "cell_type": "markdown",
   "metadata": {},
   "source": [
    "# Chapter -3 : Numbers"
   ]
  },
  {
   "cell_type": "markdown",
   "metadata": {},
   "source": [
    "## Math Operations"
   ]
  },
  {
   "cell_type": "markdown",
   "metadata": {},
   "source": [
    "Basic operators\n",
    "<ul type = \"circle\">\n",
    "    <li> + -> addition</li>\n",
    "    <li> - -> subtraction</li>\n",
    "    <li> * -> multiplication</li>\n",
    "    <li> / -> division</li>\n",
    "    <li> ** -> exponentiation</li>\n",
    "    <li> // -> Floor division...removes the decimal value and gives integer value as result</li>\n",
    "    <li> % -> Modulo..gives remainder </li>"
   ]
  },
  {
   "cell_type": "code",
   "execution_count": 15,
   "metadata": {},
   "outputs": [
    {
     "name": "stdout",
     "output_type": "stream",
     "text": [
      "2.5\n"
     ]
    },
    {
     "data": {
      "text/plain": [
       "2"
      ]
     },
     "execution_count": 15,
     "metadata": {},
     "output_type": "execute_result"
    }
   ],
   "source": [
    "a = 5/2\n",
    "print(a)\n",
    "#floor divison\n",
    "x = 5//2\n",
    "x"
   ]
  },
  {
   "cell_type": "code",
   "execution_count": 6,
   "metadata": {},
   "outputs": [
    {
     "name": "stdout",
     "output_type": "stream",
     "text": [
      "6.5\n"
     ]
    },
    {
     "data": {
      "text/plain": [
       "1"
      ]
     },
     "execution_count": 6,
     "metadata": {},
     "output_type": "execute_result"
    }
   ],
   "source": [
    "b = 13/2\n",
    "print(b)\n",
    "#modulo \n",
    "y = 13%2\n",
    "y    #reaminder of 13/2 is \"1\""
   ]
  },
  {
   "cell_type": "code",
   "execution_count": 12,
   "metadata": {},
   "outputs": [
    {
     "data": {
      "text/plain": [
       "False"
      ]
     },
     "execution_count": 12,
     "metadata": {},
     "output_type": "execute_result"
    }
   ],
   "source": [
    "5%2 == 0   #checking if 5 is even"
   ]
  },
  {
   "cell_type": "markdown",
   "metadata": {},
   "source": [
    "The modulo operator shows up surprisingly often in formulas. If you need to “wrap around” and\n",
    "come back to the start, the modulo is useful. For example, think of a clock. If you go six hours past\n",
    "8 o’clock, the result is 2 o’clock. Mathematically, this can be accomplished by doing a modulo"
   ]
  },
  {
   "cell_type": "code",
   "execution_count": 13,
   "metadata": {},
   "outputs": [
    {
     "data": {
      "text/plain": [
       "2"
      ]
     },
     "execution_count": 13,
     "metadata": {},
     "output_type": "execute_result"
    }
   ],
   "source": [
    "(8+6)%12"
   ]
  },
  {
   "cell_type": "markdown",
   "metadata": {},
   "source": [
    "As another example, take a game with players 1 through 5. Say you have a variable player that\n",
    "keeps track of the current player. After player 5 goes, it’s player 1’s turn again. The modulo\n",
    "operator can be used to take care of this:\n"
   ]
  },
  {
   "cell_type": "code",
   "execution_count": 14,
   "metadata": {},
   "outputs": [
    {
     "name": "stdout",
     "output_type": "stream",
     "text": [
      "Enter the lastno. of persopn who played:5\n",
      "It is : 1 Player's turn.\n"
     ]
    }
   ],
   "source": [
    "player = eval(input(\"Enter the lastno. of persopn who played:\"))\n",
    "player = player%5+1\n",
    "print(\"It is :\", player,\"Player's turn.\" )"
   ]
  },
  {
   "cell_type": "markdown",
   "metadata": {},
   "source": [
    "### Order of operations \n",
    "PEDMAS"
   ]
  },
  {
   "cell_type": "code",
   "execution_count": 16,
   "metadata": {},
   "outputs": [
    {
     "name": "stdout",
     "output_type": "stream",
     "text": [
      "8.666666666666666\n",
      "4.0\n"
     ]
    }
   ],
   "source": [
    "x = 3\n",
    "y = 4\n",
    "z = 5\n",
    "print(x+y+z/3)  #it is equal to 5/3 =1.6667+4+3 =>8.6667\n",
    "print((x+y+z)/3)"
   ]
  },
  {
   "cell_type": "markdown",
   "metadata": {},
   "source": [
    "## Random numbers"
   ]
  },
  {
   "cell_type": "code",
   "execution_count": 17,
   "metadata": {},
   "outputs": [],
   "source": [
    "#loading random module\n",
    "from random import randint"
   ]
  },
  {
   "cell_type": "markdown",
   "metadata": {},
   "source": [
    "randint(a,b) will return a random integer between a and b including\n",
    "both a and b"
   ]
  },
  {
   "cell_type": "code",
   "execution_count": 21,
   "metadata": {},
   "outputs": [
    {
     "name": "stdout",
     "output_type": "stream",
     "text": [
      "1\n"
     ]
    }
   ],
   "source": [
    "#each and every time it gives some random no.\n",
    "#note:unlike range, randint includes the right endpoint b\n",
    "x = randint(1,10)\n",
    "print(x)"
   ]
  },
  {
   "cell_type": "markdown",
   "metadata": {},
   "source": [
    "## Math fn"
   ]
  },
  {
   "cell_type": "markdown",
   "metadata": {},
   "source": [
    "Python has a module called math that contains familiar math functions, including sin, cos, tan, exp, log, log10, factorial, sqrt, floor, and ceil. "
   ]
  },
  {
   "cell_type": "code",
   "execution_count": 24,
   "metadata": {},
   "outputs": [
    {
     "name": "stdout",
     "output_type": "stream",
     "text": [
      "Pi value is 3.141592653589793\n",
      "0.8939966636005579\n"
     ]
    }
   ],
   "source": [
    "from math import sin, pi\n",
    "print(\"Pi value is\", pi)\n",
    "print(sin(90))"
   ]
  },
  {
   "cell_type": "markdown",
   "metadata": {},
   "source": [
    "Two built in math functions, abs (absolute value) and round\n",
    "that are available without importing the math module"
   ]
  },
  {
   "cell_type": "markdown",
   "metadata": {},
   "source": [
    "## Help fn\n"
   ]
  },
  {
   "cell_type": "code",
   "execution_count": 27,
   "metadata": {},
   "outputs": [
    {
     "name": "stdout",
     "output_type": "stream",
     "text": [
      "Help on built-in function abs in module builtins:\n",
      "\n",
      "abs(x, /)\n",
      "    Return the absolute value of the argument.\n",
      "\n"
     ]
    }
   ],
   "source": [
    "# in python if you want to know how the fn works, use\n",
    "import math\n",
    "help(abs)\n"
   ]
  },
  {
   "cell_type": "markdown",
   "metadata": {},
   "source": [
    "Tip: from math import* imports every function from the math module"
   ]
  },
  {
   "cell_type": "markdown",
   "metadata": {},
   "source": [
    "# Exercises\n"
   ]
  },
  {
   "cell_type": "markdown",
   "metadata": {},
   "source": [
    "1. Write a program that generates and prints 50 random integers, each between 3 and 6"
   ]
  },
  {
   "cell_type": "code",
   "execution_count": 7,
   "metadata": {},
   "outputs": [
    {
     "name": "stdout",
     "output_type": "stream",
     "text": [
      "3\n",
      "6\n",
      "6\n",
      "6\n",
      "6\n",
      "3\n",
      "4\n",
      "5\n",
      "3\n",
      "5\n"
     ]
    }
   ],
   "source": [
    "from random import randint\n",
    "for i in range(10):   #for the sake of space doin it for 10 \n",
    "    x = randint(3,6)\n",
    "    print(x)"
   ]
  },
  {
   "cell_type": "markdown",
   "metadata": {},
   "source": [
    "2. Write a program that generates a random number, x, between 1 and 50, a random number y\n",
    "between 2 and 5, and computes x y."
   ]
  },
  {
   "cell_type": "code",
   "execution_count": 12,
   "metadata": {},
   "outputs": [
    {
     "name": "stdout",
     "output_type": "stream",
     "text": [
      "x= 44 ;y= 5 \n",
      "x**y= 164916224\n"
     ]
    }
   ],
   "source": [
    "from random import randint\n",
    "\n",
    "x = randint(1,50)\n",
    "y = randint(2,5)\n",
    "print(\"x=\",x ,\";y=\",y ,\"\\nx**y=\", x**y)\n"
   ]
  },
  {
   "cell_type": "markdown",
   "metadata": {},
   "source": [
    "3. Write a program that generates a random number between 1 and 10 and prints your name\n",
    "that many times"
   ]
  },
  {
   "cell_type": "code",
   "execution_count": 13,
   "metadata": {},
   "outputs": [
    {
     "name": "stdout",
     "output_type": "stream",
     "text": [
      "Goutham\n",
      "Goutham\n",
      "Goutham\n"
     ]
    }
   ],
   "source": [
    "from random import randint\n",
    "\n",
    "x= randint(1,10)\n",
    "for i in range(x):\n",
    "    print(\"Goutham\")"
   ]
  },
  {
   "cell_type": "markdown",
   "metadata": {},
   "source": [
    "4. Write a program that generates a random decimal number between 1 and 10 with two decimal\n",
    "places of accuracy. Examples are 1.23, 3.45, 9.80, and 5.00.m"
   ]
  },
  {
   "cell_type": "code",
   "execution_count": 18,
   "metadata": {},
   "outputs": [
    {
     "name": "stdout",
     "output_type": "stream",
     "text": [
      "Help on method uniform in module random:\n",
      "\n",
      "uniform(a, b) method of random.Random instance\n",
      "    Get a random number in the range [a, b) or [a, b] depending on rounding.\n",
      "\n"
     ]
    }
   ],
   "source": [
    "from random import uniform\n",
    "\n",
    "help(uniform)"
   ]
  },
  {
   "cell_type": "code",
   "execution_count": 19,
   "metadata": {},
   "outputs": [
    {
     "name": "stdout",
     "output_type": "stream",
     "text": [
      "1.08\n"
     ]
    }
   ],
   "source": [
    "import random\n",
    "\n",
    "x= round(random.uniform(1,10),2)\n",
    "print(x)"
   ]
  },
  {
   "cell_type": "markdown",
   "metadata": {},
   "source": [
    "5. Write a program that generates 50 random numbers such that the first number is between 1\n",
    "and 2, the second is between 1 and 3, the third is between 1 and 4, . . . , and the last is between\n",
    "1 and 51."
   ]
  },
  {
   "cell_type": "code",
   "execution_count": 21,
   "metadata": {},
   "outputs": [
    {
     "name": "stdout",
     "output_type": "stream",
     "text": [
      "1\n",
      "3\n",
      "2\n",
      "2\n",
      "6\n",
      "7\n",
      "7\n",
      "7\n"
     ]
    }
   ],
   "source": [
    "from random import randint\n",
    "\n",
    "for i in range(2,10):   #for thr sake of size given it as 10, subsitute it with 52\n",
    "    x=randint(1,i)\n",
    "    print(x)"
   ]
  },
  {
   "cell_type": "markdown",
   "metadata": {},
   "source": [
    "6. Write a program that asks the user to enter two numbers, x and y, and computes |x-y|/x+y."
   ]
  },
  {
   "cell_type": "code",
   "execution_count": 23,
   "metadata": {},
   "outputs": [
    {
     "name": "stdout",
     "output_type": "stream",
     "text": [
      "Enter a no.: 5\n",
      "Enter a no.: 2\n",
      "0.42857142857142855\n"
     ]
    }
   ],
   "source": [
    "x = eval(input(\"Enter a no.: \"))\n",
    "y = eval(input(\"Enter a no.: \"))\n",
    "\n",
    "print((abs(x-y)/(x+y)))"
   ]
  },
  {
   "cell_type": "markdown",
   "metadata": {},
   "source": [
    "7. Write a program that asks the user to enter an angle between −180◦ and 180◦. Using an\n",
    "expression with the modulo operator, convert the angle to its equivalent between 0◦ and\n",
    "360◦."
   ]
  },
  {
   "cell_type": "code",
   "execution_count": 25,
   "metadata": {},
   "outputs": [
    {
     "name": "stdout",
     "output_type": "stream",
     "text": [
      "Enter a no.: -180\n",
      "The equivalent angle in 0 to 360 is : 180\n"
     ]
    }
   ],
   "source": [
    "x = eval(input(\"Enter a no.: \"))\n",
    "\n",
    "print(\"The equivalent angle in 0 to 360 is :\", x%360)"
   ]
  },
  {
   "cell_type": "markdown",
   "metadata": {},
   "source": [
    "8. Write a program that asks the user for a number of seconds and prints out how many minutes\n",
    "and seconds that is. For instance, 200 seconds is 3 minutes and 20 seconds. [Hint: Use the //\n",
    "operator to get minutes and the % operator to get seconds.]"
   ]
  },
  {
   "cell_type": "code",
   "execution_count": 1,
   "metadata": {},
   "outputs": [
    {
     "name": "stdout",
     "output_type": "stream",
     "text": [
      "Enter the total no. of seconds: 200\n",
      "The time is : 3 Mins and  20 Seconds.\n"
     ]
    }
   ],
   "source": [
    "x = eval(input(\"Enter the total no. of seconds: \"))\n",
    "\n",
    "m=x//60\n",
    "s=x%60\n",
    "print(\"The time is :\", m,\"Mins and \",s,\"Seconds.\")"
   ]
  },
  {
   "cell_type": "markdown",
   "metadata": {},
   "source": [
    "9. Write a program that asks the user for an hour between 1 and 12 and for how many hours in\n",
    "the future they want to go. Print out what the hour will be that many hours into the future."
   ]
  },
  {
   "cell_type": "code",
   "execution_count": 3,
   "metadata": {},
   "outputs": [
    {
     "name": "stdout",
     "output_type": "stream",
     "text": [
      "Enter hour:9\n",
      "How many hours ahead? 5\n",
      "New hour : 2 o'clock\n"
     ]
    }
   ],
   "source": [
    "x = eval(input(\"Enter hour:\"))\n",
    "y = eval(input(\"How many hours ahead? \"))\n",
    "\n",
    "print(\"New hour :\", (x+y)%12, \"o'clock\")"
   ]
  },
  {
   "cell_type": "markdown",
   "metadata": {},
   "source": [
    "10. (a) One way to find out the last digit of a number is to mod the number by 10. Write a\n",
    "program that asks the user to enter a power. Then find the last digit of 2 raised to that\n",
    "power"
   ]
  },
  {
   "cell_type": "code",
   "execution_count": 5,
   "metadata": {},
   "outputs": [
    {
     "name": "stdout",
     "output_type": "stream",
     "text": [
      "Enter a power: 5\n",
      "32\n"
     ]
    }
   ],
   "source": [
    "x = eval(input(\"Enter a power: \"))\n",
    "\n",
    "print(2**(x%10))"
   ]
  },
  {
   "cell_type": "markdown",
   "metadata": {},
   "source": [
    "(b) One way to find out the last two digits of a number is to mod the number by 100. Write\n",
    "a program that asks the user to enter a power. Then find the last two digits of 2 raised to\n",
    "that power."
   ]
  },
  {
   "cell_type": "code",
   "execution_count": 8,
   "metadata": {},
   "outputs": [
    {
     "name": "stdout",
     "output_type": "stream",
     "text": [
      "Enter a power: 25\n",
      "33554432\n"
     ]
    }
   ],
   "source": [
    "y = eval(input(\"Enter a power: \"))\n",
    "\n",
    "print(2**(y%100))"
   ]
  },
  {
   "cell_type": "markdown",
   "metadata": {},
   "source": [
    "(c) Write a program that asks the user to enter a power and how many digits they want.\n",
    "Find the last that many digits of 2 raised to the power the user entered."
   ]
  },
  {
   "cell_type": "code",
   "execution_count": 13,
   "metadata": {},
   "outputs": [
    {
     "name": "stdout",
     "output_type": "stream",
     "text": [
      "Enter a power: 210\n",
      "Enter the no. of digits to be taken from power: 2\n",
      "1024\n"
     ]
    }
   ],
   "source": [
    "x = eval(input(\"Enter a power: \"))\n",
    "\n",
    "y= eval(input(\"Enter the no. of digits to be taken from power: \"))\n",
    "\n",
    "\n",
    "print(2**(x%(10**y)))   #10**y - is predicting the 10 or 100 based on the digits"
   ]
  },
  {
   "cell_type": "markdown",
   "metadata": {},
   "source": [
    "11. Write a program that asks the user to enter a weight in kilograms. The program should\n",
    "convert it to pounds, printing the answer rounded to the nearest tenth of a pound."
   ]
  },
  {
   "cell_type": "code",
   "execution_count": 14,
   "metadata": {},
   "outputs": [
    {
     "name": "stdout",
     "output_type": "stream",
     "text": [
      "Enter the weight in Kg: 152\n",
      "The weight in lbs is : 340.0\n"
     ]
    }
   ],
   "source": [
    "wt_kg = eval(input(\"Enter the weight in Kg: \"))\n",
    "\n",
    "wt_lbs = round((2.20462*wt_kg),-1)\n",
    "print(\"The weight in lbs is :\", wt_lbs)"
   ]
  },
  {
   "cell_type": "markdown",
   "metadata": {},
   "source": [
    "12. Write a program that asks the user for a number and prints out the factorial of that number"
   ]
  },
  {
   "cell_type": "code",
   "execution_count": 24,
   "metadata": {},
   "outputs": [
    {
     "name": "stdout",
     "output_type": "stream",
     "text": [
      "Enter a no: 5\n",
      "The factorila of the no is:  120\n"
     ]
    }
   ],
   "source": [
    "n = eval(input(\"Enter a no: \"))\n",
    "f=1\n",
    "if n < 0:\n",
    "    print(\"The factorial doesnt exist\")\n",
    "elif n==1:\n",
    "    print(\"The factorial is 1\")\n",
    "else:\n",
    "    for i in range(1,n+1):\n",
    "        f = f * i\n",
    "        \n",
    "print (\"The factorila of the no is: \",f)"
   ]
  },
  {
   "cell_type": "markdown",
   "metadata": {},
   "source": [
    "13. Write a program that asks the user for a number and then prints out the sine, cosine, and\n",
    "tangent of that number."
   ]
  },
  {
   "cell_type": "code",
   "execution_count": 29,
   "metadata": {},
   "outputs": [
    {
     "name": "stdout",
     "output_type": "stream",
     "text": [
      "Enter the no.:90\n",
      "0.8939966636005579\n",
      "-0.4480736161291701\n",
      "-1.995200412208242\n"
     ]
    }
   ],
   "source": [
    "import math\n",
    "\n",
    "x = eval(input(\"Enter the no.:\"))\n",
    "\n",
    "print(math.sin(x))\n",
    "print(math.cos(x))\n",
    "print(math.tan(x))"
   ]
  },
  {
   "cell_type": "markdown",
   "metadata": {},
   "source": [
    "14. Write a program that asks the user to enter an angle in degrees and prints out the sine of that\n",
    "angle."
   ]
  },
  {
   "cell_type": "code",
   "execution_count": 31,
   "metadata": {},
   "outputs": [
    {
     "name": "stdout",
     "output_type": "stream",
     "text": [
      "Enter the value in degrees:30\n",
      "0.49999999999999994\n",
      "0.8660254037844387\n",
      "0.5773502691896257\n"
     ]
    }
   ],
   "source": [
    "import math\n",
    "\n",
    "x = eval(input(\"Enter the value in degrees:\"))\n",
    "\n",
    "d= math.radians(x)\n",
    "\n",
    "print(math.sin(d))\n",
    "print(math.cos(d))\n",
    "print(math.tan(d))"
   ]
  },
  {
   "cell_type": "markdown",
   "metadata": {},
   "source": [
    "15. Write a program that prints out the sine and cosine of the angles ranging from 0 to 345◦ in\n",
    "15◦ increments. Each result should be rounded to 4 decimal places."
   ]
  },
  {
   "cell_type": "code",
   "execution_count": 38,
   "metadata": {},
   "outputs": [
    {
     "name": "stdout",
     "output_type": "stream",
     "text": [
      "0 --- 0.0 1.0\n",
      "15 --- 0.2588 0.9659\n",
      "30 --- 0.5 0.866\n",
      "45 --- 0.7071 0.7071\n",
      "60 --- 0.866 0.5\n",
      "75 --- 0.9659 0.2588\n",
      "90 --- 1.0 0.0\n",
      "105 --- 0.9659 -0.2588\n",
      "120 --- 0.866 -0.5\n",
      "135 --- 0.7071 -0.7071\n",
      "150 --- 0.5 -0.866\n",
      "165 --- 0.2588 -0.9659\n",
      "180 --- 0.0 -1.0\n",
      "195 --- -0.2588 -0.9659\n",
      "210 --- -0.5 -0.866\n",
      "225 --- -0.7071 -0.7071\n",
      "240 --- -0.866 -0.5\n",
      "255 --- -0.9659 -0.2588\n",
      "270 --- -1.0 -0.0\n",
      "285 --- -0.9659 0.2588\n",
      "300 --- -0.866 0.5\n",
      "315 --- -0.7071 0.7071\n",
      "330 --- -0.5 0.866\n"
     ]
    }
   ],
   "source": [
    "import math\n",
    "\n",
    "for i in range(0,345,15):\n",
    "    print(i,\"---\", round(math.sin(math.radians(i)),4), round(math.cos(math.radians(i)),4))\n",
    " "
   ]
  },
  {
   "cell_type": "code",
   "execution_count": null,
   "metadata": {},
   "outputs": [],
   "source": []
  }
 ],
 "metadata": {
  "kernelspec": {
   "display_name": "Python 3",
   "language": "python",
   "name": "python3"
  },
  "language_info": {
   "codemirror_mode": {
    "name": "ipython",
    "version": 3
   },
   "file_extension": ".py",
   "mimetype": "text/x-python",
   "name": "python",
   "nbconvert_exporter": "python",
   "pygments_lexer": "ipython3",
   "version": "3.7.6"
  },
  "toc": {
   "base_numbering": 1,
   "nav_menu": {},
   "number_sections": true,
   "sideBar": true,
   "skip_h1_title": false,
   "title_cell": "Table of Contents",
   "title_sidebar": "Contents",
   "toc_cell": false,
   "toc_position": {},
   "toc_section_display": true,
   "toc_window_display": false
  }
 },
 "nbformat": 4,
 "nbformat_minor": 4
}
