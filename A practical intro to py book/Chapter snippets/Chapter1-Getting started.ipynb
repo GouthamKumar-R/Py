{
 "cells": [
  {
   "cell_type": "markdown",
   "metadata": {},
   "source": [
    "# chapter 1 - Getting started\n"
   ]
  },
  {
   "cell_type": "markdown",
   "metadata": {},
   "source": [
    "First Program\n"
   ]
  },
  {
   "cell_type": "code",
   "execution_count": 2,
   "metadata": {},
   "outputs": [
    {
     "name": "stdout",
     "output_type": "stream",
     "text": [
      "Enter the temp in celsius15\n",
      "In fahrenheit, that is  84.60000000000001\n"
     ]
    }
   ],
   "source": [
    "temp = eval(input(\"Enter the temp in celsius\"))\n",
    "print(\"In fahrenheit, that is \" , 9/5*(temp + 32))"
   ]
  },
  {
   "cell_type": "markdown",
   "metadata": {},
   "source": [
    "<ul type = \"circle\">\n",
    "    \n",
    "The main differencce between eval(input()) and int(input())\n",
    "<li>Eval function parses the expression argument and evaluates it as a python expression and returns the value in \"int\"</li>\n",
    "<li>Int jus returns the value in \"int\"</li>\n",
    "example code below\n"
   ]
  },
  {
   "cell_type": "code",
   "execution_count": 3,
   "metadata": {},
   "outputs": [
    {
     "name": "stdout",
     "output_type": "stream",
     "text": [
      "Enter the experssion u want to perform:50+100*5+100/15\n",
      "556.6666666666666\n"
     ]
    }
   ],
   "source": [
    "#eval example\n",
    "x = eval(input(\"Enter the experssion u want to perform:\"))\n",
    "print(x)"
   ]
  },
  {
   "cell_type": "code",
   "execution_count": 4,
   "metadata": {},
   "outputs": [
    {
     "name": "stdout",
     "output_type": "stream",
     "text": [
      "Enter the experssion u want to perform:10+10\n"
     ]
    },
    {
     "ename": "ValueError",
     "evalue": "invalid literal for int() with base 10: '10+10'",
     "output_type": "error",
     "traceback": [
      "\u001b[1;31m---------------------------------------------------------------------------\u001b[0m",
      "\u001b[1;31mValueError\u001b[0m                                Traceback (most recent call last)",
      "\u001b[1;32m<ipython-input-4-32c8bd6da423>\u001b[0m in \u001b[0;36m<module>\u001b[1;34m\u001b[0m\n\u001b[0;32m      1\u001b[0m \u001b[1;31m#int example\u001b[0m\u001b[1;33m\u001b[0m\u001b[1;33m\u001b[0m\u001b[1;33m\u001b[0m\u001b[0m\n\u001b[1;32m----> 2\u001b[1;33m \u001b[0my\u001b[0m \u001b[1;33m=\u001b[0m \u001b[0mint\u001b[0m\u001b[1;33m(\u001b[0m\u001b[0minput\u001b[0m\u001b[1;33m(\u001b[0m\u001b[1;34m\"Enter the experssion u want to perform:\"\u001b[0m\u001b[1;33m)\u001b[0m\u001b[1;33m)\u001b[0m\u001b[1;33m\u001b[0m\u001b[1;33m\u001b[0m\u001b[0m\n\u001b[0m\u001b[0;32m      3\u001b[0m \u001b[0mprint\u001b[0m\u001b[1;33m(\u001b[0m\u001b[0my\u001b[0m\u001b[1;33m)\u001b[0m\u001b[1;33m\u001b[0m\u001b[1;33m\u001b[0m\u001b[0m\n",
      "\u001b[1;31mValueError\u001b[0m: invalid literal for int() with base 10: '10+10'"
     ]
    }
   ],
   "source": [
    "#int example\n",
    "y = int(input(\"Enter the experssion u want to perform:\"))\n",
    "print(y)"
   ]
  },
  {
   "cell_type": "markdown",
   "metadata": {},
   "source": [
    " ## Print statement:"
   ]
  },
  {
   "cell_type": "code",
   "execution_count": 1,
   "metadata": {},
   "outputs": [
    {
     "name": "stdout",
     "output_type": "stream",
     "text": [
      "The value of 3+4 is  7\n"
     ]
    }
   ],
   "source": [
    "print('The value of 3+4 is ' , 3+4)"
   ]
  },
  {
   "cell_type": "code",
   "execution_count": 2,
   "metadata": {},
   "outputs": [
    {
     "name": "stdout",
     "output_type": "stream",
     "text": [
      "A 7 B 5\n"
     ]
    }
   ],
   "source": [
    "print(\"A\" , 7 , \"B\" , 5)"
   ]
  },
  {
   "cell_type": "code",
   "execution_count": 4,
   "metadata": {},
   "outputs": [
    {
     "name": "stdout",
     "output_type": "stream",
     "text": [
      "The value of 3+4 is 7 .\n",
      "The value of 3+4 is 7.\n"
     ]
    }
   ],
   "source": [
    "#sep in print will insert a space,(or anything sepecified in '')\n",
    "#btwn each arguement in print\n",
    "print(\"The value of 3+4 is\" , 3+4 , \".\")\n",
    "print(\"The value of 3+4 is \" , 3+4 , \".\" , sep ='')\n",
    "\n"
   ]
  },
  {
   "cell_type": "code",
   "execution_count": 8,
   "metadata": {},
   "outputs": [
    {
     "name": "stdout",
     "output_type": "stream",
     "text": [
      "Enter a no.15\n",
      "15---30---45\n"
     ]
    }
   ],
   "source": [
    "#advanced example\n",
    "x = eval(input(\"Enter a no.\"))\n",
    "print(x,2*x,3*x,sep='---')"
   ]
  },
  {
   "cell_type": "code",
   "execution_count": 9,
   "metadata": {},
   "outputs": [
    {
     "name": "stdout",
     "output_type": "stream",
     "text": [
      "The first line\n",
      "The second line\n"
     ]
    }
   ],
   "source": [
    "\n",
    "print(\"The first line\")\n",
    "print(\"The second line\")"
   ]
  },
  {
   "cell_type": "code",
   "execution_count": 10,
   "metadata": {},
   "outputs": [
    {
     "name": "stdout",
     "output_type": "stream",
     "text": [
      "The first lineThe second line\n"
     ]
    }
   ],
   "source": [
    "#end decides whether the printfn advance to nxt line or not\n",
    "print(\"The first line\" , end='')\n",
    "print(\"The second line\")"
   ]
  },
  {
   "cell_type": "markdown",
   "metadata": {},
   "source": [
    "## Variables: these are used to store values"
   ]
  },
  {
   "cell_type": "code",
   "execution_count": 12,
   "metadata": {},
   "outputs": [
    {
     "name": "stdout",
     "output_type": "stream",
     "text": [
      "4 5 8\n"
     ]
    }
   ],
   "source": [
    "x = 3\n",
    "y = 4\n",
    "z = x+y   #3+4\n",
    "z = z + 1   #7+1\n",
    "x = y    #the value of y is assigned to x, now x =4\n",
    "y = 5  \n",
    "print(x,y,z)"
   ]
  },
  {
   "cell_type": "markdown",
   "metadata": {},
   "source": [
    "# Exercise\n"
   ]
  },
  {
   "cell_type": "markdown",
   "metadata": {},
   "source": [
    "**Solution to Exercise 1.8**\n"
   ]
  },
  {
   "cell_type": "markdown",
   "metadata": {},
   "source": [
    "1. To print the boxes below"
   ]
  },
  {
   "cell_type": "code",
   "execution_count": 1,
   "metadata": {},
   "outputs": [
    {
     "name": "stdout",
     "output_type": "stream",
     "text": [
      "*****************\n",
      "*****************\n",
      "*****************\n",
      "*****************\n"
     ]
    }
   ],
   "source": [
    "print('*****************')\n",
    "print('*****************')\n",
    "print('*****************')\n",
    "print('*****************') "
   ]
  },
  {
   "cell_type": "code",
   "execution_count": 2,
   "metadata": {},
   "outputs": [
    {
     "name": "stdout",
     "output_type": "stream",
     "text": [
      "*****************\n",
      "*               *\n",
      "*               *\n",
      "*****************\n"
     ]
    }
   ],
   "source": [
    "print('*****************')\n",
    "print('*               *')\n",
    "print('*               *')\n",
    "print('*****************')"
   ]
  },
  {
   "cell_type": "code",
   "execution_count": 4,
   "metadata": {},
   "outputs": [
    {
     "name": "stdout",
     "output_type": "stream",
     "text": [
      "*\n",
      "**\n",
      "***\n",
      "****\n"
     ]
    }
   ],
   "source": [
    "print('*')\n",
    "print('**')\n",
    "print('***')\n",
    "print('****')"
   ]
  },
  {
   "cell_type": "markdown",
   "metadata": {},
   "source": [
    "4.Write a program that computes and prints the result of 512 − 282\n",
    "47 · 48 + 5\n",
    ". It is roughly .1017"
   ]
  },
  {
   "cell_type": "code",
   "execution_count": 7,
   "metadata": {},
   "outputs": [
    {
     "data": {
      "text/plain": [
       "0.1017249004865104"
      ]
     },
     "execution_count": 7,
     "metadata": {},
     "output_type": "execute_result"
    }
   ],
   "source": [
    "x = (512 -282)/((47*48)+5)\n",
    "x"
   ]
  },
  {
   "cell_type": "markdown",
   "metadata": {},
   "source": [
    "5. Ask the user to enter a number. Print out the square of the number, but use the sep optional\n",
    "argument to print it out in a full sentence that ends in a period."
   ]
  },
  {
   "cell_type": "code",
   "execution_count": 1,
   "metadata": {},
   "outputs": [
    {
     "name": "stdout",
     "output_type": "stream",
     "text": [
      "Enter the no. to be squared: 7\n",
      "The square of 7 is: 49.\n"
     ]
    }
   ],
   "source": [
    "num = eval(input(\"Enter the no. to be squared: \"))\n",
    "print(\"The square of \", num , \" is: \", num*num , '.' , sep ='')"
   ]
  },
  {
   "cell_type": "markdown",
   "metadata": {},
   "source": [
    "6. Ask the user to enter a number x. Use the sep optional argument to print out x, 2x, 3x, 4x,\n",
    "and 5x, each separated by three dashes"
   ]
  },
  {
   "cell_type": "code",
   "execution_count": 4,
   "metadata": {},
   "outputs": [
    {
     "name": "stdout",
     "output_type": "stream",
     "text": [
      "Enter the no.: 7\n",
      "7---14---21---28---35\n"
     ]
    }
   ],
   "source": [
    "x = eval(input(\"Enter the no.: \"))\n",
    "print(x , 2*x, 3*x, 4*x, 5*x, sep='---')"
   ]
  },
  {
   "cell_type": "markdown",
   "metadata": {},
   "source": [
    "7. Write a program that asks the user for a weight in kilograms and converts it to pounds. There\n",
    "are 2.2 pounds in a kilogram."
   ]
  },
  {
   "cell_type": "code",
   "execution_count": 6,
   "metadata": {},
   "outputs": [
    {
     "name": "stdout",
     "output_type": "stream",
     "text": [
      "Enter the weight in kg: 75\n",
      "The weight in pounds is: 165.0\n"
     ]
    }
   ],
   "source": [
    "wt = int(input(\"Enter the weight in kg: \"))\n",
    "print(\"The weight in pounds is:\" , 2.2*wt)"
   ]
  },
  {
   "cell_type": "markdown",
   "metadata": {},
   "source": [
    "8. Write a program that asks the user to enter three numbers (use three separate input statements). Create variables called total and average that hold the sum and average of the\n",
    "three numbers and print out the values of total and average"
   ]
  },
  {
   "cell_type": "code",
   "execution_count": 4,
   "metadata": {},
   "outputs": [
    {
     "name": "stdout",
     "output_type": "stream",
     "text": [
      "Enter the no.: 3\n",
      "Enter the no.: 4\n",
      "Enter the no.: 5\n",
      "The total of 3nos. is:  12\n",
      "The average of 3nos. is:  4.0\n"
     ]
    }
   ],
   "source": [
    "x = eval(input(\"Enter the no.: \"))\n",
    "y = eval(input(\"Enter the no.: \"))\n",
    "z = eval(input(\"Enter the no.: \"))\n",
    "\n",
    "total, average = 0,0\n",
    "\n",
    "total = (x+y+z)\n",
    "average = (x + y + z)/3\n",
    "print(\"The total of 3nos. is: \",total)\n",
    "print(\"The average of 3nos. is: \", average)"
   ]
  },
  {
   "cell_type": "markdown",
   "metadata": {},
   "source": [
    "9. A lot of cell phones have tip calculators. Write one. Ask the user for the price of the meal and\n",
    "the percent tip they want to leave. Then print both the tip amount and the total bill with the\n",
    "tip included."
   ]
  },
  {
   "cell_type": "code",
   "execution_count": 6,
   "metadata": {},
   "outputs": [
    {
     "name": "stdout",
     "output_type": "stream",
     "text": [
      "Enter the price of the meal: 150\n",
      "Enter the tip percent: 10\n",
      "The total amount is : 165.0 \n",
      "The tip amount is:  15.0\n"
     ]
    }
   ],
   "source": [
    "p = eval(input(\"Enter the price of the meal: \"))\n",
    "t = eval(input(\"Enter the tip percent: \"))\n",
    "\n",
    "print(\"The total amount is :\", p*(1+t/100) ,\"\\nThe tip amount is: \", p*(t/100))"
   ]
  },
  {
   "cell_type": "code",
   "execution_count": null,
   "metadata": {},
   "outputs": [],
   "source": []
  }
 ],
 "metadata": {
  "kernelspec": {
   "display_name": "Python 3",
   "language": "python",
   "name": "python3"
  },
  "toc": {
   "base_numbering": 1,
   "nav_menu": {},
   "number_sections": true,
   "sideBar": true,
   "skip_h1_title": false,
   "title_cell": "Table of Contents",
   "title_sidebar": "Contents",
   "toc_cell": false,
   "toc_position": {},
   "toc_section_display": true,
   "toc_window_display": false
  }
 },
 "nbformat": 4,
 "nbformat_minor": 4
}
