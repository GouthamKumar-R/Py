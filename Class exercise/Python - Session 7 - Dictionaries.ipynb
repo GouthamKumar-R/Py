{
 "cells": [
  {
   "cell_type": "markdown",
   "metadata": {},
   "source": [
    "## Dictionaries"
   ]
  },
  {
   "cell_type": "markdown",
   "metadata": {
    "collapsed": true
   },
   "source": [
    "A dictionary is like a list, but more general. In a list, the positions (a.k.a. indices) have to be integers; in a dictionary the indices can be (almost) any type.\n",
    "\n",
    "You can think of a dictionary as a mapping between a set of indices (which are called keys) and a set of values. Each key maps to a value. The association of a key and a value is called a key-value pair or sometimes an item"
   ]
  },
  {
   "cell_type": "markdown",
   "metadata": {},
   "source": [
    "### An Example of Dictionary"
   ]
  },
  {
   "cell_type": "markdown",
   "metadata": {},
   "source": [
    "Let us build a dictionary that maps English to Spanish words. In this dictionary the keys will be some english words and their corresponding values will be the corresponding spanish words"
   ]
  },
  {
   "cell_type": "code",
   "execution_count": 4,
   "metadata": {},
   "outputs": [],
   "source": [
    "eng2sp = {'one': 'uno', 'two': 'dos', 'three': 'tres'}"
   ]
  },
  {
   "cell_type": "code",
   "execution_count": 2,
   "metadata": {},
   "outputs": [
    {
     "data": {
      "text/plain": [
       "{'one': 'uno', 'two': 'dos', 'three': 'tres'}"
      ]
     },
     "execution_count": 2,
     "metadata": {},
     "output_type": "execute_result"
    }
   ],
   "source": [
    "eng2sp"
   ]
  },
  {
   "cell_type": "code",
   "execution_count": 3,
   "metadata": {},
   "outputs": [
    {
     "data": {
      "text/plain": [
       "dict"
      ]
     },
     "execution_count": 3,
     "metadata": {},
     "output_type": "execute_result"
    }
   ],
   "source": [
    "type(eng2sp)"
   ]
  },
  {
   "cell_type": "code",
   "execution_count": 5,
   "metadata": {},
   "outputs": [],
   "source": [
    "dic = {1.01:'one', 'two':2, 'list':[1,2,3]}"
   ]
  },
  {
   "cell_type": "code",
   "execution_count": 6,
   "metadata": {},
   "outputs": [
    {
     "data": {
      "text/plain": [
       "{1.01: 'one', 'two': 2, 'list': [1, 2, 3]}"
      ]
     },
     "execution_count": 6,
     "metadata": {},
     "output_type": "execute_result"
    }
   ],
   "source": [
    "dic"
   ]
  },
  {
   "cell_type": "markdown",
   "metadata": {},
   "source": [
    "**Note:** \n",
    "\n",
    "* A dictionary is created using a curly bracket\n",
    "\n",
    "* The values in a dictionary are indexed by keys. The keys are needed to be specified while creating a dictionary. \n",
    "\n",
    "* As an example, 'one':'uno' represents a key-value pair."
   ]
  },
  {
   "cell_type": "markdown",
   "metadata": {},
   "source": [
    "*What if we enclose some values (separated by commas) in a curly bracket? What type of object do we get?*\n",
    "\n",
    "* *A dictionary with only keys.*\n",
    "* *A dictionary with elements indexed by integer*\n",
    "* *This object is not a dictionary*"
   ]
  },
  {
   "cell_type": "code",
   "execution_count": 7,
   "metadata": {},
   "outputs": [],
   "source": [
    "#set\n",
    "p = {1,2,3,4}"
   ]
  },
  {
   "cell_type": "code",
   "execution_count": 8,
   "metadata": {},
   "outputs": [
    {
     "data": {
      "text/plain": [
       "set"
      ]
     },
     "execution_count": 8,
     "metadata": {},
     "output_type": "execute_result"
    }
   ],
   "source": [
    "type(p)"
   ]
  },
  {
   "cell_type": "markdown",
   "metadata": {},
   "source": [
    "### Retrieving elements from a dictionary"
   ]
  },
  {
   "cell_type": "code",
   "execution_count": 9,
   "metadata": {},
   "outputs": [
    {
     "data": {
      "text/plain": [
       "'uno'"
      ]
     },
     "execution_count": 9,
     "metadata": {},
     "output_type": "execute_result"
    }
   ],
   "source": [
    "eng2sp['one']"
   ]
  },
  {
   "cell_type": "code",
   "execution_count": 11,
   "metadata": {},
   "outputs": [
    {
     "data": {
      "text/plain": [
       "'one'"
      ]
     },
     "execution_count": 11,
     "metadata": {},
     "output_type": "execute_result"
    }
   ],
   "source": [
    "dic[1.01]"
   ]
  },
  {
   "cell_type": "code",
   "execution_count": 12,
   "metadata": {},
   "outputs": [
    {
     "data": {
      "text/plain": [
       "[1, 2, 3]"
      ]
     },
     "execution_count": 12,
     "metadata": {},
     "output_type": "execute_result"
    }
   ],
   "source": [
    "dic['list']"
   ]
  },
  {
   "cell_type": "markdown",
   "metadata": {},
   "source": [
    "### Slicing a dictionary"
   ]
  },
  {
   "cell_type": "code",
   "execution_count": 13,
   "metadata": {},
   "outputs": [
    {
     "data": {
      "text/plain": [
       "{'one': 'uno', 'two': 'dos', 'three': 'tres'}"
      ]
     },
     "execution_count": 13,
     "metadata": {},
     "output_type": "execute_result"
    }
   ],
   "source": [
    "eng2sp"
   ]
  },
  {
   "cell_type": "code",
   "execution_count": 14,
   "metadata": {},
   "outputs": [
    {
     "name": "stdout",
     "output_type": "stream",
     "text": [
      "uno\n",
      "dos\n"
     ]
    }
   ],
   "source": [
    "for i in ['one', 'two']:\n",
    "    print(eng2sp[i])\n",
    "#the retruned value is not of type dict."
   ]
  },
  {
   "cell_type": "code",
   "execution_count": 16,
   "metadata": {},
   "outputs": [
    {
     "name": "stdout",
     "output_type": "stream",
     "text": [
      "{'one': 'uno', 'two': 'dos'}\n"
     ]
    }
   ],
   "source": [
    "#proper way of slicing\n",
    "dic={} #1st way #creating a empty dict\n",
    "dic = dict() #2nd way\n",
    "\n",
    "for i in ['one','two']:\n",
    "    dic[i]= eng2sp[i]\n",
    "print(dic)"
   ]
  },
  {
   "cell_type": "code",
   "execution_count": 20,
   "metadata": {},
   "outputs": [
    {
     "name": "stdout",
     "output_type": "stream",
     "text": [
      "{'one': 'uno', 'two': 'dos', 'three': 'tres'}\n"
     ]
    }
   ],
   "source": [
    "l = eng2sp.keys()\n",
    "l\n",
    "for i in l:\n",
    "    dic[i] = eng2sp[i]\n",
    "print(dic)"
   ]
  },
  {
   "cell_type": "markdown",
   "metadata": {},
   "source": [
    "### Adding Key-Value in a dictionary"
   ]
  },
  {
   "cell_type": "code",
   "execution_count": 34,
   "metadata": {},
   "outputs": [],
   "source": [
    "dic['four'] = 'Cuatro'"
   ]
  },
  {
   "cell_type": "code",
   "execution_count": 30,
   "metadata": {},
   "outputs": [
    {
     "data": {
      "text/plain": [
       "{'one': 'uno', 'two': 'dos', 'three': 'tres', 'four': 'Cuatro'}"
      ]
     },
     "execution_count": 30,
     "metadata": {},
     "output_type": "execute_result"
    }
   ],
   "source": [
    "dic"
   ]
  },
  {
   "cell_type": "code",
   "execution_count": 31,
   "metadata": {},
   "outputs": [
    {
     "data": {
      "text/plain": [
       "'Cuatro'"
      ]
     },
     "execution_count": 31,
     "metadata": {},
     "output_type": "execute_result"
    }
   ],
   "source": [
    "dic.pop('four') #deleting key, removes the value also"
   ]
  },
  {
   "cell_type": "code",
   "execution_count": 32,
   "metadata": {},
   "outputs": [
    {
     "data": {
      "text/plain": [
       "{'one': 'uno', 'two': 'dos', 'three': 'tres'}"
      ]
     },
     "execution_count": 32,
     "metadata": {},
     "output_type": "execute_result"
    }
   ],
   "source": [
    "dic"
   ]
  },
  {
   "cell_type": "code",
   "execution_count": 35,
   "metadata": {},
   "outputs": [
    {
     "data": {
      "text/plain": [
       "{'one': 'uno', 'two': 'dos', 'three': 'tres'}"
      ]
     },
     "execution_count": 35,
     "metadata": {},
     "output_type": "execute_result"
    }
   ],
   "source": [
    "#another way of deleting key-value pair\n",
    "del dic['four']\n",
    "dic"
   ]
  },
  {
   "cell_type": "markdown",
   "metadata": {},
   "source": [
    "### in Operator for Dictionary"
   ]
  },
  {
   "cell_type": "markdown",
   "metadata": {},
   "source": [
    "The in operator works on dictionaries; it tells you whether something appears as a key in the dictionary"
   ]
  },
  {
   "cell_type": "code",
   "execution_count": 36,
   "metadata": {},
   "outputs": [
    {
     "data": {
      "text/plain": [
       "True"
      ]
     },
     "execution_count": 36,
     "metadata": {},
     "output_type": "execute_result"
    }
   ],
   "source": [
    "'one' in eng2sp"
   ]
  },
  {
   "cell_type": "code",
   "execution_count": 37,
   "metadata": {},
   "outputs": [
    {
     "data": {
      "text/plain": [
       "False"
      ]
     },
     "execution_count": 37,
     "metadata": {},
     "output_type": "execute_result"
    }
   ],
   "source": [
    "'uno' in eng2sp #it only works for keys"
   ]
  },
  {
   "cell_type": "markdown",
   "metadata": {},
   "source": [
    "### Counting the Frequency Distribution of Letters in a Word"
   ]
  },
  {
   "cell_type": "code",
   "execution_count": 7,
   "metadata": {},
   "outputs": [
    {
     "name": "stdout",
     "output_type": "stream",
     "text": [
      "[['p', 0], ['i', 0], ['n', 0], ['e', 0], ['a', 0], ['p', 0], ['p', 0], ['l', 0], ['e', 0]]\n"
     ]
    }
   ],
   "source": [
    "#Frequency distriution of the letters in 'banana' \n",
    "#with concepts of List and variable\n",
    "f = 'pineapple'\n",
    "def split(string):\n",
    "    return [c for c in f]\n",
    "L = split(f)\n",
    "counter_L = []\n",
    "count = 0\n",
    "for i in L:\n",
    "    if i in counter_L:\n",
    "        count += 1\n",
    "        counter_L.index([i,count])\n",
    "    else:\n",
    "        counter_L.append([i,0])\n",
    "print(counter_L)"
   ]
  },
  {
   "cell_type": "code",
   "execution_count": 17,
   "metadata": {},
   "outputs": [
    {
     "name": "stdout",
     "output_type": "stream",
     "text": [
      " Element | Frequency\n",
      "    p    |    3\n",
      "    i    |    1\n",
      "    n    |    1\n",
      "    e    |    2\n",
      "    a    |    1\n",
      "    l    |    1\n"
     ]
    }
   ],
   "source": [
    "arr = L\n",
    "fr = [None] * len(arr);    \n",
    "visited = -1;    \n",
    "     \n",
    "for i in range(0, len(arr)):    \n",
    "    count = 1;    \n",
    "    for j in range(i+1, len(arr)):    \n",
    "        if(arr[i] == arr[j]):    \n",
    "            count = count + 1;    \n",
    "            #To avoid counting same element again    \n",
    "            fr[j] = visited;    \n",
    "                \n",
    "    if(fr[i] != visited):    \n",
    "        fr[i] = count;    \n",
    "#Displays the frequency of each element present in array    \n",
    "print(\" Element | Frequency\");    \n",
    "for i in range(0, len(fr)):    \n",
    "    if(fr[i] != visited):    \n",
    "        print(\"    \" + str(arr[i]) + \"    |    \" + str(fr[i]));    "
   ]
  },
  {
   "cell_type": "code",
   "execution_count": 13,
   "metadata": {},
   "outputs": [
    {
     "data": {
      "text/plain": [
       "Counter({'p': 3, 'i': 1, 'n': 1, 'e': 2, 'a': 1, 'l': 1})"
      ]
     },
     "execution_count": 13,
     "metadata": {},
     "output_type": "execute_result"
    }
   ],
   "source": [
    "import collections\n",
    "countr = collections.Counter(L)\n",
    "countr"
   ]
  },
  {
   "cell_type": "code",
   "execution_count": 2,
   "metadata": {},
   "outputs": [
    {
     "data": {
      "text/plain": [
       "{'b': 1, 'a': 3, 'n': 2}"
      ]
     },
     "execution_count": 2,
     "metadata": {},
     "output_type": "execute_result"
    }
   ],
   "source": [
    "#Frequency distriution of the letters in 'banana'\n",
    "#using dict\n",
    "s = 'banana'\n",
    "dic_s = {}\n",
    "for i in s:\n",
    "    if i in dic_s:\n",
    "        dic_s[i] += 1\n",
    "    else:\n",
    "        dic_s[i] = 1\n",
    "dic_s"
   ]
  },
  {
   "cell_type": "markdown",
   "metadata": {},
   "source": [
    "**The 'get' method for dictionary**"
   ]
  },
  {
   "cell_type": "markdown",
   "metadata": {},
   "source": [
    " Dictionaries have a method called get that takes a key and a default value. If the key appears in the dictionary, get returns the corresponding value; otherwise it returns the default value. "
   ]
  },
  {
   "cell_type": "code",
   "execution_count": 5,
   "metadata": {},
   "outputs": [
    {
     "data": {
      "text/plain": [
       "{'one': 'uno', 'two': 'dos', 'three': 'tres'}"
      ]
     },
     "execution_count": 5,
     "metadata": {},
     "output_type": "execute_result"
    }
   ],
   "source": [
    "eng2sp"
   ]
  },
  {
   "cell_type": "code",
   "execution_count": 8,
   "metadata": {},
   "outputs": [
    {
     "name": "stdout",
     "output_type": "stream",
     "text": [
      "Value not Found\n",
      "dos\n"
     ]
    }
   ],
   "source": [
    "print(eng2sp.get('ten','Value not Found'))\n",
    "print(eng2sp.get('two','Value not Found'))"
   ]
  },
  {
   "cell_type": "markdown",
   "metadata": {},
   "source": [
    "**Making the counting simple using the 'get' method**"
   ]
  },
  {
   "cell_type": "code",
   "execution_count": 22,
   "metadata": {},
   "outputs": [
    {
     "data": {
      "text/plain": [
       "{'b': 1, 'a': 3, 'n': 2}"
      ]
     },
     "execution_count": 22,
     "metadata": {},
     "output_type": "execute_result"
    }
   ],
   "source": [
    "#frequency dist, in simpilar form\n",
    "count={}\n",
    "string = 'banana'\n",
    "for i in string:\n",
    "    count[i]= count.get(i,0)+1\n",
    "count"
   ]
  },
  {
   "cell_type": "markdown",
   "metadata": {},
   "source": [
    "### A Common Use of Dictionaries"
   ]
  },
  {
   "cell_type": "markdown",
   "metadata": {
    "collapsed": true
   },
   "source": [
    "One of the common uses of a dictionary is to count the occurrence of words in a ﬁle with some written text."
   ]
  },
  {
   "cell_type": "code",
   "execution_count": 12,
   "metadata": {},
   "outputs": [
    {
     "data": {
      "text/plain": [
       "'C:\\\\Users\\\\Goutham-ROG\\\\Documents\\\\1-Codes\\\\Python - codes\\\\D20 Py- college\\\\Class exercise'"
      ]
     },
     "execution_count": 12,
     "metadata": {},
     "output_type": "execute_result"
    }
   ],
   "source": [
    "%pwd"
   ]
  },
  {
   "cell_type": "code",
   "execution_count": 26,
   "metadata": {},
   "outputs": [
    {
     "data": {
      "text/plain": [
       "{'the': 7,\n",
       " 'cock': 3,\n",
       " 'and': 3,\n",
       " 'pearl': 2,\n",
       " 'a': 5,\n",
       " 'was': 1,\n",
       " 'once': 1,\n",
       " 'strutting': 1,\n",
       " 'up': 1,\n",
       " 'down': 1,\n",
       " 'farmyard': 1,\n",
       " 'among': 1,\n",
       " 'hens': 1,\n",
       " 'when': 1,\n",
       " 'suddenly': 1,\n",
       " 'he': 2,\n",
       " 'espied': 1,\n",
       " 'something': 1,\n",
       " 'shinning': 1,\n",
       " 'amid': 1,\n",
       " 'straw': 2,\n",
       " 'ho': 2,\n",
       " 'quoth': 2,\n",
       " 'thats': 1,\n",
       " 'for': 3,\n",
       " 'me': 2,\n",
       " 'soon': 1,\n",
       " 'rooted': 1,\n",
       " 'it': 2,\n",
       " 'out': 2,\n",
       " 'from': 1,\n",
       " 'beneath': 1,\n",
       " 'what': 1,\n",
       " 'did': 1,\n",
       " 'turn': 1,\n",
       " 'to': 2,\n",
       " 'be': 2,\n",
       " 'but': 2,\n",
       " 'that': 3,\n",
       " 'by': 1,\n",
       " 'some': 1,\n",
       " 'chance': 1,\n",
       " 'had': 1,\n",
       " 'been': 1,\n",
       " 'lost': 1,\n",
       " 'in': 1,\n",
       " 'yard': 1,\n",
       " 'you': 1,\n",
       " 'may': 1,\n",
       " 'treasure': 1,\n",
       " 'master': 1,\n",
       " 'men': 1,\n",
       " 'prize': 2,\n",
       " 'you,': 1,\n",
       " 'i': 1,\n",
       " 'would': 1,\n",
       " 'rather': 1,\n",
       " 'have': 1,\n",
       " 'single': 1,\n",
       " 'barley-corn': 1,\n",
       " 'than': 1,\n",
       " 'peck': 1,\n",
       " 'of': 1,\n",
       " 'pearls': 1,\n",
       " 'precious': 1,\n",
       " 'things': 1,\n",
       " 'are': 1,\n",
       " 'those': 1,\n",
       " 'can': 1,\n",
       " 'them': 1}"
      ]
     },
     "execution_count": 26,
     "metadata": {},
     "output_type": "execute_result"
    }
   ],
   "source": [
    "#Exercise: Read the Ashop1.txt file and count the frequency of words\n",
    "import os\n",
    "os.chdir(r\"C:\\\\Users\\\\Goutham-ROG\\\\Documents\\\\1-Codes\\\\Python - codes\\\\D20 Py- college\\\\Class exercise\")\n",
    "ashop1 = open('Ashop1.txt')\n",
    "\n",
    "count = {}\n",
    "\n",
    "for line in ashop1:\n",
    "    words = line.strip().lower().split()\n",
    "#     line = line.strip()  #removing extra spaces\n",
    "#     line = line.lower()   #in order to avoid mismatch\n",
    "#     words = line.split()  #splitting line into words\n",
    "    \n",
    "    for w in words:\n",
    "        count[w] = count.get(w,0) + 1\n",
    "\n",
    "count"
   ]
  },
  {
   "cell_type": "code",
   "execution_count": null,
   "metadata": {},
   "outputs": [],
   "source": [
    "#Printing words with count greater than or equal to 2\n"
   ]
  },
  {
   "cell_type": "code",
   "execution_count": null,
   "metadata": {},
   "outputs": [],
   "source": [
    "#Printing keys in alphabetical order:\n",
    "\n",
    "#But before that....\n",
    "#Method keys - makes a dict of keys\n"
   ]
  },
  {
   "cell_type": "code",
   "execution_count": null,
   "metadata": {},
   "outputs": [],
   "source": []
  },
  {
   "cell_type": "code",
   "execution_count": null,
   "metadata": {},
   "outputs": [],
   "source": []
  },
  {
   "cell_type": "code",
   "execution_count": null,
   "metadata": {},
   "outputs": [],
   "source": []
  },
  {
   "cell_type": "code",
   "execution_count": null,
   "metadata": {},
   "outputs": [],
   "source": []
  },
  {
   "cell_type": "markdown",
   "metadata": {},
   "source": [
    "### Advanced Text Parsing"
   ]
  },
  {
   "cell_type": "markdown",
   "metadata": {
    "collapsed": true
   },
   "source": [
    "The actual text for this particular Ashop's fable is given in the file Ashop.txt. The actual file has lots of punctuations. We should also take care of the case sensitivity."
   ]
  },
  {
   "cell_type": "code",
   "execution_count": 29,
   "metadata": {},
   "outputs": [
    {
     "name": "stdout",
     "output_type": "stream",
     "text": [
      "The Cock and the Pearl\n",
      "\n",
      "A cock was once strutting up and down the farmyard among the\n",
      "hens when suddenly he espied something shinning amid the straw.\n",
      "\"Ho! ho!\" quoth he, \"that's for me,\" and soon rooted it out from\n",
      "beneath the straw.  What did it turn out to be but a Pearl that by\n",
      "some chance had been lost in the yard?  \"You may be a treasure,\"\n",
      "quoth Master Cock, \"to men that prize you, but for me I would\n",
      "rather have a single barley-corn than a peck of pearls.\"\n",
      "\n",
      "Precious things are for those that can prize them.\n"
     ]
    }
   ],
   "source": [
    "import os\n",
    "os.chdir(r\"C:\\\\Users\\\\Goutham-ROG\\\\Documents\\\\1-Codes\\\\Python - codes\\\\D20 Py- college\\\\Class exercise\")\n",
    "ashop = open('Ashop.txt')\n",
    "\n",
    "for line in ashop:\n",
    "    print(line.rstrip())"
   ]
  },
  {
   "cell_type": "code",
   "execution_count": 27,
   "metadata": {},
   "outputs": [
    {
     "data": {
      "text/plain": [
       "'!\"#$%&\\'()*+,-./:;<=>?@[\\\\]^_`{|}~'"
      ]
     },
     "execution_count": 27,
     "metadata": {},
     "output_type": "execute_result"
    }
   ],
   "source": [
    "#Before we do so lets look at some other thing.\n",
    "\n",
    "#1. punctuation\n",
    "import string\n",
    "p = string.punctuation\n",
    "p"
   ]
  },
  {
   "cell_type": "code",
   "execution_count": 30,
   "metadata": {},
   "outputs": [
    {
     "data": {
      "text/plain": [
       "'WoxhWWWx'"
      ]
     },
     "execution_count": 30,
     "metadata": {},
     "output_type": "execute_result"
    }
   ],
   "source": [
    "#2. translate method for string\n",
    "# str.maketrans()\n",
    "\n",
    "#This uses the 3-argument version of str.maketrans with arguments (x, y, z) where 'x' and 'y'\n",
    "# must be equal-length strings and characters in 'x' are replaced by characters in 'y'. 'z'\n",
    "# is a string (string.punctuation here) where each character in the string is mapped to None\n",
    "\n",
    "s = \"woahwwwa!?\"\n",
    "trans = str.maketrans(\"wabc\", \"Wxyz\",\"d!?\")  #replace 'w' by 'W' and 3rd argument- '!?' mapped to none\n",
    "s = s.translate(trans)\n",
    "s\n"
   ]
  },
  {
   "cell_type": "code",
   "execution_count": 31,
   "metadata": {},
   "outputs": [
    {
     "data": {
      "text/plain": [
       "{119: 87, 97: 120, 98: 121, 99: 122, 100: None, 33: None, 63: None}"
      ]
     },
     "execution_count": 31,
     "metadata": {},
     "output_type": "execute_result"
    }
   ],
   "source": [
    "trans # these are ascii values, we are using this common translator to map it to changes"
   ]
  },
  {
   "attachments": {
    "image.png": {
     "image/png": "[encoded data removed]"
    }
   },
   "cell_type": "markdown",
   "metadata": {},
   "source": [
    "![image.png](attachment:image.png)"
   ]
  },
  {
   "cell_type": "code",
   "execution_count": 34,
   "metadata": {},
   "outputs": [
    {
     "data": {
      "text/plain": [
       "{'the': 7,\n",
       " 'cock': 3,\n",
       " 'and': 3,\n",
       " 'pearl': 2,\n",
       " 'a': 5,\n",
       " 'was': 1,\n",
       " 'once': 1,\n",
       " 'strutting': 1,\n",
       " 'up': 1,\n",
       " 'down': 1,\n",
       " 'farmyard': 1,\n",
       " 'among': 1,\n",
       " 'hens': 1,\n",
       " 'when': 1,\n",
       " 'suddenly': 1,\n",
       " 'he': 2,\n",
       " 'espied': 1,\n",
       " 'something': 1,\n",
       " 'shinning': 1,\n",
       " 'amid': 1,\n",
       " 'straw': 2,\n",
       " 'ho': 2,\n",
       " 'quoth': 2,\n",
       " 'thats': 1,\n",
       " 'for': 3,\n",
       " 'me': 2,\n",
       " 'soon': 1,\n",
       " 'rooted': 1,\n",
       " 'it': 2,\n",
       " 'out': 2,\n",
       " 'from': 1,\n",
       " 'beneath': 1,\n",
       " 'what': 1,\n",
       " 'did': 1,\n",
       " 'turn': 1,\n",
       " 'to': 2,\n",
       " 'be': 2,\n",
       " 'but': 2,\n",
       " 'that': 3,\n",
       " 'by': 1,\n",
       " 'some': 1,\n",
       " 'chance': 1,\n",
       " 'had': 1,\n",
       " 'been': 1,\n",
       " 'lost': 1,\n",
       " 'in': 1,\n",
       " 'yard': 1,\n",
       " 'you': 2,\n",
       " 'may': 1,\n",
       " 'treasure': 1,\n",
       " 'master': 1,\n",
       " 'men': 1,\n",
       " 'prize': 2,\n",
       " 'i': 1,\n",
       " 'would': 1,\n",
       " 'rather': 1,\n",
       " 'have': 1,\n",
       " 'single': 1,\n",
       " 'barleycorn': 1,\n",
       " 'than': 1,\n",
       " 'peck': 1,\n",
       " 'of': 1,\n",
       " 'pearls': 1,\n",
       " 'precious': 1,\n",
       " 'things': 1,\n",
       " 'are': 1,\n",
       " 'those': 1,\n",
       " 'can': 1,\n",
       " 'them': 1}"
      ]
     },
     "execution_count": 34,
     "metadata": {},
     "output_type": "execute_result"
    }
   ],
   "source": [
    "ashop = open('Ashop.txt')\n",
    "\n",
    "count = {}\n",
    "\n",
    "for line in ashop:\n",
    "    line = line.translate(str.maketrans(\"\",\"\", string.punctuation))\n",
    "#the above line maps all punctuations to none and strips it\n",
    "    #     line = line.strip()  #removing extra spaces\n",
    "    line = line.lower()   #in order to avoid mismatch\n",
    "    words = line.split()  #splitting line into words\n",
    "    \n",
    "    for w in words:\n",
    "        count[w] = count.get(w,0) + 1\n",
    "\n",
    "count"
   ]
  },
  {
   "cell_type": "markdown",
   "metadata": {
    "collapsed": true
   },
   "source": [
    "### Further Problems"
   ]
  },
  {
   "cell_type": "markdown",
   "metadata": {},
   "source": [
    "**Problem 1**\n",
    "\n",
    "Write a program that categorizes each mail message by which day of the week the commit was done.\n",
    "\n",
    "    Sample Line: \n",
    "    From stephen.marquard@uct.ac.za Sat Jan 5 09:14:16 2008\n",
    "\n",
    "    Sample Execution: \n",
    "    python dow.py \n",
    "    Enter a file name: mbox-short.txt \n",
    "    {'Fri': 20, 'Thu': 6, 'Sat': 1}"
   ]
  },
  {
   "cell_type": "code",
   "execution_count": null,
   "metadata": {},
   "outputs": [],
   "source": [
    "import os\n",
    "os.chdir(\"C:\\\\Users\\\\Gourab\\\\Downloads\")"
   ]
  },
  {
   "cell_type": "code",
   "execution_count": null,
   "metadata": {},
   "outputs": [],
   "source": [
    "fhand = open('mbox.txt')\n"
   ]
  },
  {
   "cell_type": "markdown",
   "metadata": {},
   "source": [
    "**Problem 2**\n",
    "\n",
    "From where did they receive most of their messages\n",
    "\n",
    "    Enter a file name: mbox.txt \n",
    "    zqian@umich.edu 195"
   ]
  },
  {
   "cell_type": "code",
   "execution_count": null,
   "metadata": {},
   "outputs": [],
   "source": []
  },
  {
   "cell_type": "markdown",
   "metadata": {
    "collapsed": true
   },
   "source": [
    "**Problem 3**\n",
    "\n",
    "Write a program to record the domain name (instead of the address) where the message was sent from instead of who the mail came from (i.e. the whole e-mail address). At the end of the program print out the contents of your dictionary."
   ]
  },
  {
   "cell_type": "code",
   "execution_count": null,
   "metadata": {},
   "outputs": [],
   "source": []
  }
 ],
 "metadata": {
  "kernelspec": {
   "display_name": "Python 3",
   "language": "python",
   "name": "python3"
  },
  "language_info": {
   "codemirror_mode": {
    "name": "ipython",
    "version": 3
   },
   "file_extension": ".py",
   "mimetype": "text/x-python",
   "name": "python",
   "nbconvert_exporter": "python",
   "pygments_lexer": "ipython3",
   "version": "3.8.3"
  }
 },
 "nbformat": 4,
 "nbformat_minor": 2
}
